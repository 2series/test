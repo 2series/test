{
  "nbformat": 4,
  "nbformat_minor": 0,
  "metadata": {
    "colab": {
      "name": "HousePricePrediction20220714.ipynb",
      "private_outputs": true,
      "provenance": [],
      "authorship_tag": "ABX9TyMR3S4F0hei81MEmWuDFFEw",
      "include_colab_link": true
    },
    "kernelspec": {
      "name": "python3",
      "display_name": "Python 3"
    },
    "language_info": {
      "name": "python"
    },
    "accelerator": "GPU",
    "gpuClass": "standard"
  },
  "cells": [
    {
      "cell_type": "markdown",
      "metadata": {
        "id": "view-in-github",
        "colab_type": "text"
      },
      "source": [
        "<a href=\"https://colab.research.google.com/github/2series/test/blob/main/HousePricePrediction20220714.ipynb\" target=\"_parent\"><img src=\"https://colab.research.google.com/assets/colab-badge.svg\" alt=\"Open In Colab\"/></a>"
      ]
    },
    {
      "cell_type": "code",
      "execution_count": null,
      "metadata": {
        "id": "9c9PF2EK3YqO"
      },
      "outputs": [],
      "source": [
        "#!pip install pycaret\n",
        "!pip install pycaret --user"
      ]
    },
    {
      "cell_type": "code",
      "source": [
        "!pip install markupsafe==2.0.1"
      ],
      "metadata": {
        "id": "eKMHxfIx5wbe"
      },
      "execution_count": null,
      "outputs": []
    },
    {
      "cell_type": "code",
      "source": [
        "from pycaret.utils import version\n",
        "version()"
      ],
      "metadata": {
        "id": "aGLiCWt53fKS"
      },
      "execution_count": null,
      "outputs": []
    },
    {
      "cell_type": "code",
      "source": [
        "import jinja2\n",
        "from pycaret.classification import *\n",
        "import pandas as pd\n",
        "import numpy as np"
      ],
      "metadata": {
        "id": "ZTeEfLGH3phC"
      },
      "execution_count": null,
      "outputs": []
    },
    {
      "cell_type": "code",
      "source": [
        "df = pd.read_csv('/content/house_pricing_train.csv')\n",
        "df.head()"
      ],
      "metadata": {
        "id": "jsCFUgfP4Ldq"
      },
      "execution_count": null,
      "outputs": []
    },
    {
      "cell_type": "code",
      "source": [
        "df.dtypes"
      ],
      "metadata": {
        "id": "bMaVmgTX6v5S"
      },
      "execution_count": null,
      "outputs": []
    },
    {
      "cell_type": "code",
      "source": [
        "# Correation matrix based on target feature\n",
        "corr_matrix = df.corr()\n",
        "print(corr_matrix['SalePrice'].sort_values(ascending=False))"
      ],
      "metadata": {
        "id": "8Dcp5Rtu64iW"
      },
      "execution_count": null,
      "outputs": []
    },
    {
      "cell_type": "code",
      "source": [
        "reg = setup(data=df, target='SalePrice', session_id=123, \n",
        "          normalize=True)"
      ],
      "metadata": {
        "id": "esZ-WMKm7mA8"
      },
      "execution_count": null,
      "outputs": []
    },
    {
      "cell_type": "code",
      "source": [
        "models()"
      ],
      "metadata": {
        "id": "uqKp1gJX7y0t"
      },
      "execution_count": null,
      "outputs": []
    },
    {
      "cell_type": "code",
      "source": [
        ""
      ],
      "metadata": {
        "id": "DRR5UL8J9eL8"
      },
      "execution_count": null,
      "outputs": []
    }
  ]
}