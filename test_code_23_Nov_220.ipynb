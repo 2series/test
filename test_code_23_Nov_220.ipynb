{
  "nbformat": 4,
  "nbformat_minor": 0,
  "metadata": {
    "colab": {
      "name": "test-code-23-Nov-220.ipynb",
      "provenance": [],
      "collapsed_sections": [],
      "authorship_tag": "ABX9TyMYkFnVG/uL/EwDhoWr92iD"
    },
    "kernelspec": {
      "name": "python3",
      "display_name": "Python 3"
    }
  },
  "cells": [
    {
      "cell_type": "markdown",
      "metadata": {
        "id": "PlzRW3M1HLd-"
      },
      "source": [
        "# Get Data\n"
      ]
    },
    {
      "cell_type": "code",
      "metadata": {
        "id": "9ChgR37PiKp_"
      },
      "source": [
        "# Code to read csv file into Colaboratory:\n",
        "!pip install -U -q PyDrive\n",
        "from pydrive.auth import GoogleAuth\n",
        "from pydrive.drive import GoogleDrive\n",
        "from google.colab import auth\n",
        "from oauth2client.client import GoogleCredentials\n",
        "\n",
        "# Authenticate and create the PyDrive client.\n",
        "auth.authenticate_user()\n",
        "gauth = GoogleAuth()\n",
        "gauth.credentials = GoogleCredentials.get_application_default()\n",
        "drive = GoogleDrive(gauth)"
      ],
      "execution_count": 1,
      "outputs": []
    },
    {
      "cell_type": "code",
      "metadata": {
        "colab": {
          "base_uri": "https://localhost:8080/"
        },
        "id": "T2EU_M92ijNJ",
        "outputId": "f89f5d3d-6b3a-4116-e30a-7a2a48d50722"
      },
      "source": [
        "# Import PyDrive and associated libraries.\n",
        "# This only needs to be done once per notebook.\n",
        "from pydrive.auth import GoogleAuth\n",
        "from pydrive.drive import GoogleDrive\n",
        "from google.colab import auth\n",
        "from oauth2client.client import GoogleCredentials\n",
        "\n",
        "# Authenticate and create the PyDrive client.\n",
        "# This only needs to be done once per notebook.\n",
        "auth.authenticate_user()\n",
        "gauth = GoogleAuth()\n",
        "gauth.credentials = GoogleCredentials.get_application_default()\n",
        "drive = GoogleDrive(gauth)\n",
        "\n",
        "# Download a file based on its file ID.\n",
        "# A file ID looks like: laggVyWshwcyP6kEI-y_W3P8D26sz\n",
        "\n",
        "file_id = '12nRGXBL6u38sCET_x1OmLW6Hlthob-e_' # app_data_final.csv\n",
        "downloaded = drive.CreateFile({'id': file_id})\n",
        "print('Downloaded content \"{}\"'.format(downloaded.GetContentString()))"
      ],
      "execution_count": 2,
      "outputs": [
        {
          "output_type": "stream",
          "text": [
            "IOPub data rate exceeded.\n",
            "The notebook server will temporarily stop sending output\n",
            "to the client in order to avoid crashing it.\n",
            "To change this limit, set the config variable\n",
            "`--NotebookApp.iopub_data_rate_limit`.\n",
            "\n",
            "Current values:\n",
            "NotebookApp.iopub_data_rate_limit=1000000.0 (bytes/sec)\n",
            "NotebookApp.rate_limit_window=3.0 (secs)\n",
            "\n"
          ],
          "name": "stderr"
        }
      ]
    },
    {
      "cell_type": "code",
      "metadata": {
        "id": "wgNNEyqYi2BK"
      },
      "source": [
        "# The shareable link\n",
        "link = 'https://drive.google.com/open?id=12nRGXBL6u38sCET_x1OmLW6Hlthob-e_'"
      ],
      "execution_count": 3,
      "outputs": []
    },
    {
      "cell_type": "code",
      "metadata": {
        "colab": {
          "base_uri": "https://localhost:8080/"
        },
        "id": "FJ1ul78QjZni",
        "outputId": "c45ff81f-d9de-4406-9a63-40480498ccbd"
      },
      "source": [
        "# Verify everything after '='\n",
        "fluff, id = link.split('=')\n",
        "print (id) "
      ],
      "execution_count": 4,
      "outputs": [
        {
          "output_type": "stream",
          "text": [
            "12nRGXBL6u38sCET_x1OmLW6Hlthob-e_\n"
          ],
          "name": "stdout"
        }
      ]
    },
    {
      "cell_type": "markdown",
      "metadata": {
        "id": "PGADbDTNEtWr"
      },
      "source": [
        "### Import libraries and prepare the data"
      ]
    },
    {
      "cell_type": "code",
      "metadata": {
        "id": "uo2Tzv3nj5uC"
      },
      "source": [
        "# Pandas and numpy for data manipulation\n",
        "import pandas as pd\n",
        "import numpy as np\n",
        "\n",
        "# Display up to 60 columns of a dataframe\n",
        "pd.set_option('display.max_columns', 60)\n",
        "\n",
        "# Matplotlib visualization\n",
        "import matplotlib.pyplot as plt\n",
        "%matplotlib inline\n",
        "\n",
        "# Set default font size\n",
        "plt.rcParams['font.size']=24\n",
        "\n",
        "# Internal ipython tool for setting figure size\n",
        "from IPython.core.pylabtools import figsize\n",
        "\n",
        "# Seaborn for visualization\n",
        "import seaborn as sns\n",
        "sns.set(font_scale=2)\n",
        "\n",
        "# To ignore deprecation warnings\n",
        "import warnings\n",
        "warnings.filterwarnings(\"ignore\")\n",
        "\n",
        "# No warnings about setting value on copy of slice\n",
        "pd.options.mode.chained_assignment=None\n",
        "\n",
        "# Splitting data into training and testing\n",
        "from sklearn.model_selection import train_test_split"
      ],
      "execution_count": 5,
      "outputs": []
    },
    {
      "cell_type": "code",
      "metadata": {
        "colab": {
          "base_uri": "https://localhost:8080/",
          "height": 275
        },
        "id": "CLoIoYCdjbpp",
        "outputId": "ba13f80b-db20-4c69-f39e-80c631942c0b"
      },
      "source": [
        "# Stored dataset in a Pandas Dataframe\n",
        "downloaded = drive.CreateFile({'id':id}) \n",
        "downloaded.GetContentFile('app_data_final.csv') \n",
        "\n",
        "# Read in data into a dataframe\n",
        "df = pd.read_csv('app_data_final.csv')\n",
        "\n",
        "# Display top of dataframe\n",
        "df.head()"
      ],
      "execution_count": 6,
      "outputs": [
        {
          "output_type": "execute_result",
          "data": {
            "text/html": [
              "<div>\n",
              "<style scoped>\n",
              "    .dataframe tbody tr th:only-of-type {\n",
              "        vertical-align: middle;\n",
              "    }\n",
              "\n",
              "    .dataframe tbody tr th {\n",
              "        vertical-align: top;\n",
              "    }\n",
              "\n",
              "    .dataframe thead th {\n",
              "        text-align: right;\n",
              "    }\n",
              "</style>\n",
              "<table border=\"1\" class=\"dataframe\">\n",
              "  <thead>\n",
              "    <tr style=\"text-align: right;\">\n",
              "      <th></th>\n",
              "      <th>SK_ID_CURR</th>\n",
              "      <th>TARGET</th>\n",
              "      <th>NAME_CONTRACT_TYPE</th>\n",
              "      <th>CODE_GENDER</th>\n",
              "      <th>FLAG_OWN_CAR</th>\n",
              "      <th>FLAG_OWN_REALTY</th>\n",
              "      <th>CNT_CHILDREN</th>\n",
              "      <th>AMT_INCOME_TOTAL</th>\n",
              "      <th>AMT_CREDIT</th>\n",
              "      <th>AMT_ANNUITY</th>\n",
              "      <th>AMT_GOODS_PRICE</th>\n",
              "      <th>NAME_TYPE_SUITE</th>\n",
              "      <th>NAME_INCOME_TYPE</th>\n",
              "      <th>NAME_EDUCATION_TYPE</th>\n",
              "      <th>NAME_FAMILY_STATUS</th>\n",
              "      <th>NAME_HOUSING_TYPE</th>\n",
              "      <th>REGION_POPULATION_RELATIVE</th>\n",
              "      <th>OWN_CAR_AGE</th>\n",
              "      <th>FLAG_PHONE</th>\n",
              "      <th>FLAG_EMAIL</th>\n",
              "      <th>OCCUPATION_TYPE</th>\n",
              "      <th>CNT_FAM_MEMBERS</th>\n",
              "      <th>REGION_RATING_CLIENT</th>\n",
              "      <th>HOUR_APPR_PROCESS_START</th>\n",
              "      <th>ORGANIZATION_TYPE</th>\n",
              "      <th>EXT_SOURCE_1</th>\n",
              "      <th>EXT_SOURCE_2</th>\n",
              "      <th>EXT_SOURCE_3</th>\n",
              "      <th>AMT_REQ_CREDIT_BUREAU_HOUR</th>\n",
              "      <th>AMT_REQ_CREDIT_BUREAU_DAY</th>\n",
              "      <th>AMT_REQ_CREDIT_BUREAU_WEEK</th>\n",
              "      <th>AMT_REQ_CREDIT_BUREAU_MON</th>\n",
              "      <th>AMT_REQ_CREDIT_BUREAU_QRT</th>\n",
              "      <th>AMT_REQ_CREDIT_BUREAU_YEAR</th>\n",
              "    </tr>\n",
              "  </thead>\n",
              "  <tbody>\n",
              "    <tr>\n",
              "      <th>0</th>\n",
              "      <td>100002</td>\n",
              "      <td>1</td>\n",
              "      <td>Cash loans</td>\n",
              "      <td>M</td>\n",
              "      <td>N</td>\n",
              "      <td>Y</td>\n",
              "      <td>0</td>\n",
              "      <td>202500.0</td>\n",
              "      <td>406597.5</td>\n",
              "      <td>24700.5</td>\n",
              "      <td>351000.0</td>\n",
              "      <td>Unaccompanied</td>\n",
              "      <td>Working</td>\n",
              "      <td>Secondary / secondary special</td>\n",
              "      <td>Single / not married</td>\n",
              "      <td>House / apartment</td>\n",
              "      <td>0.018801</td>\n",
              "      <td>NaN</td>\n",
              "      <td>1</td>\n",
              "      <td>0</td>\n",
              "      <td>Laborers</td>\n",
              "      <td>1.0</td>\n",
              "      <td>2</td>\n",
              "      <td>10</td>\n",
              "      <td>Business Entity Type 3</td>\n",
              "      <td>0.083037</td>\n",
              "      <td>0.262949</td>\n",
              "      <td>0.139376</td>\n",
              "      <td>0.0</td>\n",
              "      <td>0.0</td>\n",
              "      <td>0.0</td>\n",
              "      <td>0.0</td>\n",
              "      <td>0.0</td>\n",
              "      <td>1.0</td>\n",
              "    </tr>\n",
              "    <tr>\n",
              "      <th>1</th>\n",
              "      <td>100003</td>\n",
              "      <td>0</td>\n",
              "      <td>Cash loans</td>\n",
              "      <td>F</td>\n",
              "      <td>N</td>\n",
              "      <td>N</td>\n",
              "      <td>0</td>\n",
              "      <td>270000.0</td>\n",
              "      <td>1293502.5</td>\n",
              "      <td>35698.5</td>\n",
              "      <td>1129500.0</td>\n",
              "      <td>Family</td>\n",
              "      <td>State servant</td>\n",
              "      <td>Higher education</td>\n",
              "      <td>Married</td>\n",
              "      <td>House / apartment</td>\n",
              "      <td>0.003541</td>\n",
              "      <td>NaN</td>\n",
              "      <td>1</td>\n",
              "      <td>0</td>\n",
              "      <td>Core staff</td>\n",
              "      <td>2.0</td>\n",
              "      <td>1</td>\n",
              "      <td>11</td>\n",
              "      <td>School</td>\n",
              "      <td>0.311267</td>\n",
              "      <td>0.622246</td>\n",
              "      <td>NaN</td>\n",
              "      <td>0.0</td>\n",
              "      <td>0.0</td>\n",
              "      <td>0.0</td>\n",
              "      <td>0.0</td>\n",
              "      <td>0.0</td>\n",
              "      <td>0.0</td>\n",
              "    </tr>\n",
              "    <tr>\n",
              "      <th>2</th>\n",
              "      <td>100004</td>\n",
              "      <td>0</td>\n",
              "      <td>Revolving loans</td>\n",
              "      <td>M</td>\n",
              "      <td>Y</td>\n",
              "      <td>Y</td>\n",
              "      <td>0</td>\n",
              "      <td>67500.0</td>\n",
              "      <td>135000.0</td>\n",
              "      <td>6750.0</td>\n",
              "      <td>135000.0</td>\n",
              "      <td>Unaccompanied</td>\n",
              "      <td>Working</td>\n",
              "      <td>Secondary / secondary special</td>\n",
              "      <td>Single / not married</td>\n",
              "      <td>House / apartment</td>\n",
              "      <td>0.010032</td>\n",
              "      <td>26.0</td>\n",
              "      <td>1</td>\n",
              "      <td>0</td>\n",
              "      <td>Laborers</td>\n",
              "      <td>1.0</td>\n",
              "      <td>2</td>\n",
              "      <td>9</td>\n",
              "      <td>Government</td>\n",
              "      <td>NaN</td>\n",
              "      <td>0.555912</td>\n",
              "      <td>0.729567</td>\n",
              "      <td>0.0</td>\n",
              "      <td>0.0</td>\n",
              "      <td>0.0</td>\n",
              "      <td>0.0</td>\n",
              "      <td>0.0</td>\n",
              "      <td>0.0</td>\n",
              "    </tr>\n",
              "    <tr>\n",
              "      <th>3</th>\n",
              "      <td>100006</td>\n",
              "      <td>0</td>\n",
              "      <td>Cash loans</td>\n",
              "      <td>F</td>\n",
              "      <td>N</td>\n",
              "      <td>Y</td>\n",
              "      <td>0</td>\n",
              "      <td>135000.0</td>\n",
              "      <td>312682.5</td>\n",
              "      <td>29686.5</td>\n",
              "      <td>297000.0</td>\n",
              "      <td>Unaccompanied</td>\n",
              "      <td>Working</td>\n",
              "      <td>Secondary / secondary special</td>\n",
              "      <td>Civil marriage</td>\n",
              "      <td>House / apartment</td>\n",
              "      <td>0.008019</td>\n",
              "      <td>NaN</td>\n",
              "      <td>0</td>\n",
              "      <td>0</td>\n",
              "      <td>Laborers</td>\n",
              "      <td>2.0</td>\n",
              "      <td>2</td>\n",
              "      <td>17</td>\n",
              "      <td>Business Entity Type 3</td>\n",
              "      <td>NaN</td>\n",
              "      <td>0.650442</td>\n",
              "      <td>NaN</td>\n",
              "      <td>NaN</td>\n",
              "      <td>NaN</td>\n",
              "      <td>NaN</td>\n",
              "      <td>NaN</td>\n",
              "      <td>NaN</td>\n",
              "      <td>NaN</td>\n",
              "    </tr>\n",
              "    <tr>\n",
              "      <th>4</th>\n",
              "      <td>100007</td>\n",
              "      <td>0</td>\n",
              "      <td>Cash loans</td>\n",
              "      <td>M</td>\n",
              "      <td>N</td>\n",
              "      <td>Y</td>\n",
              "      <td>0</td>\n",
              "      <td>121500.0</td>\n",
              "      <td>513000.0</td>\n",
              "      <td>21865.5</td>\n",
              "      <td>513000.0</td>\n",
              "      <td>Unaccompanied</td>\n",
              "      <td>Working</td>\n",
              "      <td>Secondary / secondary special</td>\n",
              "      <td>Single / not married</td>\n",
              "      <td>House / apartment</td>\n",
              "      <td>0.028663</td>\n",
              "      <td>NaN</td>\n",
              "      <td>0</td>\n",
              "      <td>0</td>\n",
              "      <td>Core staff</td>\n",
              "      <td>1.0</td>\n",
              "      <td>2</td>\n",
              "      <td>11</td>\n",
              "      <td>Religion</td>\n",
              "      <td>NaN</td>\n",
              "      <td>0.322738</td>\n",
              "      <td>NaN</td>\n",
              "      <td>0.0</td>\n",
              "      <td>0.0</td>\n",
              "      <td>0.0</td>\n",
              "      <td>0.0</td>\n",
              "      <td>0.0</td>\n",
              "      <td>0.0</td>\n",
              "    </tr>\n",
              "  </tbody>\n",
              "</table>\n",
              "</div>"
            ],
            "text/plain": [
              "   SK_ID_CURR  TARGET NAME_CONTRACT_TYPE CODE_GENDER FLAG_OWN_CAR  \\\n",
              "0      100002       1         Cash loans           M            N   \n",
              "1      100003       0         Cash loans           F            N   \n",
              "2      100004       0    Revolving loans           M            Y   \n",
              "3      100006       0         Cash loans           F            N   \n",
              "4      100007       0         Cash loans           M            N   \n",
              "\n",
              "  FLAG_OWN_REALTY  CNT_CHILDREN  AMT_INCOME_TOTAL  AMT_CREDIT  AMT_ANNUITY  \\\n",
              "0               Y             0          202500.0    406597.5      24700.5   \n",
              "1               N             0          270000.0   1293502.5      35698.5   \n",
              "2               Y             0           67500.0    135000.0       6750.0   \n",
              "3               Y             0          135000.0    312682.5      29686.5   \n",
              "4               Y             0          121500.0    513000.0      21865.5   \n",
              "\n",
              "   AMT_GOODS_PRICE NAME_TYPE_SUITE NAME_INCOME_TYPE  \\\n",
              "0         351000.0   Unaccompanied          Working   \n",
              "1        1129500.0          Family    State servant   \n",
              "2         135000.0   Unaccompanied          Working   \n",
              "3         297000.0   Unaccompanied          Working   \n",
              "4         513000.0   Unaccompanied          Working   \n",
              "\n",
              "             NAME_EDUCATION_TYPE    NAME_FAMILY_STATUS  NAME_HOUSING_TYPE  \\\n",
              "0  Secondary / secondary special  Single / not married  House / apartment   \n",
              "1               Higher education               Married  House / apartment   \n",
              "2  Secondary / secondary special  Single / not married  House / apartment   \n",
              "3  Secondary / secondary special        Civil marriage  House / apartment   \n",
              "4  Secondary / secondary special  Single / not married  House / apartment   \n",
              "\n",
              "   REGION_POPULATION_RELATIVE  OWN_CAR_AGE  FLAG_PHONE  FLAG_EMAIL  \\\n",
              "0                    0.018801          NaN           1           0   \n",
              "1                    0.003541          NaN           1           0   \n",
              "2                    0.010032         26.0           1           0   \n",
              "3                    0.008019          NaN           0           0   \n",
              "4                    0.028663          NaN           0           0   \n",
              "\n",
              "  OCCUPATION_TYPE  CNT_FAM_MEMBERS  REGION_RATING_CLIENT  \\\n",
              "0        Laborers              1.0                     2   \n",
              "1      Core staff              2.0                     1   \n",
              "2        Laborers              1.0                     2   \n",
              "3        Laborers              2.0                     2   \n",
              "4      Core staff              1.0                     2   \n",
              "\n",
              "   HOUR_APPR_PROCESS_START       ORGANIZATION_TYPE  EXT_SOURCE_1  \\\n",
              "0                       10  Business Entity Type 3      0.083037   \n",
              "1                       11                  School      0.311267   \n",
              "2                        9              Government           NaN   \n",
              "3                       17  Business Entity Type 3           NaN   \n",
              "4                       11                Religion           NaN   \n",
              "\n",
              "   EXT_SOURCE_2  EXT_SOURCE_3  AMT_REQ_CREDIT_BUREAU_HOUR  \\\n",
              "0      0.262949      0.139376                         0.0   \n",
              "1      0.622246           NaN                         0.0   \n",
              "2      0.555912      0.729567                         0.0   \n",
              "3      0.650442           NaN                         NaN   \n",
              "4      0.322738           NaN                         0.0   \n",
              "\n",
              "   AMT_REQ_CREDIT_BUREAU_DAY  AMT_REQ_CREDIT_BUREAU_WEEK  \\\n",
              "0                        0.0                         0.0   \n",
              "1                        0.0                         0.0   \n",
              "2                        0.0                         0.0   \n",
              "3                        NaN                         NaN   \n",
              "4                        0.0                         0.0   \n",
              "\n",
              "   AMT_REQ_CREDIT_BUREAU_MON  AMT_REQ_CREDIT_BUREAU_QRT  \\\n",
              "0                        0.0                        0.0   \n",
              "1                        0.0                        0.0   \n",
              "2                        0.0                        0.0   \n",
              "3                        NaN                        NaN   \n",
              "4                        0.0                        0.0   \n",
              "\n",
              "   AMT_REQ_CREDIT_BUREAU_YEAR  \n",
              "0                         1.0  \n",
              "1                         0.0  \n",
              "2                         0.0  \n",
              "3                         NaN  \n",
              "4                         0.0  "
            ]
          },
          "metadata": {
            "tags": []
          },
          "execution_count": 6
        }
      ]
    },
    {
      "cell_type": "code",
      "metadata": {
        "colab": {
          "base_uri": "https://localhost:8080/"
        },
        "id": "yyNVy08eo5Q2",
        "outputId": "15b05a3f-7704-45b7-d6b9-6396576af62e"
      },
      "source": [
        "df.shape"
      ],
      "execution_count": 7,
      "outputs": [
        {
          "output_type": "execute_result",
          "data": {
            "text/plain": [
              "(307511, 34)"
            ]
          },
          "metadata": {
            "tags": []
          },
          "execution_count": 7
        }
      ]
    },
    {
      "cell_type": "code",
      "metadata": {
        "id": "JetDgnilrf65"
      },
      "source": [
        "# Change behaviour globaly\n",
        "#pd.set_option('display.float_format', lambda x: '%.3f' % x)"
      ],
      "execution_count": 8,
      "outputs": []
    },
    {
      "cell_type": "code",
      "metadata": {
        "colab": {
          "base_uri": "https://localhost:8080/",
          "height": 275
        },
        "id": "Y-2n6Jhh_qoT",
        "outputId": "e38a0873-03cf-462a-a8bd-21e275562104"
      },
      "source": [
        "df.select_dtypes(include=['object']).head()"
      ],
      "execution_count": 9,
      "outputs": [
        {
          "output_type": "execute_result",
          "data": {
            "text/html": [
              "<div>\n",
              "<style scoped>\n",
              "    .dataframe tbody tr th:only-of-type {\n",
              "        vertical-align: middle;\n",
              "    }\n",
              "\n",
              "    .dataframe tbody tr th {\n",
              "        vertical-align: top;\n",
              "    }\n",
              "\n",
              "    .dataframe thead th {\n",
              "        text-align: right;\n",
              "    }\n",
              "</style>\n",
              "<table border=\"1\" class=\"dataframe\">\n",
              "  <thead>\n",
              "    <tr style=\"text-align: right;\">\n",
              "      <th></th>\n",
              "      <th>NAME_CONTRACT_TYPE</th>\n",
              "      <th>CODE_GENDER</th>\n",
              "      <th>FLAG_OWN_CAR</th>\n",
              "      <th>FLAG_OWN_REALTY</th>\n",
              "      <th>NAME_TYPE_SUITE</th>\n",
              "      <th>NAME_INCOME_TYPE</th>\n",
              "      <th>NAME_EDUCATION_TYPE</th>\n",
              "      <th>NAME_FAMILY_STATUS</th>\n",
              "      <th>NAME_HOUSING_TYPE</th>\n",
              "      <th>OCCUPATION_TYPE</th>\n",
              "      <th>ORGANIZATION_TYPE</th>\n",
              "    </tr>\n",
              "  </thead>\n",
              "  <tbody>\n",
              "    <tr>\n",
              "      <th>0</th>\n",
              "      <td>Cash loans</td>\n",
              "      <td>M</td>\n",
              "      <td>N</td>\n",
              "      <td>Y</td>\n",
              "      <td>Unaccompanied</td>\n",
              "      <td>Working</td>\n",
              "      <td>Secondary / secondary special</td>\n",
              "      <td>Single / not married</td>\n",
              "      <td>House / apartment</td>\n",
              "      <td>Laborers</td>\n",
              "      <td>Business Entity Type 3</td>\n",
              "    </tr>\n",
              "    <tr>\n",
              "      <th>1</th>\n",
              "      <td>Cash loans</td>\n",
              "      <td>F</td>\n",
              "      <td>N</td>\n",
              "      <td>N</td>\n",
              "      <td>Family</td>\n",
              "      <td>State servant</td>\n",
              "      <td>Higher education</td>\n",
              "      <td>Married</td>\n",
              "      <td>House / apartment</td>\n",
              "      <td>Core staff</td>\n",
              "      <td>School</td>\n",
              "    </tr>\n",
              "    <tr>\n",
              "      <th>2</th>\n",
              "      <td>Revolving loans</td>\n",
              "      <td>M</td>\n",
              "      <td>Y</td>\n",
              "      <td>Y</td>\n",
              "      <td>Unaccompanied</td>\n",
              "      <td>Working</td>\n",
              "      <td>Secondary / secondary special</td>\n",
              "      <td>Single / not married</td>\n",
              "      <td>House / apartment</td>\n",
              "      <td>Laborers</td>\n",
              "      <td>Government</td>\n",
              "    </tr>\n",
              "    <tr>\n",
              "      <th>3</th>\n",
              "      <td>Cash loans</td>\n",
              "      <td>F</td>\n",
              "      <td>N</td>\n",
              "      <td>Y</td>\n",
              "      <td>Unaccompanied</td>\n",
              "      <td>Working</td>\n",
              "      <td>Secondary / secondary special</td>\n",
              "      <td>Civil marriage</td>\n",
              "      <td>House / apartment</td>\n",
              "      <td>Laborers</td>\n",
              "      <td>Business Entity Type 3</td>\n",
              "    </tr>\n",
              "    <tr>\n",
              "      <th>4</th>\n",
              "      <td>Cash loans</td>\n",
              "      <td>M</td>\n",
              "      <td>N</td>\n",
              "      <td>Y</td>\n",
              "      <td>Unaccompanied</td>\n",
              "      <td>Working</td>\n",
              "      <td>Secondary / secondary special</td>\n",
              "      <td>Single / not married</td>\n",
              "      <td>House / apartment</td>\n",
              "      <td>Core staff</td>\n",
              "      <td>Religion</td>\n",
              "    </tr>\n",
              "  </tbody>\n",
              "</table>\n",
              "</div>"
            ],
            "text/plain": [
              "  NAME_CONTRACT_TYPE CODE_GENDER FLAG_OWN_CAR FLAG_OWN_REALTY NAME_TYPE_SUITE  \\\n",
              "0         Cash loans           M            N               Y   Unaccompanied   \n",
              "1         Cash loans           F            N               N          Family   \n",
              "2    Revolving loans           M            Y               Y   Unaccompanied   \n",
              "3         Cash loans           F            N               Y   Unaccompanied   \n",
              "4         Cash loans           M            N               Y   Unaccompanied   \n",
              "\n",
              "  NAME_INCOME_TYPE            NAME_EDUCATION_TYPE    NAME_FAMILY_STATUS  \\\n",
              "0          Working  Secondary / secondary special  Single / not married   \n",
              "1    State servant               Higher education               Married   \n",
              "2          Working  Secondary / secondary special  Single / not married   \n",
              "3          Working  Secondary / secondary special        Civil marriage   \n",
              "4          Working  Secondary / secondary special  Single / not married   \n",
              "\n",
              "   NAME_HOUSING_TYPE OCCUPATION_TYPE       ORGANIZATION_TYPE  \n",
              "0  House / apartment        Laborers  Business Entity Type 3  \n",
              "1  House / apartment      Core staff                  School  \n",
              "2  House / apartment        Laborers              Government  \n",
              "3  House / apartment        Laborers  Business Entity Type 3  \n",
              "4  House / apartment      Core staff                Religion  "
            ]
          },
          "metadata": {
            "tags": []
          },
          "execution_count": 9
        }
      ]
    },
    {
      "cell_type": "code",
      "metadata": {
        "colab": {
          "base_uri": "https://localhost:8080/",
          "height": 294
        },
        "id": "QnWQe8R__wUg",
        "outputId": "00bdc671-6a01-4ef2-cfbc-0cbc0af41f9f"
      },
      "source": [
        "# Statistics for each column\n",
        "df.describe()"
      ],
      "execution_count": 10,
      "outputs": [
        {
          "output_type": "execute_result",
          "data": {
            "text/html": [
              "<div>\n",
              "<style scoped>\n",
              "    .dataframe tbody tr th:only-of-type {\n",
              "        vertical-align: middle;\n",
              "    }\n",
              "\n",
              "    .dataframe tbody tr th {\n",
              "        vertical-align: top;\n",
              "    }\n",
              "\n",
              "    .dataframe thead th {\n",
              "        text-align: right;\n",
              "    }\n",
              "</style>\n",
              "<table border=\"1\" class=\"dataframe\">\n",
              "  <thead>\n",
              "    <tr style=\"text-align: right;\">\n",
              "      <th></th>\n",
              "      <th>SK_ID_CURR</th>\n",
              "      <th>TARGET</th>\n",
              "      <th>CNT_CHILDREN</th>\n",
              "      <th>AMT_INCOME_TOTAL</th>\n",
              "      <th>AMT_CREDIT</th>\n",
              "      <th>AMT_ANNUITY</th>\n",
              "      <th>AMT_GOODS_PRICE</th>\n",
              "      <th>REGION_POPULATION_RELATIVE</th>\n",
              "      <th>OWN_CAR_AGE</th>\n",
              "      <th>FLAG_PHONE</th>\n",
              "      <th>FLAG_EMAIL</th>\n",
              "      <th>CNT_FAM_MEMBERS</th>\n",
              "      <th>REGION_RATING_CLIENT</th>\n",
              "      <th>HOUR_APPR_PROCESS_START</th>\n",
              "      <th>EXT_SOURCE_1</th>\n",
              "      <th>EXT_SOURCE_2</th>\n",
              "      <th>EXT_SOURCE_3</th>\n",
              "      <th>AMT_REQ_CREDIT_BUREAU_HOUR</th>\n",
              "      <th>AMT_REQ_CREDIT_BUREAU_DAY</th>\n",
              "      <th>AMT_REQ_CREDIT_BUREAU_WEEK</th>\n",
              "      <th>AMT_REQ_CREDIT_BUREAU_MON</th>\n",
              "      <th>AMT_REQ_CREDIT_BUREAU_QRT</th>\n",
              "      <th>AMT_REQ_CREDIT_BUREAU_YEAR</th>\n",
              "    </tr>\n",
              "  </thead>\n",
              "  <tbody>\n",
              "    <tr>\n",
              "      <th>count</th>\n",
              "      <td>307511.000000</td>\n",
              "      <td>307511.000000</td>\n",
              "      <td>307511.000000</td>\n",
              "      <td>3.075110e+05</td>\n",
              "      <td>3.075110e+05</td>\n",
              "      <td>307499.000000</td>\n",
              "      <td>3.072330e+05</td>\n",
              "      <td>307511.000000</td>\n",
              "      <td>104582.000000</td>\n",
              "      <td>307511.000000</td>\n",
              "      <td>307511.000000</td>\n",
              "      <td>307509.000000</td>\n",
              "      <td>307511.000000</td>\n",
              "      <td>307511.000000</td>\n",
              "      <td>134133.000000</td>\n",
              "      <td>3.068510e+05</td>\n",
              "      <td>246546.000000</td>\n",
              "      <td>265992.000000</td>\n",
              "      <td>265992.000000</td>\n",
              "      <td>265992.000000</td>\n",
              "      <td>265992.000000</td>\n",
              "      <td>265992.000000</td>\n",
              "      <td>265992.000000</td>\n",
              "    </tr>\n",
              "    <tr>\n",
              "      <th>mean</th>\n",
              "      <td>278180.518577</td>\n",
              "      <td>0.080729</td>\n",
              "      <td>0.417052</td>\n",
              "      <td>1.687979e+05</td>\n",
              "      <td>5.990260e+05</td>\n",
              "      <td>27108.573909</td>\n",
              "      <td>5.383962e+05</td>\n",
              "      <td>0.020868</td>\n",
              "      <td>12.061091</td>\n",
              "      <td>0.281066</td>\n",
              "      <td>0.056720</td>\n",
              "      <td>2.152665</td>\n",
              "      <td>2.052463</td>\n",
              "      <td>12.063419</td>\n",
              "      <td>0.502130</td>\n",
              "      <td>5.143927e-01</td>\n",
              "      <td>0.510853</td>\n",
              "      <td>0.006402</td>\n",
              "      <td>0.007000</td>\n",
              "      <td>0.034362</td>\n",
              "      <td>0.267395</td>\n",
              "      <td>0.265474</td>\n",
              "      <td>1.899974</td>\n",
              "    </tr>\n",
              "    <tr>\n",
              "      <th>std</th>\n",
              "      <td>102790.175348</td>\n",
              "      <td>0.272419</td>\n",
              "      <td>0.722121</td>\n",
              "      <td>2.371231e+05</td>\n",
              "      <td>4.024908e+05</td>\n",
              "      <td>14493.737315</td>\n",
              "      <td>3.694465e+05</td>\n",
              "      <td>0.013831</td>\n",
              "      <td>11.944812</td>\n",
              "      <td>0.449521</td>\n",
              "      <td>0.231307</td>\n",
              "      <td>0.910682</td>\n",
              "      <td>0.509034</td>\n",
              "      <td>3.265832</td>\n",
              "      <td>0.211062</td>\n",
              "      <td>1.910602e-01</td>\n",
              "      <td>0.194844</td>\n",
              "      <td>0.083849</td>\n",
              "      <td>0.110757</td>\n",
              "      <td>0.204685</td>\n",
              "      <td>0.916002</td>\n",
              "      <td>0.794056</td>\n",
              "      <td>1.869295</td>\n",
              "    </tr>\n",
              "    <tr>\n",
              "      <th>min</th>\n",
              "      <td>100002.000000</td>\n",
              "      <td>0.000000</td>\n",
              "      <td>0.000000</td>\n",
              "      <td>2.565000e+04</td>\n",
              "      <td>4.500000e+04</td>\n",
              "      <td>1615.500000</td>\n",
              "      <td>4.050000e+04</td>\n",
              "      <td>0.000290</td>\n",
              "      <td>0.000000</td>\n",
              "      <td>0.000000</td>\n",
              "      <td>0.000000</td>\n",
              "      <td>1.000000</td>\n",
              "      <td>1.000000</td>\n",
              "      <td>0.000000</td>\n",
              "      <td>0.014568</td>\n",
              "      <td>8.170000e-08</td>\n",
              "      <td>0.000527</td>\n",
              "      <td>0.000000</td>\n",
              "      <td>0.000000</td>\n",
              "      <td>0.000000</td>\n",
              "      <td>0.000000</td>\n",
              "      <td>0.000000</td>\n",
              "      <td>0.000000</td>\n",
              "    </tr>\n",
              "    <tr>\n",
              "      <th>25%</th>\n",
              "      <td>189145.500000</td>\n",
              "      <td>0.000000</td>\n",
              "      <td>0.000000</td>\n",
              "      <td>1.125000e+05</td>\n",
              "      <td>2.700000e+05</td>\n",
              "      <td>16524.000000</td>\n",
              "      <td>2.385000e+05</td>\n",
              "      <td>0.010006</td>\n",
              "      <td>5.000000</td>\n",
              "      <td>0.000000</td>\n",
              "      <td>0.000000</td>\n",
              "      <td>2.000000</td>\n",
              "      <td>2.000000</td>\n",
              "      <td>10.000000</td>\n",
              "      <td>0.334007</td>\n",
              "      <td>3.924574e-01</td>\n",
              "      <td>0.370650</td>\n",
              "      <td>0.000000</td>\n",
              "      <td>0.000000</td>\n",
              "      <td>0.000000</td>\n",
              "      <td>0.000000</td>\n",
              "      <td>0.000000</td>\n",
              "      <td>0.000000</td>\n",
              "    </tr>\n",
              "    <tr>\n",
              "      <th>50%</th>\n",
              "      <td>278202.000000</td>\n",
              "      <td>0.000000</td>\n",
              "      <td>0.000000</td>\n",
              "      <td>1.471500e+05</td>\n",
              "      <td>5.135310e+05</td>\n",
              "      <td>24903.000000</td>\n",
              "      <td>4.500000e+05</td>\n",
              "      <td>0.018850</td>\n",
              "      <td>9.000000</td>\n",
              "      <td>0.000000</td>\n",
              "      <td>0.000000</td>\n",
              "      <td>2.000000</td>\n",
              "      <td>2.000000</td>\n",
              "      <td>12.000000</td>\n",
              "      <td>0.505998</td>\n",
              "      <td>5.659614e-01</td>\n",
              "      <td>0.535276</td>\n",
              "      <td>0.000000</td>\n",
              "      <td>0.000000</td>\n",
              "      <td>0.000000</td>\n",
              "      <td>0.000000</td>\n",
              "      <td>0.000000</td>\n",
              "      <td>1.000000</td>\n",
              "    </tr>\n",
              "    <tr>\n",
              "      <th>75%</th>\n",
              "      <td>367142.500000</td>\n",
              "      <td>0.000000</td>\n",
              "      <td>1.000000</td>\n",
              "      <td>2.025000e+05</td>\n",
              "      <td>8.086500e+05</td>\n",
              "      <td>34596.000000</td>\n",
              "      <td>6.795000e+05</td>\n",
              "      <td>0.028663</td>\n",
              "      <td>15.000000</td>\n",
              "      <td>1.000000</td>\n",
              "      <td>0.000000</td>\n",
              "      <td>3.000000</td>\n",
              "      <td>2.000000</td>\n",
              "      <td>14.000000</td>\n",
              "      <td>0.675053</td>\n",
              "      <td>6.636171e-01</td>\n",
              "      <td>0.669057</td>\n",
              "      <td>0.000000</td>\n",
              "      <td>0.000000</td>\n",
              "      <td>0.000000</td>\n",
              "      <td>0.000000</td>\n",
              "      <td>0.000000</td>\n",
              "      <td>3.000000</td>\n",
              "    </tr>\n",
              "    <tr>\n",
              "      <th>max</th>\n",
              "      <td>456255.000000</td>\n",
              "      <td>1.000000</td>\n",
              "      <td>19.000000</td>\n",
              "      <td>1.170000e+08</td>\n",
              "      <td>4.050000e+06</td>\n",
              "      <td>258025.500000</td>\n",
              "      <td>4.050000e+06</td>\n",
              "      <td>0.072508</td>\n",
              "      <td>91.000000</td>\n",
              "      <td>1.000000</td>\n",
              "      <td>1.000000</td>\n",
              "      <td>20.000000</td>\n",
              "      <td>3.000000</td>\n",
              "      <td>23.000000</td>\n",
              "      <td>0.962693</td>\n",
              "      <td>8.549997e-01</td>\n",
              "      <td>0.896010</td>\n",
              "      <td>4.000000</td>\n",
              "      <td>9.000000</td>\n",
              "      <td>8.000000</td>\n",
              "      <td>27.000000</td>\n",
              "      <td>261.000000</td>\n",
              "      <td>25.000000</td>\n",
              "    </tr>\n",
              "  </tbody>\n",
              "</table>\n",
              "</div>"
            ],
            "text/plain": [
              "          SK_ID_CURR         TARGET   CNT_CHILDREN  AMT_INCOME_TOTAL  \\\n",
              "count  307511.000000  307511.000000  307511.000000      3.075110e+05   \n",
              "mean   278180.518577       0.080729       0.417052      1.687979e+05   \n",
              "std    102790.175348       0.272419       0.722121      2.371231e+05   \n",
              "min    100002.000000       0.000000       0.000000      2.565000e+04   \n",
              "25%    189145.500000       0.000000       0.000000      1.125000e+05   \n",
              "50%    278202.000000       0.000000       0.000000      1.471500e+05   \n",
              "75%    367142.500000       0.000000       1.000000      2.025000e+05   \n",
              "max    456255.000000       1.000000      19.000000      1.170000e+08   \n",
              "\n",
              "         AMT_CREDIT    AMT_ANNUITY  AMT_GOODS_PRICE  \\\n",
              "count  3.075110e+05  307499.000000     3.072330e+05   \n",
              "mean   5.990260e+05   27108.573909     5.383962e+05   \n",
              "std    4.024908e+05   14493.737315     3.694465e+05   \n",
              "min    4.500000e+04    1615.500000     4.050000e+04   \n",
              "25%    2.700000e+05   16524.000000     2.385000e+05   \n",
              "50%    5.135310e+05   24903.000000     4.500000e+05   \n",
              "75%    8.086500e+05   34596.000000     6.795000e+05   \n",
              "max    4.050000e+06  258025.500000     4.050000e+06   \n",
              "\n",
              "       REGION_POPULATION_RELATIVE    OWN_CAR_AGE     FLAG_PHONE  \\\n",
              "count               307511.000000  104582.000000  307511.000000   \n",
              "mean                     0.020868      12.061091       0.281066   \n",
              "std                      0.013831      11.944812       0.449521   \n",
              "min                      0.000290       0.000000       0.000000   \n",
              "25%                      0.010006       5.000000       0.000000   \n",
              "50%                      0.018850       9.000000       0.000000   \n",
              "75%                      0.028663      15.000000       1.000000   \n",
              "max                      0.072508      91.000000       1.000000   \n",
              "\n",
              "          FLAG_EMAIL  CNT_FAM_MEMBERS  REGION_RATING_CLIENT  \\\n",
              "count  307511.000000    307509.000000         307511.000000   \n",
              "mean        0.056720         2.152665              2.052463   \n",
              "std         0.231307         0.910682              0.509034   \n",
              "min         0.000000         1.000000              1.000000   \n",
              "25%         0.000000         2.000000              2.000000   \n",
              "50%         0.000000         2.000000              2.000000   \n",
              "75%         0.000000         3.000000              2.000000   \n",
              "max         1.000000        20.000000              3.000000   \n",
              "\n",
              "       HOUR_APPR_PROCESS_START   EXT_SOURCE_1  EXT_SOURCE_2   EXT_SOURCE_3  \\\n",
              "count            307511.000000  134133.000000  3.068510e+05  246546.000000   \n",
              "mean                 12.063419       0.502130  5.143927e-01       0.510853   \n",
              "std                   3.265832       0.211062  1.910602e-01       0.194844   \n",
              "min                   0.000000       0.014568  8.170000e-08       0.000527   \n",
              "25%                  10.000000       0.334007  3.924574e-01       0.370650   \n",
              "50%                  12.000000       0.505998  5.659614e-01       0.535276   \n",
              "75%                  14.000000       0.675053  6.636171e-01       0.669057   \n",
              "max                  23.000000       0.962693  8.549997e-01       0.896010   \n",
              "\n",
              "       AMT_REQ_CREDIT_BUREAU_HOUR  AMT_REQ_CREDIT_BUREAU_DAY  \\\n",
              "count               265992.000000              265992.000000   \n",
              "mean                     0.006402                   0.007000   \n",
              "std                      0.083849                   0.110757   \n",
              "min                      0.000000                   0.000000   \n",
              "25%                      0.000000                   0.000000   \n",
              "50%                      0.000000                   0.000000   \n",
              "75%                      0.000000                   0.000000   \n",
              "max                      4.000000                   9.000000   \n",
              "\n",
              "       AMT_REQ_CREDIT_BUREAU_WEEK  AMT_REQ_CREDIT_BUREAU_MON  \\\n",
              "count               265992.000000              265992.000000   \n",
              "mean                     0.034362                   0.267395   \n",
              "std                      0.204685                   0.916002   \n",
              "min                      0.000000                   0.000000   \n",
              "25%                      0.000000                   0.000000   \n",
              "50%                      0.000000                   0.000000   \n",
              "75%                      0.000000                   0.000000   \n",
              "max                      8.000000                  27.000000   \n",
              "\n",
              "       AMT_REQ_CREDIT_BUREAU_QRT  AMT_REQ_CREDIT_BUREAU_YEAR  \n",
              "count              265992.000000               265992.000000  \n",
              "mean                    0.265474                    1.899974  \n",
              "std                     0.794056                    1.869295  \n",
              "min                     0.000000                    0.000000  \n",
              "25%                     0.000000                    0.000000  \n",
              "50%                     0.000000                    1.000000  \n",
              "75%                     0.000000                    3.000000  \n",
              "max                   261.000000                   25.000000  "
            ]
          },
          "metadata": {
            "tags": []
          },
          "execution_count": 10
        }
      ]
    },
    {
      "cell_type": "code",
      "metadata": {
        "colab": {
          "base_uri": "https://localhost:8080/"
        },
        "id": "8q2uLplUmg_5",
        "outputId": "c29e6526-e97e-4718-ed0e-a88bf3348992"
      },
      "source": [
        "# Data types and missing values\n",
        "df.info()"
      ],
      "execution_count": 11,
      "outputs": [
        {
          "output_type": "stream",
          "text": [
            "<class 'pandas.core.frame.DataFrame'>\n",
            "RangeIndex: 307511 entries, 0 to 307510\n",
            "Data columns (total 34 columns):\n",
            " #   Column                      Non-Null Count   Dtype  \n",
            "---  ------                      --------------   -----  \n",
            " 0   SK_ID_CURR                  307511 non-null  int64  \n",
            " 1   TARGET                      307511 non-null  int64  \n",
            " 2   NAME_CONTRACT_TYPE          307511 non-null  object \n",
            " 3   CODE_GENDER                 307511 non-null  object \n",
            " 4   FLAG_OWN_CAR                307511 non-null  object \n",
            " 5   FLAG_OWN_REALTY             307511 non-null  object \n",
            " 6   CNT_CHILDREN                307511 non-null  int64  \n",
            " 7   AMT_INCOME_TOTAL            307511 non-null  float64\n",
            " 8   AMT_CREDIT                  307511 non-null  float64\n",
            " 9   AMT_ANNUITY                 307499 non-null  float64\n",
            " 10  AMT_GOODS_PRICE             307233 non-null  float64\n",
            " 11  NAME_TYPE_SUITE             306219 non-null  object \n",
            " 12  NAME_INCOME_TYPE            307511 non-null  object \n",
            " 13  NAME_EDUCATION_TYPE         307511 non-null  object \n",
            " 14  NAME_FAMILY_STATUS          307511 non-null  object \n",
            " 15  NAME_HOUSING_TYPE           307511 non-null  object \n",
            " 16  REGION_POPULATION_RELATIVE  307511 non-null  float64\n",
            " 17  OWN_CAR_AGE                 104582 non-null  float64\n",
            " 18  FLAG_PHONE                  307511 non-null  int64  \n",
            " 19  FLAG_EMAIL                  307511 non-null  int64  \n",
            " 20  OCCUPATION_TYPE             211120 non-null  object \n",
            " 21  CNT_FAM_MEMBERS             307509 non-null  float64\n",
            " 22  REGION_RATING_CLIENT        307511 non-null  int64  \n",
            " 23  HOUR_APPR_PROCESS_START     307511 non-null  int64  \n",
            " 24  ORGANIZATION_TYPE           307511 non-null  object \n",
            " 25  EXT_SOURCE_1                134133 non-null  float64\n",
            " 26  EXT_SOURCE_2                306851 non-null  float64\n",
            " 27  EXT_SOURCE_3                246546 non-null  float64\n",
            " 28  AMT_REQ_CREDIT_BUREAU_HOUR  265992 non-null  float64\n",
            " 29  AMT_REQ_CREDIT_BUREAU_DAY   265992 non-null  float64\n",
            " 30  AMT_REQ_CREDIT_BUREAU_WEEK  265992 non-null  float64\n",
            " 31  AMT_REQ_CREDIT_BUREAU_MON   265992 non-null  float64\n",
            " 32  AMT_REQ_CREDIT_BUREAU_QRT   265992 non-null  float64\n",
            " 33  AMT_REQ_CREDIT_BUREAU_YEAR  265992 non-null  float64\n",
            "dtypes: float64(16), int64(7), object(11)\n",
            "memory usage: 79.8+ MB\n"
          ],
          "name": "stdout"
        }
      ]
    },
    {
      "cell_type": "code",
      "metadata": {
        "id": "zDsqad_zmq0G"
      },
      "source": [
        "# NAME_TYPE_SUITE is an unsupported type, convert series to object\n",
        "df['NAME_TYPE_SUITE'] = df['NAME_TYPE_SUITE'].astype(str)\n",
        "\n",
        "# REGION_RATING_CLIENT convert to string so as to encode variable as ordinal\n",
        "df['REGION_RATING_CLIENT'] = df['REGION_RATING_CLIENT'].astype(str)"
      ],
      "execution_count": 12,
      "outputs": []
    },
    {
      "cell_type": "code",
      "metadata": {
        "colab": {
          "base_uri": "https://localhost:8080/",
          "height": 294
        },
        "id": "MDrv6RQbFtVb",
        "outputId": "c7e51149-4cd6-4510-f55d-f4b2cbe12401"
      },
      "source": [
        "# Statistics for each column\n",
        "df.describe()"
      ],
      "execution_count": 13,
      "outputs": [
        {
          "output_type": "execute_result",
          "data": {
            "text/html": [
              "<div>\n",
              "<style scoped>\n",
              "    .dataframe tbody tr th:only-of-type {\n",
              "        vertical-align: middle;\n",
              "    }\n",
              "\n",
              "    .dataframe tbody tr th {\n",
              "        vertical-align: top;\n",
              "    }\n",
              "\n",
              "    .dataframe thead th {\n",
              "        text-align: right;\n",
              "    }\n",
              "</style>\n",
              "<table border=\"1\" class=\"dataframe\">\n",
              "  <thead>\n",
              "    <tr style=\"text-align: right;\">\n",
              "      <th></th>\n",
              "      <th>SK_ID_CURR</th>\n",
              "      <th>TARGET</th>\n",
              "      <th>CNT_CHILDREN</th>\n",
              "      <th>AMT_INCOME_TOTAL</th>\n",
              "      <th>AMT_CREDIT</th>\n",
              "      <th>AMT_ANNUITY</th>\n",
              "      <th>AMT_GOODS_PRICE</th>\n",
              "      <th>REGION_POPULATION_RELATIVE</th>\n",
              "      <th>OWN_CAR_AGE</th>\n",
              "      <th>FLAG_PHONE</th>\n",
              "      <th>FLAG_EMAIL</th>\n",
              "      <th>CNT_FAM_MEMBERS</th>\n",
              "      <th>HOUR_APPR_PROCESS_START</th>\n",
              "      <th>EXT_SOURCE_1</th>\n",
              "      <th>EXT_SOURCE_2</th>\n",
              "      <th>EXT_SOURCE_3</th>\n",
              "      <th>AMT_REQ_CREDIT_BUREAU_HOUR</th>\n",
              "      <th>AMT_REQ_CREDIT_BUREAU_DAY</th>\n",
              "      <th>AMT_REQ_CREDIT_BUREAU_WEEK</th>\n",
              "      <th>AMT_REQ_CREDIT_BUREAU_MON</th>\n",
              "      <th>AMT_REQ_CREDIT_BUREAU_QRT</th>\n",
              "      <th>AMT_REQ_CREDIT_BUREAU_YEAR</th>\n",
              "    </tr>\n",
              "  </thead>\n",
              "  <tbody>\n",
              "    <tr>\n",
              "      <th>count</th>\n",
              "      <td>307511.000000</td>\n",
              "      <td>307511.000000</td>\n",
              "      <td>307511.000000</td>\n",
              "      <td>3.075110e+05</td>\n",
              "      <td>3.075110e+05</td>\n",
              "      <td>307499.000000</td>\n",
              "      <td>3.072330e+05</td>\n",
              "      <td>307511.000000</td>\n",
              "      <td>104582.000000</td>\n",
              "      <td>307511.000000</td>\n",
              "      <td>307511.000000</td>\n",
              "      <td>307509.000000</td>\n",
              "      <td>307511.000000</td>\n",
              "      <td>134133.000000</td>\n",
              "      <td>3.068510e+05</td>\n",
              "      <td>246546.000000</td>\n",
              "      <td>265992.000000</td>\n",
              "      <td>265992.000000</td>\n",
              "      <td>265992.000000</td>\n",
              "      <td>265992.000000</td>\n",
              "      <td>265992.000000</td>\n",
              "      <td>265992.000000</td>\n",
              "    </tr>\n",
              "    <tr>\n",
              "      <th>mean</th>\n",
              "      <td>278180.518577</td>\n",
              "      <td>0.080729</td>\n",
              "      <td>0.417052</td>\n",
              "      <td>1.687979e+05</td>\n",
              "      <td>5.990260e+05</td>\n",
              "      <td>27108.573909</td>\n",
              "      <td>5.383962e+05</td>\n",
              "      <td>0.020868</td>\n",
              "      <td>12.061091</td>\n",
              "      <td>0.281066</td>\n",
              "      <td>0.056720</td>\n",
              "      <td>2.152665</td>\n",
              "      <td>12.063419</td>\n",
              "      <td>0.502130</td>\n",
              "      <td>5.143927e-01</td>\n",
              "      <td>0.510853</td>\n",
              "      <td>0.006402</td>\n",
              "      <td>0.007000</td>\n",
              "      <td>0.034362</td>\n",
              "      <td>0.267395</td>\n",
              "      <td>0.265474</td>\n",
              "      <td>1.899974</td>\n",
              "    </tr>\n",
              "    <tr>\n",
              "      <th>std</th>\n",
              "      <td>102790.175348</td>\n",
              "      <td>0.272419</td>\n",
              "      <td>0.722121</td>\n",
              "      <td>2.371231e+05</td>\n",
              "      <td>4.024908e+05</td>\n",
              "      <td>14493.737315</td>\n",
              "      <td>3.694465e+05</td>\n",
              "      <td>0.013831</td>\n",
              "      <td>11.944812</td>\n",
              "      <td>0.449521</td>\n",
              "      <td>0.231307</td>\n",
              "      <td>0.910682</td>\n",
              "      <td>3.265832</td>\n",
              "      <td>0.211062</td>\n",
              "      <td>1.910602e-01</td>\n",
              "      <td>0.194844</td>\n",
              "      <td>0.083849</td>\n",
              "      <td>0.110757</td>\n",
              "      <td>0.204685</td>\n",
              "      <td>0.916002</td>\n",
              "      <td>0.794056</td>\n",
              "      <td>1.869295</td>\n",
              "    </tr>\n",
              "    <tr>\n",
              "      <th>min</th>\n",
              "      <td>100002.000000</td>\n",
              "      <td>0.000000</td>\n",
              "      <td>0.000000</td>\n",
              "      <td>2.565000e+04</td>\n",
              "      <td>4.500000e+04</td>\n",
              "      <td>1615.500000</td>\n",
              "      <td>4.050000e+04</td>\n",
              "      <td>0.000290</td>\n",
              "      <td>0.000000</td>\n",
              "      <td>0.000000</td>\n",
              "      <td>0.000000</td>\n",
              "      <td>1.000000</td>\n",
              "      <td>0.000000</td>\n",
              "      <td>0.014568</td>\n",
              "      <td>8.170000e-08</td>\n",
              "      <td>0.000527</td>\n",
              "      <td>0.000000</td>\n",
              "      <td>0.000000</td>\n",
              "      <td>0.000000</td>\n",
              "      <td>0.000000</td>\n",
              "      <td>0.000000</td>\n",
              "      <td>0.000000</td>\n",
              "    </tr>\n",
              "    <tr>\n",
              "      <th>25%</th>\n",
              "      <td>189145.500000</td>\n",
              "      <td>0.000000</td>\n",
              "      <td>0.000000</td>\n",
              "      <td>1.125000e+05</td>\n",
              "      <td>2.700000e+05</td>\n",
              "      <td>16524.000000</td>\n",
              "      <td>2.385000e+05</td>\n",
              "      <td>0.010006</td>\n",
              "      <td>5.000000</td>\n",
              "      <td>0.000000</td>\n",
              "      <td>0.000000</td>\n",
              "      <td>2.000000</td>\n",
              "      <td>10.000000</td>\n",
              "      <td>0.334007</td>\n",
              "      <td>3.924574e-01</td>\n",
              "      <td>0.370650</td>\n",
              "      <td>0.000000</td>\n",
              "      <td>0.000000</td>\n",
              "      <td>0.000000</td>\n",
              "      <td>0.000000</td>\n",
              "      <td>0.000000</td>\n",
              "      <td>0.000000</td>\n",
              "    </tr>\n",
              "    <tr>\n",
              "      <th>50%</th>\n",
              "      <td>278202.000000</td>\n",
              "      <td>0.000000</td>\n",
              "      <td>0.000000</td>\n",
              "      <td>1.471500e+05</td>\n",
              "      <td>5.135310e+05</td>\n",
              "      <td>24903.000000</td>\n",
              "      <td>4.500000e+05</td>\n",
              "      <td>0.018850</td>\n",
              "      <td>9.000000</td>\n",
              "      <td>0.000000</td>\n",
              "      <td>0.000000</td>\n",
              "      <td>2.000000</td>\n",
              "      <td>12.000000</td>\n",
              "      <td>0.505998</td>\n",
              "      <td>5.659614e-01</td>\n",
              "      <td>0.535276</td>\n",
              "      <td>0.000000</td>\n",
              "      <td>0.000000</td>\n",
              "      <td>0.000000</td>\n",
              "      <td>0.000000</td>\n",
              "      <td>0.000000</td>\n",
              "      <td>1.000000</td>\n",
              "    </tr>\n",
              "    <tr>\n",
              "      <th>75%</th>\n",
              "      <td>367142.500000</td>\n",
              "      <td>0.000000</td>\n",
              "      <td>1.000000</td>\n",
              "      <td>2.025000e+05</td>\n",
              "      <td>8.086500e+05</td>\n",
              "      <td>34596.000000</td>\n",
              "      <td>6.795000e+05</td>\n",
              "      <td>0.028663</td>\n",
              "      <td>15.000000</td>\n",
              "      <td>1.000000</td>\n",
              "      <td>0.000000</td>\n",
              "      <td>3.000000</td>\n",
              "      <td>14.000000</td>\n",
              "      <td>0.675053</td>\n",
              "      <td>6.636171e-01</td>\n",
              "      <td>0.669057</td>\n",
              "      <td>0.000000</td>\n",
              "      <td>0.000000</td>\n",
              "      <td>0.000000</td>\n",
              "      <td>0.000000</td>\n",
              "      <td>0.000000</td>\n",
              "      <td>3.000000</td>\n",
              "    </tr>\n",
              "    <tr>\n",
              "      <th>max</th>\n",
              "      <td>456255.000000</td>\n",
              "      <td>1.000000</td>\n",
              "      <td>19.000000</td>\n",
              "      <td>1.170000e+08</td>\n",
              "      <td>4.050000e+06</td>\n",
              "      <td>258025.500000</td>\n",
              "      <td>4.050000e+06</td>\n",
              "      <td>0.072508</td>\n",
              "      <td>91.000000</td>\n",
              "      <td>1.000000</td>\n",
              "      <td>1.000000</td>\n",
              "      <td>20.000000</td>\n",
              "      <td>23.000000</td>\n",
              "      <td>0.962693</td>\n",
              "      <td>8.549997e-01</td>\n",
              "      <td>0.896010</td>\n",
              "      <td>4.000000</td>\n",
              "      <td>9.000000</td>\n",
              "      <td>8.000000</td>\n",
              "      <td>27.000000</td>\n",
              "      <td>261.000000</td>\n",
              "      <td>25.000000</td>\n",
              "    </tr>\n",
              "  </tbody>\n",
              "</table>\n",
              "</div>"
            ],
            "text/plain": [
              "          SK_ID_CURR         TARGET   CNT_CHILDREN  AMT_INCOME_TOTAL  \\\n",
              "count  307511.000000  307511.000000  307511.000000      3.075110e+05   \n",
              "mean   278180.518577       0.080729       0.417052      1.687979e+05   \n",
              "std    102790.175348       0.272419       0.722121      2.371231e+05   \n",
              "min    100002.000000       0.000000       0.000000      2.565000e+04   \n",
              "25%    189145.500000       0.000000       0.000000      1.125000e+05   \n",
              "50%    278202.000000       0.000000       0.000000      1.471500e+05   \n",
              "75%    367142.500000       0.000000       1.000000      2.025000e+05   \n",
              "max    456255.000000       1.000000      19.000000      1.170000e+08   \n",
              "\n",
              "         AMT_CREDIT    AMT_ANNUITY  AMT_GOODS_PRICE  \\\n",
              "count  3.075110e+05  307499.000000     3.072330e+05   \n",
              "mean   5.990260e+05   27108.573909     5.383962e+05   \n",
              "std    4.024908e+05   14493.737315     3.694465e+05   \n",
              "min    4.500000e+04    1615.500000     4.050000e+04   \n",
              "25%    2.700000e+05   16524.000000     2.385000e+05   \n",
              "50%    5.135310e+05   24903.000000     4.500000e+05   \n",
              "75%    8.086500e+05   34596.000000     6.795000e+05   \n",
              "max    4.050000e+06  258025.500000     4.050000e+06   \n",
              "\n",
              "       REGION_POPULATION_RELATIVE    OWN_CAR_AGE     FLAG_PHONE  \\\n",
              "count               307511.000000  104582.000000  307511.000000   \n",
              "mean                     0.020868      12.061091       0.281066   \n",
              "std                      0.013831      11.944812       0.449521   \n",
              "min                      0.000290       0.000000       0.000000   \n",
              "25%                      0.010006       5.000000       0.000000   \n",
              "50%                      0.018850       9.000000       0.000000   \n",
              "75%                      0.028663      15.000000       1.000000   \n",
              "max                      0.072508      91.000000       1.000000   \n",
              "\n",
              "          FLAG_EMAIL  CNT_FAM_MEMBERS  HOUR_APPR_PROCESS_START   EXT_SOURCE_1  \\\n",
              "count  307511.000000    307509.000000            307511.000000  134133.000000   \n",
              "mean        0.056720         2.152665                12.063419       0.502130   \n",
              "std         0.231307         0.910682                 3.265832       0.211062   \n",
              "min         0.000000         1.000000                 0.000000       0.014568   \n",
              "25%         0.000000         2.000000                10.000000       0.334007   \n",
              "50%         0.000000         2.000000                12.000000       0.505998   \n",
              "75%         0.000000         3.000000                14.000000       0.675053   \n",
              "max         1.000000        20.000000                23.000000       0.962693   \n",
              "\n",
              "       EXT_SOURCE_2   EXT_SOURCE_3  AMT_REQ_CREDIT_BUREAU_HOUR  \\\n",
              "count  3.068510e+05  246546.000000               265992.000000   \n",
              "mean   5.143927e-01       0.510853                    0.006402   \n",
              "std    1.910602e-01       0.194844                    0.083849   \n",
              "min    8.170000e-08       0.000527                    0.000000   \n",
              "25%    3.924574e-01       0.370650                    0.000000   \n",
              "50%    5.659614e-01       0.535276                    0.000000   \n",
              "75%    6.636171e-01       0.669057                    0.000000   \n",
              "max    8.549997e-01       0.896010                    4.000000   \n",
              "\n",
              "       AMT_REQ_CREDIT_BUREAU_DAY  AMT_REQ_CREDIT_BUREAU_WEEK  \\\n",
              "count              265992.000000               265992.000000   \n",
              "mean                    0.007000                    0.034362   \n",
              "std                     0.110757                    0.204685   \n",
              "min                     0.000000                    0.000000   \n",
              "25%                     0.000000                    0.000000   \n",
              "50%                     0.000000                    0.000000   \n",
              "75%                     0.000000                    0.000000   \n",
              "max                     9.000000                    8.000000   \n",
              "\n",
              "       AMT_REQ_CREDIT_BUREAU_MON  AMT_REQ_CREDIT_BUREAU_QRT  \\\n",
              "count              265992.000000              265992.000000   \n",
              "mean                    0.267395                   0.265474   \n",
              "std                     0.916002                   0.794056   \n",
              "min                     0.000000                   0.000000   \n",
              "25%                     0.000000                   0.000000   \n",
              "50%                     0.000000                   0.000000   \n",
              "75%                     0.000000                   0.000000   \n",
              "max                    27.000000                 261.000000   \n",
              "\n",
              "       AMT_REQ_CREDIT_BUREAU_YEAR  \n",
              "count               265992.000000  \n",
              "mean                     1.899974  \n",
              "std                      1.869295  \n",
              "min                      0.000000  \n",
              "25%                      0.000000  \n",
              "50%                      1.000000  \n",
              "75%                      3.000000  \n",
              "max                     25.000000  "
            ]
          },
          "metadata": {
            "tags": []
          },
          "execution_count": 13
        }
      ]
    },
    {
      "cell_type": "markdown",
      "metadata": {
        "id": "S8Hlk7KJGUDE"
      },
      "source": [
        "### Missing values"
      ]
    },
    {
      "cell_type": "code",
      "metadata": {
        "id": "Wx7uhulFGAkk",
        "colab": {
          "base_uri": "https://localhost:8080/"
        },
        "outputId": "73c8e5b4-6890-4893-83c6-00afe2ecc64e"
      },
      "source": [
        "# Missing values\n",
        "df.isnull().any()"
      ],
      "execution_count": 14,
      "outputs": [
        {
          "output_type": "execute_result",
          "data": {
            "text/plain": [
              "SK_ID_CURR                    False\n",
              "TARGET                        False\n",
              "NAME_CONTRACT_TYPE            False\n",
              "CODE_GENDER                   False\n",
              "FLAG_OWN_CAR                  False\n",
              "FLAG_OWN_REALTY               False\n",
              "CNT_CHILDREN                  False\n",
              "AMT_INCOME_TOTAL              False\n",
              "AMT_CREDIT                    False\n",
              "AMT_ANNUITY                    True\n",
              "AMT_GOODS_PRICE                True\n",
              "NAME_TYPE_SUITE               False\n",
              "NAME_INCOME_TYPE              False\n",
              "NAME_EDUCATION_TYPE           False\n",
              "NAME_FAMILY_STATUS            False\n",
              "NAME_HOUSING_TYPE             False\n",
              "REGION_POPULATION_RELATIVE    False\n",
              "OWN_CAR_AGE                    True\n",
              "FLAG_PHONE                    False\n",
              "FLAG_EMAIL                    False\n",
              "OCCUPATION_TYPE                True\n",
              "CNT_FAM_MEMBERS                True\n",
              "REGION_RATING_CLIENT          False\n",
              "HOUR_APPR_PROCESS_START       False\n",
              "ORGANIZATION_TYPE             False\n",
              "EXT_SOURCE_1                   True\n",
              "EXT_SOURCE_2                   True\n",
              "EXT_SOURCE_3                   True\n",
              "AMT_REQ_CREDIT_BUREAU_HOUR     True\n",
              "AMT_REQ_CREDIT_BUREAU_DAY      True\n",
              "AMT_REQ_CREDIT_BUREAU_WEEK     True\n",
              "AMT_REQ_CREDIT_BUREAU_MON      True\n",
              "AMT_REQ_CREDIT_BUREAU_QRT      True\n",
              "AMT_REQ_CREDIT_BUREAU_YEAR     True\n",
              "dtype: bool"
            ]
          },
          "metadata": {
            "tags": []
          },
          "execution_count": 14
        }
      ]
    },
    {
      "cell_type": "code",
      "metadata": {
        "colab": {
          "base_uri": "https://localhost:8080/"
        },
        "id": "pQnm0H32Gl0L",
        "outputId": "952ee0cf-88ca-4e76-d5f8-9ccf5fc395d0"
      },
      "source": [
        "# Quantify number of missing values\n",
        "df.isnull().sum()"
      ],
      "execution_count": 15,
      "outputs": [
        {
          "output_type": "execute_result",
          "data": {
            "text/plain": [
              "SK_ID_CURR                         0\n",
              "TARGET                             0\n",
              "NAME_CONTRACT_TYPE                 0\n",
              "CODE_GENDER                        0\n",
              "FLAG_OWN_CAR                       0\n",
              "FLAG_OWN_REALTY                    0\n",
              "CNT_CHILDREN                       0\n",
              "AMT_INCOME_TOTAL                   0\n",
              "AMT_CREDIT                         0\n",
              "AMT_ANNUITY                       12\n",
              "AMT_GOODS_PRICE                  278\n",
              "NAME_TYPE_SUITE                    0\n",
              "NAME_INCOME_TYPE                   0\n",
              "NAME_EDUCATION_TYPE                0\n",
              "NAME_FAMILY_STATUS                 0\n",
              "NAME_HOUSING_TYPE                  0\n",
              "REGION_POPULATION_RELATIVE         0\n",
              "OWN_CAR_AGE                   202929\n",
              "FLAG_PHONE                         0\n",
              "FLAG_EMAIL                         0\n",
              "OCCUPATION_TYPE                96391\n",
              "CNT_FAM_MEMBERS                    2\n",
              "REGION_RATING_CLIENT               0\n",
              "HOUR_APPR_PROCESS_START            0\n",
              "ORGANIZATION_TYPE                  0\n",
              "EXT_SOURCE_1                  173378\n",
              "EXT_SOURCE_2                     660\n",
              "EXT_SOURCE_3                   60965\n",
              "AMT_REQ_CREDIT_BUREAU_HOUR     41519\n",
              "AMT_REQ_CREDIT_BUREAU_DAY      41519\n",
              "AMT_REQ_CREDIT_BUREAU_WEEK     41519\n",
              "AMT_REQ_CREDIT_BUREAU_MON      41519\n",
              "AMT_REQ_CREDIT_BUREAU_QRT      41519\n",
              "AMT_REQ_CREDIT_BUREAU_YEAR     41519\n",
              "dtype: int64"
            ]
          },
          "metadata": {
            "tags": []
          },
          "execution_count": 15
        }
      ]
    },
    {
      "cell_type": "code",
      "metadata": {
        "colab": {
          "base_uri": "https://localhost:8080/"
        },
        "id": "uisyXjAtg6CZ",
        "outputId": "29faf9a0-0756-4254-f845-f590e35e4e38"
      },
      "source": [
        "# Percentage of missing values in each column\n",
        "mis_val = ((df.isna().sum()) / len(df.index)).sort_values(ascending=False)\n",
        "mis_val = mis_val[mis_val > 0]\n",
        "print(mis_val * 100)"
      ],
      "execution_count": 16,
      "outputs": [
        {
          "output_type": "stream",
          "text": [
            "OWN_CAR_AGE                   65.990810\n",
            "EXT_SOURCE_1                  56.381073\n",
            "OCCUPATION_TYPE               31.345545\n",
            "EXT_SOURCE_3                  19.825307\n",
            "AMT_REQ_CREDIT_BUREAU_YEAR    13.501631\n",
            "AMT_REQ_CREDIT_BUREAU_MON     13.501631\n",
            "AMT_REQ_CREDIT_BUREAU_WEEK    13.501631\n",
            "AMT_REQ_CREDIT_BUREAU_DAY     13.501631\n",
            "AMT_REQ_CREDIT_BUREAU_HOUR    13.501631\n",
            "AMT_REQ_CREDIT_BUREAU_QRT     13.501631\n",
            "EXT_SOURCE_2                   0.214626\n",
            "AMT_GOODS_PRICE                0.090403\n",
            "AMT_ANNUITY                    0.003902\n",
            "CNT_FAM_MEMBERS                0.000650\n",
            "dtype: float64\n"
          ],
          "name": "stdout"
        }
      ]
    },
    {
      "cell_type": "code",
      "metadata": {
        "id": "Tyfgo_91g59w"
      },
      "source": [
        "# Drop columns where missing values > 30%\n",
        "df.drop(mis_val[mis_val > 0.3].index, axis=1, inplace=True)"
      ],
      "execution_count": 17,
      "outputs": []
    },
    {
      "cell_type": "code",
      "metadata": {
        "id": "tlKSmU0Rg54n"
      },
      "source": [
        "# Drop rows where missing values > 30\n",
        "df.dropna(axis=0, thresh=30, inplace=True)"
      ],
      "execution_count": 18,
      "outputs": []
    },
    {
      "cell_type": "code",
      "metadata": {
        "colab": {
          "base_uri": "https://localhost:8080/"
        },
        "id": "axrG7FpxlNfD",
        "outputId": "4f36c6c8-6333-41a9-aba2-71fc439ef060"
      },
      "source": [
        "# Quantify number of missing values\n",
        "df.isnull().sum()"
      ],
      "execution_count": 19,
      "outputs": [
        {
          "output_type": "execute_result",
          "data": {
            "text/plain": [
              "SK_ID_CURR                        0\n",
              "TARGET                            0\n",
              "NAME_CONTRACT_TYPE                0\n",
              "CODE_GENDER                       0\n",
              "FLAG_OWN_CAR                      0\n",
              "FLAG_OWN_REALTY                   0\n",
              "CNT_CHILDREN                      0\n",
              "AMT_INCOME_TOTAL                  0\n",
              "AMT_CREDIT                        0\n",
              "AMT_ANNUITY                      11\n",
              "AMT_GOODS_PRICE                 209\n",
              "NAME_TYPE_SUITE                   0\n",
              "NAME_INCOME_TYPE                  0\n",
              "NAME_EDUCATION_TYPE               0\n",
              "NAME_FAMILY_STATUS                0\n",
              "NAME_HOUSING_TYPE                 0\n",
              "REGION_POPULATION_RELATIVE        0\n",
              "FLAG_PHONE                        0\n",
              "FLAG_EMAIL                        0\n",
              "CNT_FAM_MEMBERS                   0\n",
              "REGION_RATING_CLIENT              0\n",
              "HOUR_APPR_PROCESS_START           0\n",
              "ORGANIZATION_TYPE                 0\n",
              "EXT_SOURCE_2                    430\n",
              "EXT_SOURCE_3                  19326\n",
              "AMT_REQ_CREDIT_BUREAU_HOUR        0\n",
              "AMT_REQ_CREDIT_BUREAU_DAY         0\n",
              "AMT_REQ_CREDIT_BUREAU_WEEK        0\n",
              "AMT_REQ_CREDIT_BUREAU_MON         0\n",
              "AMT_REQ_CREDIT_BUREAU_QRT         0\n",
              "AMT_REQ_CREDIT_BUREAU_YEAR        0\n",
              "dtype: int64"
            ]
          },
          "metadata": {
            "tags": []
          },
          "execution_count": 19
        }
      ]
    },
    {
      "cell_type": "markdown",
      "metadata": {
        "id": "n-mP20XqmF8t"
      },
      "source": [
        "### Impute Missing values"
      ]
    },
    {
      "cell_type": "code",
      "metadata": {
        "id": "lblxbMG_lNcN"
      },
      "source": [
        "# Numeric columns\n",
        "df.fillna(df.select_dtypes(include='number').mean().iloc[0], inplace=True)\n",
        "\n",
        "# Categorical columns\n",
        "df.fillna(df.select_dtypes(include='object').mode().iloc[0], inplace=True)"
      ],
      "execution_count": 20,
      "outputs": []
    },
    {
      "cell_type": "code",
      "metadata": {
        "id": "XuGZ6WFlnfvn"
      },
      "source": [
        "delete_cols = ['SK_ID_CURR', 'NAME_CONTRACT_TYPE', 'FLAG_EMAIL', 'FLAG_PHONE',\n",
        "               'HOUR_APPR_PROCESS_START', 'EXT_SOURCE_2', \n",
        "               'EXT_SOURCE_3', 'AMT_REQ_CREDIT_BUREAU_HOUR',\n",
        "               'AMT_REQ_CREDIT_BUREAU_DAY', 'AMT_REQ_CREDIT_BUREAU_WEEK', \n",
        "               'AMT_REQ_CREDIT_BUREAU_MON', 'AMT_REQ_CREDIT_BUREAU_QRT', \n",
        "               'AMT_REQ_CREDIT_BUREAU_YEAR']\n",
        "\n",
        "df.drop(delete_cols, axis=1, inplace=True)"
      ],
      "execution_count": 21,
      "outputs": []
    },
    {
      "cell_type": "code",
      "metadata": {
        "colab": {
          "base_uri": "https://localhost:8080/"
        },
        "id": "ciVBQN9_nfgT",
        "outputId": "90926264-365c-43f7-cc26-70f0d4f6f3d7"
      },
      "source": [
        "df.info()"
      ],
      "execution_count": 22,
      "outputs": [
        {
          "output_type": "stream",
          "text": [
            "<class 'pandas.core.frame.DataFrame'>\n",
            "Int64Index: 265871 entries, 0 to 307510\n",
            "Data columns (total 18 columns):\n",
            " #   Column                      Non-Null Count   Dtype  \n",
            "---  ------                      --------------   -----  \n",
            " 0   TARGET                      265871 non-null  int64  \n",
            " 1   CODE_GENDER                 265871 non-null  object \n",
            " 2   FLAG_OWN_CAR                265871 non-null  object \n",
            " 3   FLAG_OWN_REALTY             265871 non-null  object \n",
            " 4   CNT_CHILDREN                265871 non-null  int64  \n",
            " 5   AMT_INCOME_TOTAL            265871 non-null  float64\n",
            " 6   AMT_CREDIT                  265871 non-null  float64\n",
            " 7   AMT_ANNUITY                 265871 non-null  float64\n",
            " 8   AMT_GOODS_PRICE             265871 non-null  float64\n",
            " 9   NAME_TYPE_SUITE             265871 non-null  object \n",
            " 10  NAME_INCOME_TYPE            265871 non-null  object \n",
            " 11  NAME_EDUCATION_TYPE         265871 non-null  object \n",
            " 12  NAME_FAMILY_STATUS          265871 non-null  object \n",
            " 13  NAME_HOUSING_TYPE           265871 non-null  object \n",
            " 14  REGION_POPULATION_RELATIVE  265871 non-null  float64\n",
            " 15  CNT_FAM_MEMBERS             265871 non-null  float64\n",
            " 16  REGION_RATING_CLIENT        265871 non-null  object \n",
            " 17  ORGANIZATION_TYPE           265871 non-null  object \n",
            "dtypes: float64(6), int64(2), object(10)\n",
            "memory usage: 38.5+ MB\n"
          ],
          "name": "stdout"
        }
      ]
    },
    {
      "cell_type": "markdown",
      "metadata": {
        "id": "w67EL0vqZ9Qa"
      },
      "source": [
        "# Exploratory Data Analysis"
      ]
    },
    {
      "cell_type": "code",
      "metadata": {
        "id": "V1Zz-2qIWu3A"
      },
      "source": [
        "for i in df.select_dtypes(include=['object']).columns:\n",
        "    df.drop(labels=i, axis=1, inplace=True)"
      ],
      "execution_count": 23,
      "outputs": []
    },
    {
      "cell_type": "code",
      "metadata": {
        "colab": {
          "base_uri": "https://localhost:8080/",
          "height": 346
        },
        "id": "Cw5M4SHbaLvq",
        "outputId": "c6bb2e65-56be-44e4-e1a4-57d063df7285"
      },
      "source": [
        "# # Single Variable Plots\n",
        "figsize=(8, 8)\n",
        "\n",
        "# Histogram of the loss\n",
        "plt.style.use('fivethirtyeight')\n",
        "plt.hist(df['TARGET'], bins = 100, edgecolor = 'k')\n",
        "plt.xlabel('Loss') \n",
        "plt.ylabel('Number of Clients');\n",
        "plt.title('Target Distribution')"
      ],
      "execution_count": 24,
      "outputs": [
        {
          "output_type": "execute_result",
          "data": {
            "text/plain": [
              "Text(0.5, 1.0, 'Target Distribution')"
            ]
          },
          "metadata": {
            "tags": []
          },
          "execution_count": 24
        },
        {
          "output_type": "display_data",
          "data": {
            "image/png": "[encoded data removed]",
            "text/plain": [
              "<Figure size 432x288 with 1 Axes>"
            ]
          },
          "metadata": {
            "tags": []
          }
        }
      ]
    },
    {
      "cell_type": "code",
      "metadata": {
        "colab": {
          "base_uri": "https://localhost:8080/"
        },
        "id": "Jokd5jSkbeyx",
        "outputId": "1b9ec55c-2499-4450-cd50-feeefb774a85"
      },
      "source": [
        "# # Correlations between Features and Target\n",
        "\n",
        "# Find all correlations and sort \n",
        "correlations_data = df.corr()['TARGET'].sort_values()\n",
        "\n",
        "# Print the most positive correlations\n",
        "print(correlations_data.tail(15), '\\n')\n",
        "\n",
        "# Print the most negative correlations\n",
        "print(correlations_data.head(15))"
      ],
      "execution_count": 25,
      "outputs": [
        {
          "output_type": "stream",
          "text": [
            "AMT_GOODS_PRICE              -0.038085\n",
            "REGION_POPULATION_RELATIVE   -0.034480\n",
            "AMT_CREDIT                   -0.028883\n",
            "AMT_ANNUITY                  -0.012828\n",
            "AMT_INCOME_TOTAL             -0.001422\n",
            "CNT_FAM_MEMBERS               0.011346\n",
            "CNT_CHILDREN                  0.019205\n",
            "TARGET                        1.000000\n",
            "Name: TARGET, dtype: float64 \n",
            "\n",
            "AMT_GOODS_PRICE              -0.038085\n",
            "REGION_POPULATION_RELATIVE   -0.034480\n",
            "AMT_CREDIT                   -0.028883\n",
            "AMT_ANNUITY                  -0.012828\n",
            "AMT_INCOME_TOTAL             -0.001422\n",
            "CNT_FAM_MEMBERS               0.011346\n",
            "CNT_CHILDREN                  0.019205\n",
            "TARGET                        1.000000\n",
            "Name: TARGET, dtype: float64\n"
          ],
          "name": "stdout"
        }
      ]
    },
    {
      "cell_type": "code",
      "metadata": {
        "id": "belT3ZOFc-B_"
      },
      "source": [
        "for i in df.columns:\n",
        "    if len(set(df[i]))==1:\n",
        "        df.drop(labels=[i], axis=1, inplace=True)"
      ],
      "execution_count": 26,
      "outputs": []
    },
    {
      "cell_type": "code",
      "metadata": {
        "colab": {
          "base_uri": "https://localhost:8080/"
        },
        "id": "QL4e4_4udeoy",
        "outputId": "7f29320e-c5fb-4a85-988b-476588e17948"
      },
      "source": [
        "# Find all correlations and sort \n",
        "correlations_data = df.corr()['TARGET'].sort_values()\n",
        "\n",
        "# Print the most positive correlations\n",
        "print(correlations_data.tail(15), '\\n')\n",
        "\n",
        "# Print the most negative correlations\n",
        "print(correlations_data.head(15))"
      ],
      "execution_count": 27,
      "outputs": [
        {
          "output_type": "stream",
          "text": [
            "AMT_GOODS_PRICE              -0.038085\n",
            "REGION_POPULATION_RELATIVE   -0.034480\n",
            "AMT_CREDIT                   -0.028883\n",
            "AMT_ANNUITY                  -0.012828\n",
            "AMT_INCOME_TOTAL             -0.001422\n",
            "CNT_FAM_MEMBERS               0.011346\n",
            "CNT_CHILDREN                  0.019205\n",
            "TARGET                        1.000000\n",
            "Name: TARGET, dtype: float64 \n",
            "\n",
            "AMT_GOODS_PRICE              -0.038085\n",
            "REGION_POPULATION_RELATIVE   -0.034480\n",
            "AMT_CREDIT                   -0.028883\n",
            "AMT_ANNUITY                  -0.012828\n",
            "AMT_INCOME_TOTAL             -0.001422\n",
            "CNT_FAM_MEMBERS               0.011346\n",
            "CNT_CHILDREN                  0.019205\n",
            "TARGET                        1.000000\n",
            "Name: TARGET, dtype: float64\n"
          ],
          "name": "stdout"
        }
      ]
    },
    {
      "cell_type": "code",
      "metadata": {
        "colab": {
          "base_uri": "https://localhost:8080/"
        },
        "id": "kH3ftfdJpsWP",
        "outputId": "79336e3f-0f47-499c-829e-5d08afc54fd0"
      },
      "source": [
        "df.shape"
      ],
      "execution_count": 28,
      "outputs": [
        {
          "output_type": "execute_result",
          "data": {
            "text/plain": [
              "(265871, 8)"
            ]
          },
          "metadata": {
            "tags": []
          },
          "execution_count": 28
        }
      ]
    },
    {
      "cell_type": "markdown",
      "metadata": {
        "id": "pfcz3P2_qQkR"
      },
      "source": [
        "### Feature Engineering and Selection"
      ]
    },
    {
      "cell_type": "code",
      "metadata": {
        "id": "lNJxIaNNp7_w"
      },
      "source": [
        "def remove_collinear_features(x, threshold):\n",
        "    '''\n",
        "    Objective:\n",
        "        Remove collinear features in a dataframe with a correlation coefficient\n",
        "        greater than the threshold. Removing collinear features can help a model\n",
        "        to generalize and improves the interpretability of the model.\n",
        "        \n",
        "    Inputs: \n",
        "        Threshold: any features with correlations greater than this value are removed\n",
        "    \n",
        "    Output: \n",
        "        Dataframe that contains only the non-highly-collinear features\n",
        "    '''\n",
        "    \n",
        "    # Dont want to remove correlations between TARGET\n",
        "    y = x['TARGET']\n",
        "    x = x.drop(columns = ['TARGET'])\n",
        "    \n",
        "    # Calculate the correlation matrix\n",
        "    corr_matrix = x.corr()\n",
        "    iters = range(len(corr_matrix.columns) - 1)\n",
        "    drop_cols = []\n",
        "\n",
        "    # Iterate through the correlation matrix and compare correlations\n",
        "    for i in iters:\n",
        "        for j in range(i):\n",
        "            item = corr_matrix.iloc[j:(j+1), (i+1):(i+2)]\n",
        "            col = item.columns\n",
        "            row = item.index\n",
        "            val = abs(item.values)\n",
        "            \n",
        "            # If correlation exceeds the threshold\n",
        "            if val >= threshold:\n",
        "                # Print the correlated features and the correlation value\n",
        "                # print(col.values[0], \"|\", row.values[0], \"|\", round(val[0][0], 2))\n",
        "                drop_cols.append(col.values[0])\n",
        "\n",
        "    # Drop one of each pair of correlated columns\n",
        "    drops = set(drop_cols)\n",
        "    x = x.drop(columns = drops)\n",
        "    \n",
        "    # Add the score back in to the data\n",
        "    x['TARGET'] = y\n",
        "               \n",
        "    return x"
      ],
      "execution_count": 29,
      "outputs": []
    },
    {
      "cell_type": "code",
      "metadata": {
        "id": "XUr2Xxswq7G4"
      },
      "source": [
        "# Remove the collinear features above a specified correlation coefficient\n",
        "data = remove_collinear_features(df, 0.6);"
      ],
      "execution_count": 30,
      "outputs": []
    },
    {
      "cell_type": "code",
      "metadata": {
        "colab": {
          "base_uri": "https://localhost:8080/"
        },
        "id": "_jJHU7wQrLC1",
        "outputId": "12258fa8-0936-48ab-d294-e9278f17a7f3"
      },
      "source": [
        "df.shape"
      ],
      "execution_count": 31,
      "outputs": [
        {
          "output_type": "execute_result",
          "data": {
            "text/plain": [
              "(265871, 8)"
            ]
          },
          "metadata": {
            "tags": []
          },
          "execution_count": 31
        }
      ]
    },
    {
      "cell_type": "code",
      "metadata": {
        "colab": {
          "base_uri": "https://localhost:8080/"
        },
        "id": "7-Y6_OIarMGP",
        "outputId": "75fa3d9a-f0f1-401a-ee1b-c685a82de52a"
      },
      "source": [
        "# # # Split Into Training and Testing Sets\n",
        "\n",
        "# Separate out the features and targets\n",
        "features = data.drop(columns='TARGET')\n",
        "targets = pd.DataFrame(data['TARGET'])\n",
        "\n",
        "# Split into 80% training and 20% testing set\n",
        "X_train, X_test, y_train, y_test = train_test_split(features, targets, test_size = 0.2, random_state = 42)\n",
        "\n",
        "print(X_train.shape)\n",
        "print(X_test.shape)\n",
        "print(y_train.shape)\n",
        "print(y_test.shape)"
      ],
      "execution_count": 32,
      "outputs": [
        {
          "output_type": "stream",
          "text": [
            "(212696, 5)\n",
            "(53175, 5)\n",
            "(212696, 1)\n",
            "(53175, 1)\n"
          ],
          "name": "stdout"
        }
      ]
    },
    {
      "cell_type": "code",
      "metadata": {
        "id": "gLGl0-tpr5vS"
      },
      "source": [
        "# # Feature Scaling\n",
        "from sklearn.preprocessing import StandardScaler\n",
        "sc = StandardScaler()\n",
        "X_train = sc.fit_transform(X_train)\n",
        "X_test = sc.transform(X_test)"
      ],
      "execution_count": 33,
      "outputs": []
    },
    {
      "cell_type": "code",
      "metadata": {
        "id": "tQDYCFCxsdbc"
      },
      "source": [
        "# Convert y to one-dimensional array (vector)\n",
        "y_train = np.array(y_train).reshape((-1, ))\n",
        "y_test = np.array(y_test).reshape((-1, ))"
      ],
      "execution_count": 34,
      "outputs": []
    },
    {
      "cell_type": "code",
      "metadata": {
        "colab": {
          "base_uri": "https://localhost:8080/"
        },
        "id": "rrn-BRmSsdXa",
        "outputId": "effd13e0-b8e3-4a50-b7df-4ea4e0b9a8d3"
      },
      "source": [
        "X_train"
      ],
      "execution_count": 35,
      "outputs": [
        {
          "output_type": "execute_result",
          "data": {
            "text/plain": [
              "array([[-5.82202952e-01, -1.32540638e-01, -8.04401261e-01,\n",
              "         1.15035081e-01, -8.89196485e-01],\n",
              "       [-5.82202952e-01,  5.48105533e-04,  2.38923919e+00,\n",
              "         8.82969807e-01,  7.24447588e-01],\n",
              "       [ 2.16446695e+00, -4.28952093e-01, -1.05146610e+00,\n",
              "        -1.25598812e+00, -4.18328260e-02],\n",
              "       ...,\n",
              "       [ 7.91131997e-01,  1.96805424e-01, -1.52465303e-01,\n",
              "        -6.55076860e-01,  1.85210261e+00],\n",
              "       [ 7.91131997e-01,  4.43814970e-01, -2.41246598e-01,\n",
              "        -3.80125747e-01,  1.85210261e+00],\n",
              "       [-5.82202952e-01, -5.02041225e-02,  4.33142736e-01,\n",
              "         1.01018135e+00, -7.78077983e-03]])"
            ]
          },
          "metadata": {
            "tags": []
          },
          "execution_count": 35
        }
      ]
    },
    {
      "cell_type": "code",
      "metadata": {
        "colab": {
          "base_uri": "https://localhost:8080/"
        },
        "id": "sbNVP3M-sdUM",
        "outputId": "d09fef53-3e5c-4f81-d507-809779b076ac"
      },
      "source": [
        "X_test"
      ],
      "execution_count": 36,
      "outputs": [
        {
          "output_type": "execute_result",
          "data": {
            "text/plain": [
              "array([[ 2.16446695, -0.21487715, -1.0514661 , -1.25598812,  1.09172844],\n",
              "       [-0.58220295, -0.081492  , -0.26831718,  0.05998265,  0.31677095],\n",
              "       [ 0.791132  , -0.13254064, -0.1968615 ,  0.35701694,  0.27637516],\n",
              "       ...,\n",
              "       [-0.58220295,  0.69082452,  0.72438179,  1.23225725, -0.00778078],\n",
              "       [-0.58220295, -0.16547524, -0.26831718,  0.84782334, -1.01847759],\n",
              "       [ 0.791132  ,  0.11446891,  0.36721438,  0.64192104, -0.14362438]])"
            ]
          },
          "metadata": {
            "tags": []
          },
          "execution_count": 36
        }
      ]
    },
    {
      "cell_type": "markdown",
      "metadata": {
        "id": "AfxMX9H0-q6a"
      },
      "source": [
        "# Modeling"
      ]
    },
    {
      "cell_type": "code",
      "metadata": {
        "id": "98A80zOasdQ9"
      },
      "source": [
        "# # # Models to Evaluate\n",
        "\n",
        "# We will compare five different machine learning Cassification models:\n",
        "\n",
        "# 1 - Naive Bayes\n",
        "# 2 - Random Forest Classification\n",
        "# 3 - Gradiente Boosting Classification\n",
        "\n",
        "# Function to calculate mean absolute error\n",
        "def cross_val(X_train, y_train, model):\n",
        "    # Applying k-Fold Cross Validation\n",
        "    from sklearn.model_selection import cross_val_score\n",
        "    accuracies = cross_val_score(estimator = model, X = X_train, y = y_train, cv = 5)\n",
        "    return accuracies.mean()\n",
        "\n",
        "# Takes in a model, trains the model, and evaluates the model on the test set\n",
        "def fit_and_evaluate(model):\n",
        "    \n",
        "    # Train the model\n",
        "    model.fit(X_train, y_train)\n",
        "    \n",
        "    # Make predictions and evalute\n",
        "    model_pred = model.predict(X_test)\n",
        "    model_cross = cross_val(X_train, y_train, model)\n",
        "    \n",
        "    # Return the performance metric\n",
        "    return model_cross"
      ],
      "execution_count": 37,
      "outputs": []
    },
    {
      "cell_type": "code",
      "metadata": {
        "colab": {
          "base_uri": "https://localhost:8080/"
        },
        "id": "anvEUrmku7Mr",
        "outputId": "325b8510-0c0e-4d0b-a803-84634a9c2c22"
      },
      "source": [
        "# # Naive Bayes\n",
        "from sklearn.naive_bayes import GaussianNB\n",
        "naive = GaussianNB()\n",
        "naive_cross = fit_and_evaluate(naive)\n",
        "\n",
        "print('Naive Bayes Performance on the test set: Cross Validation Score = %0.4f' % naive_cross)"
      ],
      "execution_count": 38,
      "outputs": [
        {
          "output_type": "stream",
          "text": [
            "Naive Bayes Performance on the test set: Cross Validation Score = 0.9177\n"
          ],
          "name": "stdout"
        }
      ]
    },
    {
      "cell_type": "code",
      "metadata": {
        "colab": {
          "base_uri": "https://localhost:8080/"
        },
        "id": "pNs9Y1Posp0v",
        "outputId": "7e8ec867-3ea0-4591-fc65-19e2c8fe451d"
      },
      "source": [
        "# # Random Forest Classification\n",
        "from sklearn.ensemble import RandomForestClassifier\n",
        "random = RandomForestClassifier(n_estimators = 10, criterion = 'entropy')\n",
        "random_cross = fit_and_evaluate(random)\n",
        "\n",
        "print('Random Forest Performance on the test set: Cross Validation Score = %0.4f' % random_cross)"
      ],
      "execution_count": 40,
      "outputs": [
        {
          "output_type": "stream",
          "text": [
            "Random Forest Performance on the test set: Cross Validation Score = 0.9152\n"
          ],
          "name": "stdout"
        }
      ]
    },
    {
      "cell_type": "code",
      "metadata": {
        "colab": {
          "base_uri": "https://localhost:8080/"
        },
        "id": "RqkPXEabsptf",
        "outputId": "295d501d-352f-4cd6-c267-ab70bbad94d4"
      },
      "source": [
        "# # Gradiente Boosting Classification\n",
        "from xgboost import XGBClassifier\n",
        "gb = XGBClassifier()\n",
        "gb_cross = fit_and_evaluate(gb)\n",
        "\n",
        "print('Gradiente Boosting Classification Performance on the test set: Cross Validation Score = %0.4f' % gb_cross)"
      ],
      "execution_count": 42,
      "outputs": [
        {
          "output_type": "stream",
          "text": [
            "Gradiente Boosting Classification Performance on the test set: Cross Validation Score = 0.9230\n"
          ],
          "name": "stdout"
        }
      ]
    },
    {
      "cell_type": "code",
      "metadata": {
        "id": "j5Pb-Bvospmw"
      },
      "source": [
        ""
      ],
      "execution_count": 43,
      "outputs": []
    }
  ]
}