{
  "nbformat": 4,
  "nbformat_minor": 0,
  "metadata": {
    "colab": {
      "name": "test-code-24-Nov-220.ipynb",
      "provenance": [],
      "collapsed_sections": [
        "Eq6GknXYqYpf",
        "xEfsoPvlqjPL",
        "w67EL0vqZ9Qa"
      ],
      "authorship_tag": "ABX9TyNBjQejh48G2DSLRh9TRIGD"
    },
    "kernelspec": {
      "display_name": "Python 3",
      "name": "python3"
    }
  },
  "cells": [
    {
      "cell_type": "markdown",
      "metadata": {
        "id": "PlzRW3M1HLd-"
      },
      "source": [
        "# Get Data\n"
      ]
    },
    {
      "cell_type": "code",
      "metadata": {
        "id": "9ChgR37PiKp_"
      },
      "source": [
        "# Code to read csv file into Colaboratory:\n",
        "!pip install -U -q PyDrive\n",
        "from pydrive.auth import GoogleAuth\n",
        "from pydrive.drive import GoogleDrive\n",
        "from google.colab import auth\n",
        "from oauth2client.client import GoogleCredentials\n",
        "\n",
        "# Authenticate and create the PyDrive client.\n",
        "auth.authenticate_user()\n",
        "gauth = GoogleAuth()\n",
        "gauth.credentials = GoogleCredentials.get_application_default()\n",
        "drive = GoogleDrive(gauth)"
      ],
      "execution_count": 1,
      "outputs": []
    },
    {
      "cell_type": "code",
      "metadata": {
        "colab": {
          "base_uri": "https://localhost:8080/"
        },
        "id": "T2EU_M92ijNJ",
        "outputId": "9f72816b-38ab-4b6d-95fe-29e60a94baee"
      },
      "source": [
        "# Import PyDrive and associated libraries.\n",
        "# This only needs to be done once per notebook.\n",
        "from pydrive.auth import GoogleAuth\n",
        "from pydrive.drive import GoogleDrive\n",
        "from google.colab import auth\n",
        "from oauth2client.client import GoogleCredentials\n",
        "\n",
        "# Authenticate and create the PyDrive client.\n",
        "# This only needs to be done once per notebook.\n",
        "auth.authenticate_user()\n",
        "gauth = GoogleAuth()\n",
        "gauth.credentials = GoogleCredentials.get_application_default()\n",
        "drive = GoogleDrive(gauth)\n",
        "\n",
        "# Download a file based on its file ID.\n",
        "# A file ID looks like: laggVyWshwcyP6kEI-y_W3P8D26sz\n",
        "\n",
        "file_id = '12nRGXBL6u38sCET_x1OmLW6Hlthob-e_' # app_data_final.csv\n",
        "downloaded = drive.CreateFile({'id': file_id})\n",
        "print('Downloaded content \"{}\"'.format(downloaded.GetContentString()))"
      ],
      "execution_count": 2,
      "outputs": [
        {
          "output_type": "stream",
          "text": [
            "IOPub data rate exceeded.\n",
            "The notebook server will temporarily stop sending output\n",
            "to the client in order to avoid crashing it.\n",
            "To change this limit, set the config variable\n",
            "`--NotebookApp.iopub_data_rate_limit`.\n",
            "\n",
            "Current values:\n",
            "NotebookApp.iopub_data_rate_limit=1000000.0 (bytes/sec)\n",
            "NotebookApp.rate_limit_window=3.0 (secs)\n",
            "\n"
          ],
          "name": "stderr"
        }
      ]
    },
    {
      "cell_type": "code",
      "metadata": {
        "id": "wgNNEyqYi2BK"
      },
      "source": [
        "# The shareable link\n",
        "link = 'https://drive.google.com/open?id=12nRGXBL6u38sCET_x1OmLW6Hlthob-e_'"
      ],
      "execution_count": 3,
      "outputs": []
    },
    {
      "cell_type": "code",
      "metadata": {
        "colab": {
          "base_uri": "https://localhost:8080/"
        },
        "id": "FJ1ul78QjZni",
        "outputId": "62921eb9-64fe-4ac5-979e-ff5c941e6a85"
      },
      "source": [
        "# Verify everything after '='\n",
        "fluff, id = link.split('=')\n",
        "print (id) "
      ],
      "execution_count": 4,
      "outputs": [
        {
          "output_type": "stream",
          "text": [
            "12nRGXBL6u38sCET_x1OmLW6Hlthob-e_\n"
          ],
          "name": "stdout"
        }
      ]
    },
    {
      "cell_type": "markdown",
      "metadata": {
        "id": "PGADbDTNEtWr"
      },
      "source": [
        "### Import libraries and prepare the data"
      ]
    },
    {
      "cell_type": "code",
      "metadata": {
        "id": "uo2Tzv3nj5uC"
      },
      "source": [
        "# Pandas and numpy for data manipulation\n",
        "import pandas as pd\n",
        "import numpy as np\n",
        "\n",
        "# Display up to 60 columns of a dataframe\n",
        "pd.set_option('display.max_columns', 60)\n",
        "\n",
        "# Matplotlib visualization\n",
        "import matplotlib.pyplot as plt\n",
        "%matplotlib inline\n",
        "\n",
        "# Set default font size\n",
        "plt.rcParams['font.size']=24\n",
        "\n",
        "# Internal ipython tool for setting figure size\n",
        "from IPython.core.pylabtools import figsize\n",
        "\n",
        "# Seaborn for visualization\n",
        "import seaborn as sns\n",
        "sns.set(font_scale=2)\n",
        "\n",
        "# To ignore deprecation warnings\n",
        "import warnings\n",
        "warnings.filterwarnings(\"ignore\")\n",
        "\n",
        "# No warnings about setting value on copy of slice\n",
        "pd.options.mode.chained_assignment=None\n",
        "\n",
        "# Splitting data into training and testing\n",
        "from sklearn.model_selection import train_test_split\n",
        "\n",
        "# Classification report\n",
        "from sklearn.metrics import classification_report"
      ],
      "execution_count": 5,
      "outputs": []
    },
    {
      "cell_type": "code",
      "metadata": {
        "colab": {
          "base_uri": "https://localhost:8080/",
          "height": 292
        },
        "id": "CLoIoYCdjbpp",
        "outputId": "2359499e-83c2-4da3-f26a-d870d24ca701"
      },
      "source": [
        "# Stored dataset in a Pandas Dataframe\n",
        "downloaded = drive.CreateFile({'id':id}) \n",
        "downloaded.GetContentFile('app_data_final.csv') \n",
        "\n",
        "# Read in data into a dataframe\n",
        "df = pd.read_csv('app_data_final.csv')\n",
        "\n",
        "# Display top of dataframe\n",
        "df.head()"
      ],
      "execution_count": 6,
      "outputs": [
        {
          "output_type": "execute_result",
          "data": {
            "text/html": [
              "<div>\n",
              "<style scoped>\n",
              "    .dataframe tbody tr th:only-of-type {\n",
              "        vertical-align: middle;\n",
              "    }\n",
              "\n",
              "    .dataframe tbody tr th {\n",
              "        vertical-align: top;\n",
              "    }\n",
              "\n",
              "    .dataframe thead th {\n",
              "        text-align: right;\n",
              "    }\n",
              "</style>\n",
              "<table border=\"1\" class=\"dataframe\">\n",
              "  <thead>\n",
              "    <tr style=\"text-align: right;\">\n",
              "      <th></th>\n",
              "      <th>SK_ID_CURR</th>\n",
              "      <th>TARGET</th>\n",
              "      <th>NAME_CONTRACT_TYPE</th>\n",
              "      <th>CODE_GENDER</th>\n",
              "      <th>FLAG_OWN_CAR</th>\n",
              "      <th>FLAG_OWN_REALTY</th>\n",
              "      <th>CNT_CHILDREN</th>\n",
              "      <th>AMT_INCOME_TOTAL</th>\n",
              "      <th>AMT_CREDIT</th>\n",
              "      <th>AMT_ANNUITY</th>\n",
              "      <th>AMT_GOODS_PRICE</th>\n",
              "      <th>NAME_TYPE_SUITE</th>\n",
              "      <th>NAME_INCOME_TYPE</th>\n",
              "      <th>NAME_EDUCATION_TYPE</th>\n",
              "      <th>NAME_FAMILY_STATUS</th>\n",
              "      <th>NAME_HOUSING_TYPE</th>\n",
              "      <th>REGION_POPULATION_RELATIVE</th>\n",
              "      <th>OWN_CAR_AGE</th>\n",
              "      <th>FLAG_PHONE</th>\n",
              "      <th>FLAG_EMAIL</th>\n",
              "      <th>OCCUPATION_TYPE</th>\n",
              "      <th>CNT_FAM_MEMBERS</th>\n",
              "      <th>REGION_RATING_CLIENT</th>\n",
              "      <th>HOUR_APPR_PROCESS_START</th>\n",
              "      <th>ORGANIZATION_TYPE</th>\n",
              "      <th>EXT_SOURCE_1</th>\n",
              "      <th>EXT_SOURCE_2</th>\n",
              "      <th>EXT_SOURCE_3</th>\n",
              "      <th>AMT_REQ_CREDIT_BUREAU_HOUR</th>\n",
              "      <th>AMT_REQ_CREDIT_BUREAU_DAY</th>\n",
              "      <th>AMT_REQ_CREDIT_BUREAU_WEEK</th>\n",
              "      <th>AMT_REQ_CREDIT_BUREAU_MON</th>\n",
              "      <th>AMT_REQ_CREDIT_BUREAU_QRT</th>\n",
              "      <th>AMT_REQ_CREDIT_BUREAU_YEAR</th>\n",
              "    </tr>\n",
              "  </thead>\n",
              "  <tbody>\n",
              "    <tr>\n",
              "      <th>0</th>\n",
              "      <td>100002</td>\n",
              "      <td>1</td>\n",
              "      <td>Cash loans</td>\n",
              "      <td>M</td>\n",
              "      <td>N</td>\n",
              "      <td>Y</td>\n",
              "      <td>0</td>\n",
              "      <td>202500.0</td>\n",
              "      <td>406597.5</td>\n",
              "      <td>24700.5</td>\n",
              "      <td>351000.0</td>\n",
              "      <td>Unaccompanied</td>\n",
              "      <td>Working</td>\n",
              "      <td>Secondary / secondary special</td>\n",
              "      <td>Single / not married</td>\n",
              "      <td>House / apartment</td>\n",
              "      <td>0.018801</td>\n",
              "      <td>NaN</td>\n",
              "      <td>1</td>\n",
              "      <td>0</td>\n",
              "      <td>Laborers</td>\n",
              "      <td>1.0</td>\n",
              "      <td>2</td>\n",
              "      <td>10</td>\n",
              "      <td>Business Entity Type 3</td>\n",
              "      <td>0.083037</td>\n",
              "      <td>0.262949</td>\n",
              "      <td>0.139376</td>\n",
              "      <td>0.0</td>\n",
              "      <td>0.0</td>\n",
              "      <td>0.0</td>\n",
              "      <td>0.0</td>\n",
              "      <td>0.0</td>\n",
              "      <td>1.0</td>\n",
              "    </tr>\n",
              "    <tr>\n",
              "      <th>1</th>\n",
              "      <td>100003</td>\n",
              "      <td>0</td>\n",
              "      <td>Cash loans</td>\n",
              "      <td>F</td>\n",
              "      <td>N</td>\n",
              "      <td>N</td>\n",
              "      <td>0</td>\n",
              "      <td>270000.0</td>\n",
              "      <td>1293502.5</td>\n",
              "      <td>35698.5</td>\n",
              "      <td>1129500.0</td>\n",
              "      <td>Family</td>\n",
              "      <td>State servant</td>\n",
              "      <td>Higher education</td>\n",
              "      <td>Married</td>\n",
              "      <td>House / apartment</td>\n",
              "      <td>0.003541</td>\n",
              "      <td>NaN</td>\n",
              "      <td>1</td>\n",
              "      <td>0</td>\n",
              "      <td>Core staff</td>\n",
              "      <td>2.0</td>\n",
              "      <td>1</td>\n",
              "      <td>11</td>\n",
              "      <td>School</td>\n",
              "      <td>0.311267</td>\n",
              "      <td>0.622246</td>\n",
              "      <td>NaN</td>\n",
              "      <td>0.0</td>\n",
              "      <td>0.0</td>\n",
              "      <td>0.0</td>\n",
              "      <td>0.0</td>\n",
              "      <td>0.0</td>\n",
              "      <td>0.0</td>\n",
              "    </tr>\n",
              "    <tr>\n",
              "      <th>2</th>\n",
              "      <td>100004</td>\n",
              "      <td>0</td>\n",
              "      <td>Revolving loans</td>\n",
              "      <td>M</td>\n",
              "      <td>Y</td>\n",
              "      <td>Y</td>\n",
              "      <td>0</td>\n",
              "      <td>67500.0</td>\n",
              "      <td>135000.0</td>\n",
              "      <td>6750.0</td>\n",
              "      <td>135000.0</td>\n",
              "      <td>Unaccompanied</td>\n",
              "      <td>Working</td>\n",
              "      <td>Secondary / secondary special</td>\n",
              "      <td>Single / not married</td>\n",
              "      <td>House / apartment</td>\n",
              "      <td>0.010032</td>\n",
              "      <td>26.0</td>\n",
              "      <td>1</td>\n",
              "      <td>0</td>\n",
              "      <td>Laborers</td>\n",
              "      <td>1.0</td>\n",
              "      <td>2</td>\n",
              "      <td>9</td>\n",
              "      <td>Government</td>\n",
              "      <td>NaN</td>\n",
              "      <td>0.555912</td>\n",
              "      <td>0.729567</td>\n",
              "      <td>0.0</td>\n",
              "      <td>0.0</td>\n",
              "      <td>0.0</td>\n",
              "      <td>0.0</td>\n",
              "      <td>0.0</td>\n",
              "      <td>0.0</td>\n",
              "    </tr>\n",
              "    <tr>\n",
              "      <th>3</th>\n",
              "      <td>100006</td>\n",
              "      <td>0</td>\n",
              "      <td>Cash loans</td>\n",
              "      <td>F</td>\n",
              "      <td>N</td>\n",
              "      <td>Y</td>\n",
              "      <td>0</td>\n",
              "      <td>135000.0</td>\n",
              "      <td>312682.5</td>\n",
              "      <td>29686.5</td>\n",
              "      <td>297000.0</td>\n",
              "      <td>Unaccompanied</td>\n",
              "      <td>Working</td>\n",
              "      <td>Secondary / secondary special</td>\n",
              "      <td>Civil marriage</td>\n",
              "      <td>House / apartment</td>\n",
              "      <td>0.008019</td>\n",
              "      <td>NaN</td>\n",
              "      <td>0</td>\n",
              "      <td>0</td>\n",
              "      <td>Laborers</td>\n",
              "      <td>2.0</td>\n",
              "      <td>2</td>\n",
              "      <td>17</td>\n",
              "      <td>Business Entity Type 3</td>\n",
              "      <td>NaN</td>\n",
              "      <td>0.650442</td>\n",
              "      <td>NaN</td>\n",
              "      <td>NaN</td>\n",
              "      <td>NaN</td>\n",
              "      <td>NaN</td>\n",
              "      <td>NaN</td>\n",
              "      <td>NaN</td>\n",
              "      <td>NaN</td>\n",
              "    </tr>\n",
              "    <tr>\n",
              "      <th>4</th>\n",
              "      <td>100007</td>\n",
              "      <td>0</td>\n",
              "      <td>Cash loans</td>\n",
              "      <td>M</td>\n",
              "      <td>N</td>\n",
              "      <td>Y</td>\n",
              "      <td>0</td>\n",
              "      <td>121500.0</td>\n",
              "      <td>513000.0</td>\n",
              "      <td>21865.5</td>\n",
              "      <td>513000.0</td>\n",
              "      <td>Unaccompanied</td>\n",
              "      <td>Working</td>\n",
              "      <td>Secondary / secondary special</td>\n",
              "      <td>Single / not married</td>\n",
              "      <td>House / apartment</td>\n",
              "      <td>0.028663</td>\n",
              "      <td>NaN</td>\n",
              "      <td>0</td>\n",
              "      <td>0</td>\n",
              "      <td>Core staff</td>\n",
              "      <td>1.0</td>\n",
              "      <td>2</td>\n",
              "      <td>11</td>\n",
              "      <td>Religion</td>\n",
              "      <td>NaN</td>\n",
              "      <td>0.322738</td>\n",
              "      <td>NaN</td>\n",
              "      <td>0.0</td>\n",
              "      <td>0.0</td>\n",
              "      <td>0.0</td>\n",
              "      <td>0.0</td>\n",
              "      <td>0.0</td>\n",
              "      <td>0.0</td>\n",
              "    </tr>\n",
              "  </tbody>\n",
              "</table>\n",
              "</div>"
            ],
            "text/plain": [
              "   SK_ID_CURR  TARGET NAME_CONTRACT_TYPE CODE_GENDER FLAG_OWN_CAR  \\\n",
              "0      100002       1         Cash loans           M            N   \n",
              "1      100003       0         Cash loans           F            N   \n",
              "2      100004       0    Revolving loans           M            Y   \n",
              "3      100006       0         Cash loans           F            N   \n",
              "4      100007       0         Cash loans           M            N   \n",
              "\n",
              "  FLAG_OWN_REALTY  CNT_CHILDREN  AMT_INCOME_TOTAL  AMT_CREDIT  AMT_ANNUITY  \\\n",
              "0               Y             0          202500.0    406597.5      24700.5   \n",
              "1               N             0          270000.0   1293502.5      35698.5   \n",
              "2               Y             0           67500.0    135000.0       6750.0   \n",
              "3               Y             0          135000.0    312682.5      29686.5   \n",
              "4               Y             0          121500.0    513000.0      21865.5   \n",
              "\n",
              "   AMT_GOODS_PRICE NAME_TYPE_SUITE NAME_INCOME_TYPE  \\\n",
              "0         351000.0   Unaccompanied          Working   \n",
              "1        1129500.0          Family    State servant   \n",
              "2         135000.0   Unaccompanied          Working   \n",
              "3         297000.0   Unaccompanied          Working   \n",
              "4         513000.0   Unaccompanied          Working   \n",
              "\n",
              "             NAME_EDUCATION_TYPE    NAME_FAMILY_STATUS  NAME_HOUSING_TYPE  \\\n",
              "0  Secondary / secondary special  Single / not married  House / apartment   \n",
              "1               Higher education               Married  House / apartment   \n",
              "2  Secondary / secondary special  Single / not married  House / apartment   \n",
              "3  Secondary / secondary special        Civil marriage  House / apartment   \n",
              "4  Secondary / secondary special  Single / not married  House / apartment   \n",
              "\n",
              "   REGION_POPULATION_RELATIVE  OWN_CAR_AGE  FLAG_PHONE  FLAG_EMAIL  \\\n",
              "0                    0.018801          NaN           1           0   \n",
              "1                    0.003541          NaN           1           0   \n",
              "2                    0.010032         26.0           1           0   \n",
              "3                    0.008019          NaN           0           0   \n",
              "4                    0.028663          NaN           0           0   \n",
              "\n",
              "  OCCUPATION_TYPE  CNT_FAM_MEMBERS  REGION_RATING_CLIENT  \\\n",
              "0        Laborers              1.0                     2   \n",
              "1      Core staff              2.0                     1   \n",
              "2        Laborers              1.0                     2   \n",
              "3        Laborers              2.0                     2   \n",
              "4      Core staff              1.0                     2   \n",
              "\n",
              "   HOUR_APPR_PROCESS_START       ORGANIZATION_TYPE  EXT_SOURCE_1  \\\n",
              "0                       10  Business Entity Type 3      0.083037   \n",
              "1                       11                  School      0.311267   \n",
              "2                        9              Government           NaN   \n",
              "3                       17  Business Entity Type 3           NaN   \n",
              "4                       11                Religion           NaN   \n",
              "\n",
              "   EXT_SOURCE_2  EXT_SOURCE_3  AMT_REQ_CREDIT_BUREAU_HOUR  \\\n",
              "0      0.262949      0.139376                         0.0   \n",
              "1      0.622246           NaN                         0.0   \n",
              "2      0.555912      0.729567                         0.0   \n",
              "3      0.650442           NaN                         NaN   \n",
              "4      0.322738           NaN                         0.0   \n",
              "\n",
              "   AMT_REQ_CREDIT_BUREAU_DAY  AMT_REQ_CREDIT_BUREAU_WEEK  \\\n",
              "0                        0.0                         0.0   \n",
              "1                        0.0                         0.0   \n",
              "2                        0.0                         0.0   \n",
              "3                        NaN                         NaN   \n",
              "4                        0.0                         0.0   \n",
              "\n",
              "   AMT_REQ_CREDIT_BUREAU_MON  AMT_REQ_CREDIT_BUREAU_QRT  \\\n",
              "0                        0.0                        0.0   \n",
              "1                        0.0                        0.0   \n",
              "2                        0.0                        0.0   \n",
              "3                        NaN                        NaN   \n",
              "4                        0.0                        0.0   \n",
              "\n",
              "   AMT_REQ_CREDIT_BUREAU_YEAR  \n",
              "0                         1.0  \n",
              "1                         0.0  \n",
              "2                         0.0  \n",
              "3                         NaN  \n",
              "4                         0.0  "
            ]
          },
          "metadata": {
            "tags": []
          },
          "execution_count": 6
        }
      ]
    },
    {
      "cell_type": "code",
      "metadata": {
        "colab": {
          "base_uri": "https://localhost:8080/"
        },
        "id": "yyNVy08eo5Q2",
        "outputId": "3e285fa6-cfca-4749-a52c-50ee52ae028f"
      },
      "source": [
        "df.shape"
      ],
      "execution_count": 7,
      "outputs": [
        {
          "output_type": "execute_result",
          "data": {
            "text/plain": [
              "(307511, 34)"
            ]
          },
          "metadata": {
            "tags": []
          },
          "execution_count": 7
        }
      ]
    },
    {
      "cell_type": "code",
      "metadata": {
        "id": "JetDgnilrf65"
      },
      "source": [
        "# Change behaviour globaly\n",
        "pd.set_option('display.float_format', lambda x: '%.3f' % x)"
      ],
      "execution_count": 8,
      "outputs": []
    },
    {
      "cell_type": "code",
      "metadata": {
        "colab": {
          "base_uri": "https://localhost:8080/",
          "height": 292
        },
        "id": "Y-2n6Jhh_qoT",
        "outputId": "2fe6f818-21a8-46dd-9467-6c616df8d58c"
      },
      "source": [
        "df.select_dtypes(include=['object']).head()"
      ],
      "execution_count": 9,
      "outputs": [
        {
          "output_type": "execute_result",
          "data": {
            "text/html": [
              "<div>\n",
              "<style scoped>\n",
              "    .dataframe tbody tr th:only-of-type {\n",
              "        vertical-align: middle;\n",
              "    }\n",
              "\n",
              "    .dataframe tbody tr th {\n",
              "        vertical-align: top;\n",
              "    }\n",
              "\n",
              "    .dataframe thead th {\n",
              "        text-align: right;\n",
              "    }\n",
              "</style>\n",
              "<table border=\"1\" class=\"dataframe\">\n",
              "  <thead>\n",
              "    <tr style=\"text-align: right;\">\n",
              "      <th></th>\n",
              "      <th>NAME_CONTRACT_TYPE</th>\n",
              "      <th>CODE_GENDER</th>\n",
              "      <th>FLAG_OWN_CAR</th>\n",
              "      <th>FLAG_OWN_REALTY</th>\n",
              "      <th>NAME_TYPE_SUITE</th>\n",
              "      <th>NAME_INCOME_TYPE</th>\n",
              "      <th>NAME_EDUCATION_TYPE</th>\n",
              "      <th>NAME_FAMILY_STATUS</th>\n",
              "      <th>NAME_HOUSING_TYPE</th>\n",
              "      <th>OCCUPATION_TYPE</th>\n",
              "      <th>ORGANIZATION_TYPE</th>\n",
              "    </tr>\n",
              "  </thead>\n",
              "  <tbody>\n",
              "    <tr>\n",
              "      <th>0</th>\n",
              "      <td>Cash loans</td>\n",
              "      <td>M</td>\n",
              "      <td>N</td>\n",
              "      <td>Y</td>\n",
              "      <td>Unaccompanied</td>\n",
              "      <td>Working</td>\n",
              "      <td>Secondary / secondary special</td>\n",
              "      <td>Single / not married</td>\n",
              "      <td>House / apartment</td>\n",
              "      <td>Laborers</td>\n",
              "      <td>Business Entity Type 3</td>\n",
              "    </tr>\n",
              "    <tr>\n",
              "      <th>1</th>\n",
              "      <td>Cash loans</td>\n",
              "      <td>F</td>\n",
              "      <td>N</td>\n",
              "      <td>N</td>\n",
              "      <td>Family</td>\n",
              "      <td>State servant</td>\n",
              "      <td>Higher education</td>\n",
              "      <td>Married</td>\n",
              "      <td>House / apartment</td>\n",
              "      <td>Core staff</td>\n",
              "      <td>School</td>\n",
              "    </tr>\n",
              "    <tr>\n",
              "      <th>2</th>\n",
              "      <td>Revolving loans</td>\n",
              "      <td>M</td>\n",
              "      <td>Y</td>\n",
              "      <td>Y</td>\n",
              "      <td>Unaccompanied</td>\n",
              "      <td>Working</td>\n",
              "      <td>Secondary / secondary special</td>\n",
              "      <td>Single / not married</td>\n",
              "      <td>House / apartment</td>\n",
              "      <td>Laborers</td>\n",
              "      <td>Government</td>\n",
              "    </tr>\n",
              "    <tr>\n",
              "      <th>3</th>\n",
              "      <td>Cash loans</td>\n",
              "      <td>F</td>\n",
              "      <td>N</td>\n",
              "      <td>Y</td>\n",
              "      <td>Unaccompanied</td>\n",
              "      <td>Working</td>\n",
              "      <td>Secondary / secondary special</td>\n",
              "      <td>Civil marriage</td>\n",
              "      <td>House / apartment</td>\n",
              "      <td>Laborers</td>\n",
              "      <td>Business Entity Type 3</td>\n",
              "    </tr>\n",
              "    <tr>\n",
              "      <th>4</th>\n",
              "      <td>Cash loans</td>\n",
              "      <td>M</td>\n",
              "      <td>N</td>\n",
              "      <td>Y</td>\n",
              "      <td>Unaccompanied</td>\n",
              "      <td>Working</td>\n",
              "      <td>Secondary / secondary special</td>\n",
              "      <td>Single / not married</td>\n",
              "      <td>House / apartment</td>\n",
              "      <td>Core staff</td>\n",
              "      <td>Religion</td>\n",
              "    </tr>\n",
              "  </tbody>\n",
              "</table>\n",
              "</div>"
            ],
            "text/plain": [
              "  NAME_CONTRACT_TYPE CODE_GENDER FLAG_OWN_CAR FLAG_OWN_REALTY NAME_TYPE_SUITE  \\\n",
              "0         Cash loans           M            N               Y   Unaccompanied   \n",
              "1         Cash loans           F            N               N          Family   \n",
              "2    Revolving loans           M            Y               Y   Unaccompanied   \n",
              "3         Cash loans           F            N               Y   Unaccompanied   \n",
              "4         Cash loans           M            N               Y   Unaccompanied   \n",
              "\n",
              "  NAME_INCOME_TYPE            NAME_EDUCATION_TYPE    NAME_FAMILY_STATUS  \\\n",
              "0          Working  Secondary / secondary special  Single / not married   \n",
              "1    State servant               Higher education               Married   \n",
              "2          Working  Secondary / secondary special  Single / not married   \n",
              "3          Working  Secondary / secondary special        Civil marriage   \n",
              "4          Working  Secondary / secondary special  Single / not married   \n",
              "\n",
              "   NAME_HOUSING_TYPE OCCUPATION_TYPE       ORGANIZATION_TYPE  \n",
              "0  House / apartment        Laborers  Business Entity Type 3  \n",
              "1  House / apartment      Core staff                  School  \n",
              "2  House / apartment        Laborers              Government  \n",
              "3  House / apartment        Laborers  Business Entity Type 3  \n",
              "4  House / apartment      Core staff                Religion  "
            ]
          },
          "metadata": {
            "tags": []
          },
          "execution_count": 9
        }
      ]
    },
    {
      "cell_type": "code",
      "metadata": {
        "colab": {
          "base_uri": "https://localhost:8080/",
          "height": 314
        },
        "id": "QnWQe8R__wUg",
        "outputId": "8974ffa6-4d75-4ce4-ef88-3ef8a177ee17"
      },
      "source": [
        "# Statistics for each column\n",
        "df.describe()"
      ],
      "execution_count": 10,
      "outputs": [
        {
          "output_type": "execute_result",
          "data": {
            "text/html": [
              "<div>\n",
              "<style scoped>\n",
              "    .dataframe tbody tr th:only-of-type {\n",
              "        vertical-align: middle;\n",
              "    }\n",
              "\n",
              "    .dataframe tbody tr th {\n",
              "        vertical-align: top;\n",
              "    }\n",
              "\n",
              "    .dataframe thead th {\n",
              "        text-align: right;\n",
              "    }\n",
              "</style>\n",
              "<table border=\"1\" class=\"dataframe\">\n",
              "  <thead>\n",
              "    <tr style=\"text-align: right;\">\n",
              "      <th></th>\n",
              "      <th>SK_ID_CURR</th>\n",
              "      <th>TARGET</th>\n",
              "      <th>CNT_CHILDREN</th>\n",
              "      <th>AMT_INCOME_TOTAL</th>\n",
              "      <th>AMT_CREDIT</th>\n",
              "      <th>AMT_ANNUITY</th>\n",
              "      <th>AMT_GOODS_PRICE</th>\n",
              "      <th>REGION_POPULATION_RELATIVE</th>\n",
              "      <th>OWN_CAR_AGE</th>\n",
              "      <th>FLAG_PHONE</th>\n",
              "      <th>FLAG_EMAIL</th>\n",
              "      <th>CNT_FAM_MEMBERS</th>\n",
              "      <th>REGION_RATING_CLIENT</th>\n",
              "      <th>HOUR_APPR_PROCESS_START</th>\n",
              "      <th>EXT_SOURCE_1</th>\n",
              "      <th>EXT_SOURCE_2</th>\n",
              "      <th>EXT_SOURCE_3</th>\n",
              "      <th>AMT_REQ_CREDIT_BUREAU_HOUR</th>\n",
              "      <th>AMT_REQ_CREDIT_BUREAU_DAY</th>\n",
              "      <th>AMT_REQ_CREDIT_BUREAU_WEEK</th>\n",
              "      <th>AMT_REQ_CREDIT_BUREAU_MON</th>\n",
              "      <th>AMT_REQ_CREDIT_BUREAU_QRT</th>\n",
              "      <th>AMT_REQ_CREDIT_BUREAU_YEAR</th>\n",
              "    </tr>\n",
              "  </thead>\n",
              "  <tbody>\n",
              "    <tr>\n",
              "      <th>count</th>\n",
              "      <td>307511.000</td>\n",
              "      <td>307511.000</td>\n",
              "      <td>307511.000</td>\n",
              "      <td>307511.000</td>\n",
              "      <td>307511.000</td>\n",
              "      <td>307499.000</td>\n",
              "      <td>307233.000</td>\n",
              "      <td>307511.000</td>\n",
              "      <td>104582.000</td>\n",
              "      <td>307511.000</td>\n",
              "      <td>307511.000</td>\n",
              "      <td>307509.000</td>\n",
              "      <td>307511.000</td>\n",
              "      <td>307511.000</td>\n",
              "      <td>134133.000</td>\n",
              "      <td>306851.000</td>\n",
              "      <td>246546.000</td>\n",
              "      <td>265992.000</td>\n",
              "      <td>265992.000</td>\n",
              "      <td>265992.000</td>\n",
              "      <td>265992.000</td>\n",
              "      <td>265992.000</td>\n",
              "      <td>265992.000</td>\n",
              "    </tr>\n",
              "    <tr>\n",
              "      <th>mean</th>\n",
              "      <td>278180.519</td>\n",
              "      <td>0.081</td>\n",
              "      <td>0.417</td>\n",
              "      <td>168797.919</td>\n",
              "      <td>599026.000</td>\n",
              "      <td>27108.574</td>\n",
              "      <td>538396.207</td>\n",
              "      <td>0.021</td>\n",
              "      <td>12.061</td>\n",
              "      <td>0.281</td>\n",
              "      <td>0.057</td>\n",
              "      <td>2.153</td>\n",
              "      <td>2.052</td>\n",
              "      <td>12.063</td>\n",
              "      <td>0.502</td>\n",
              "      <td>0.514</td>\n",
              "      <td>0.511</td>\n",
              "      <td>0.006</td>\n",
              "      <td>0.007</td>\n",
              "      <td>0.034</td>\n",
              "      <td>0.267</td>\n",
              "      <td>0.265</td>\n",
              "      <td>1.900</td>\n",
              "    </tr>\n",
              "    <tr>\n",
              "      <th>std</th>\n",
              "      <td>102790.175</td>\n",
              "      <td>0.272</td>\n",
              "      <td>0.722</td>\n",
              "      <td>237123.146</td>\n",
              "      <td>402490.777</td>\n",
              "      <td>14493.737</td>\n",
              "      <td>369446.461</td>\n",
              "      <td>0.014</td>\n",
              "      <td>11.945</td>\n",
              "      <td>0.450</td>\n",
              "      <td>0.231</td>\n",
              "      <td>0.911</td>\n",
              "      <td>0.509</td>\n",
              "      <td>3.266</td>\n",
              "      <td>0.211</td>\n",
              "      <td>0.191</td>\n",
              "      <td>0.195</td>\n",
              "      <td>0.084</td>\n",
              "      <td>0.111</td>\n",
              "      <td>0.205</td>\n",
              "      <td>0.916</td>\n",
              "      <td>0.794</td>\n",
              "      <td>1.869</td>\n",
              "    </tr>\n",
              "    <tr>\n",
              "      <th>min</th>\n",
              "      <td>100002.000</td>\n",
              "      <td>0.000</td>\n",
              "      <td>0.000</td>\n",
              "      <td>25650.000</td>\n",
              "      <td>45000.000</td>\n",
              "      <td>1615.500</td>\n",
              "      <td>40500.000</td>\n",
              "      <td>0.000</td>\n",
              "      <td>0.000</td>\n",
              "      <td>0.000</td>\n",
              "      <td>0.000</td>\n",
              "      <td>1.000</td>\n",
              "      <td>1.000</td>\n",
              "      <td>0.000</td>\n",
              "      <td>0.015</td>\n",
              "      <td>0.000</td>\n",
              "      <td>0.001</td>\n",
              "      <td>0.000</td>\n",
              "      <td>0.000</td>\n",
              "      <td>0.000</td>\n",
              "      <td>0.000</td>\n",
              "      <td>0.000</td>\n",
              "      <td>0.000</td>\n",
              "    </tr>\n",
              "    <tr>\n",
              "      <th>25%</th>\n",
              "      <td>189145.500</td>\n",
              "      <td>0.000</td>\n",
              "      <td>0.000</td>\n",
              "      <td>112500.000</td>\n",
              "      <td>270000.000</td>\n",
              "      <td>16524.000</td>\n",
              "      <td>238500.000</td>\n",
              "      <td>0.010</td>\n",
              "      <td>5.000</td>\n",
              "      <td>0.000</td>\n",
              "      <td>0.000</td>\n",
              "      <td>2.000</td>\n",
              "      <td>2.000</td>\n",
              "      <td>10.000</td>\n",
              "      <td>0.334</td>\n",
              "      <td>0.392</td>\n",
              "      <td>0.371</td>\n",
              "      <td>0.000</td>\n",
              "      <td>0.000</td>\n",
              "      <td>0.000</td>\n",
              "      <td>0.000</td>\n",
              "      <td>0.000</td>\n",
              "      <td>0.000</td>\n",
              "    </tr>\n",
              "    <tr>\n",
              "      <th>50%</th>\n",
              "      <td>278202.000</td>\n",
              "      <td>0.000</td>\n",
              "      <td>0.000</td>\n",
              "      <td>147150.000</td>\n",
              "      <td>513531.000</td>\n",
              "      <td>24903.000</td>\n",
              "      <td>450000.000</td>\n",
              "      <td>0.019</td>\n",
              "      <td>9.000</td>\n",
              "      <td>0.000</td>\n",
              "      <td>0.000</td>\n",
              "      <td>2.000</td>\n",
              "      <td>2.000</td>\n",
              "      <td>12.000</td>\n",
              "      <td>0.506</td>\n",
              "      <td>0.566</td>\n",
              "      <td>0.535</td>\n",
              "      <td>0.000</td>\n",
              "      <td>0.000</td>\n",
              "      <td>0.000</td>\n",
              "      <td>0.000</td>\n",
              "      <td>0.000</td>\n",
              "      <td>1.000</td>\n",
              "    </tr>\n",
              "    <tr>\n",
              "      <th>75%</th>\n",
              "      <td>367142.500</td>\n",
              "      <td>0.000</td>\n",
              "      <td>1.000</td>\n",
              "      <td>202500.000</td>\n",
              "      <td>808650.000</td>\n",
              "      <td>34596.000</td>\n",
              "      <td>679500.000</td>\n",
              "      <td>0.029</td>\n",
              "      <td>15.000</td>\n",
              "      <td>1.000</td>\n",
              "      <td>0.000</td>\n",
              "      <td>3.000</td>\n",
              "      <td>2.000</td>\n",
              "      <td>14.000</td>\n",
              "      <td>0.675</td>\n",
              "      <td>0.664</td>\n",
              "      <td>0.669</td>\n",
              "      <td>0.000</td>\n",
              "      <td>0.000</td>\n",
              "      <td>0.000</td>\n",
              "      <td>0.000</td>\n",
              "      <td>0.000</td>\n",
              "      <td>3.000</td>\n",
              "    </tr>\n",
              "    <tr>\n",
              "      <th>max</th>\n",
              "      <td>456255.000</td>\n",
              "      <td>1.000</td>\n",
              "      <td>19.000</td>\n",
              "      <td>117000000.000</td>\n",
              "      <td>4050000.000</td>\n",
              "      <td>258025.500</td>\n",
              "      <td>4050000.000</td>\n",
              "      <td>0.073</td>\n",
              "      <td>91.000</td>\n",
              "      <td>1.000</td>\n",
              "      <td>1.000</td>\n",
              "      <td>20.000</td>\n",
              "      <td>3.000</td>\n",
              "      <td>23.000</td>\n",
              "      <td>0.963</td>\n",
              "      <td>0.855</td>\n",
              "      <td>0.896</td>\n",
              "      <td>4.000</td>\n",
              "      <td>9.000</td>\n",
              "      <td>8.000</td>\n",
              "      <td>27.000</td>\n",
              "      <td>261.000</td>\n",
              "      <td>25.000</td>\n",
              "    </tr>\n",
              "  </tbody>\n",
              "</table>\n",
              "</div>"
            ],
            "text/plain": [
              "       SK_ID_CURR     TARGET  CNT_CHILDREN  AMT_INCOME_TOTAL  AMT_CREDIT  \\\n",
              "count  307511.000 307511.000    307511.000        307511.000  307511.000   \n",
              "mean   278180.519      0.081         0.417        168797.919  599026.000   \n",
              "std    102790.175      0.272         0.722        237123.146  402490.777   \n",
              "min    100002.000      0.000         0.000         25650.000   45000.000   \n",
              "25%    189145.500      0.000         0.000        112500.000  270000.000   \n",
              "50%    278202.000      0.000         0.000        147150.000  513531.000   \n",
              "75%    367142.500      0.000         1.000        202500.000  808650.000   \n",
              "max    456255.000      1.000        19.000     117000000.000 4050000.000   \n",
              "\n",
              "       AMT_ANNUITY  AMT_GOODS_PRICE  REGION_POPULATION_RELATIVE  OWN_CAR_AGE  \\\n",
              "count   307499.000       307233.000                  307511.000   104582.000   \n",
              "mean     27108.574       538396.207                       0.021       12.061   \n",
              "std      14493.737       369446.461                       0.014       11.945   \n",
              "min       1615.500        40500.000                       0.000        0.000   \n",
              "25%      16524.000       238500.000                       0.010        5.000   \n",
              "50%      24903.000       450000.000                       0.019        9.000   \n",
              "75%      34596.000       679500.000                       0.029       15.000   \n",
              "max     258025.500      4050000.000                       0.073       91.000   \n",
              "\n",
              "       FLAG_PHONE  FLAG_EMAIL  CNT_FAM_MEMBERS  REGION_RATING_CLIENT  \\\n",
              "count  307511.000  307511.000       307509.000            307511.000   \n",
              "mean        0.281       0.057            2.153                 2.052   \n",
              "std         0.450       0.231            0.911                 0.509   \n",
              "min         0.000       0.000            1.000                 1.000   \n",
              "25%         0.000       0.000            2.000                 2.000   \n",
              "50%         0.000       0.000            2.000                 2.000   \n",
              "75%         1.000       0.000            3.000                 2.000   \n",
              "max         1.000       1.000           20.000                 3.000   \n",
              "\n",
              "       HOUR_APPR_PROCESS_START  EXT_SOURCE_1  EXT_SOURCE_2  EXT_SOURCE_3  \\\n",
              "count               307511.000    134133.000    306851.000    246546.000   \n",
              "mean                    12.063         0.502         0.514         0.511   \n",
              "std                      3.266         0.211         0.191         0.195   \n",
              "min                      0.000         0.015         0.000         0.001   \n",
              "25%                     10.000         0.334         0.392         0.371   \n",
              "50%                     12.000         0.506         0.566         0.535   \n",
              "75%                     14.000         0.675         0.664         0.669   \n",
              "max                     23.000         0.963         0.855         0.896   \n",
              "\n",
              "       AMT_REQ_CREDIT_BUREAU_HOUR  AMT_REQ_CREDIT_BUREAU_DAY  \\\n",
              "count                  265992.000                 265992.000   \n",
              "mean                        0.006                      0.007   \n",
              "std                         0.084                      0.111   \n",
              "min                         0.000                      0.000   \n",
              "25%                         0.000                      0.000   \n",
              "50%                         0.000                      0.000   \n",
              "75%                         0.000                      0.000   \n",
              "max                         4.000                      9.000   \n",
              "\n",
              "       AMT_REQ_CREDIT_BUREAU_WEEK  AMT_REQ_CREDIT_BUREAU_MON  \\\n",
              "count                  265992.000                 265992.000   \n",
              "mean                        0.034                      0.267   \n",
              "std                         0.205                      0.916   \n",
              "min                         0.000                      0.000   \n",
              "25%                         0.000                      0.000   \n",
              "50%                         0.000                      0.000   \n",
              "75%                         0.000                      0.000   \n",
              "max                         8.000                     27.000   \n",
              "\n",
              "       AMT_REQ_CREDIT_BUREAU_QRT  AMT_REQ_CREDIT_BUREAU_YEAR  \n",
              "count                 265992.000                  265992.000  \n",
              "mean                       0.265                       1.900  \n",
              "std                        0.794                       1.869  \n",
              "min                        0.000                       0.000  \n",
              "25%                        0.000                       0.000  \n",
              "50%                        0.000                       1.000  \n",
              "75%                        0.000                       3.000  \n",
              "max                      261.000                      25.000  "
            ]
          },
          "metadata": {
            "tags": []
          },
          "execution_count": 10
        }
      ]
    },
    {
      "cell_type": "code",
      "metadata": {
        "id": "-ghuQddeZni8"
      },
      "source": [
        "# Change behaviour globaly\n",
        "pd.set_option('display.float_format', lambda x: '%.3f' % x)"
      ],
      "execution_count": 11,
      "outputs": []
    },
    {
      "cell_type": "code",
      "metadata": {
        "colab": {
          "base_uri": "https://localhost:8080/"
        },
        "id": "8q2uLplUmg_5",
        "outputId": "ed36d116-d25a-43ac-f507-1c21db8154e7"
      },
      "source": [
        "# Data types and missing values\n",
        "df.info()"
      ],
      "execution_count": 12,
      "outputs": [
        {
          "output_type": "stream",
          "text": [
            "<class 'pandas.core.frame.DataFrame'>\n",
            "RangeIndex: 307511 entries, 0 to 307510\n",
            "Data columns (total 34 columns):\n",
            " #   Column                      Non-Null Count   Dtype  \n",
            "---  ------                      --------------   -----  \n",
            " 0   SK_ID_CURR                  307511 non-null  int64  \n",
            " 1   TARGET                      307511 non-null  int64  \n",
            " 2   NAME_CONTRACT_TYPE          307511 non-null  object \n",
            " 3   CODE_GENDER                 307511 non-null  object \n",
            " 4   FLAG_OWN_CAR                307511 non-null  object \n",
            " 5   FLAG_OWN_REALTY             307511 non-null  object \n",
            " 6   CNT_CHILDREN                307511 non-null  int64  \n",
            " 7   AMT_INCOME_TOTAL            307511 non-null  float64\n",
            " 8   AMT_CREDIT                  307511 non-null  float64\n",
            " 9   AMT_ANNUITY                 307499 non-null  float64\n",
            " 10  AMT_GOODS_PRICE             307233 non-null  float64\n",
            " 11  NAME_TYPE_SUITE             306219 non-null  object \n",
            " 12  NAME_INCOME_TYPE            307511 non-null  object \n",
            " 13  NAME_EDUCATION_TYPE         307511 non-null  object \n",
            " 14  NAME_FAMILY_STATUS          307511 non-null  object \n",
            " 15  NAME_HOUSING_TYPE           307511 non-null  object \n",
            " 16  REGION_POPULATION_RELATIVE  307511 non-null  float64\n",
            " 17  OWN_CAR_AGE                 104582 non-null  float64\n",
            " 18  FLAG_PHONE                  307511 non-null  int64  \n",
            " 19  FLAG_EMAIL                  307511 non-null  int64  \n",
            " 20  OCCUPATION_TYPE             211120 non-null  object \n",
            " 21  CNT_FAM_MEMBERS             307509 non-null  float64\n",
            " 22  REGION_RATING_CLIENT        307511 non-null  int64  \n",
            " 23  HOUR_APPR_PROCESS_START     307511 non-null  int64  \n",
            " 24  ORGANIZATION_TYPE           307511 non-null  object \n",
            " 25  EXT_SOURCE_1                134133 non-null  float64\n",
            " 26  EXT_SOURCE_2                306851 non-null  float64\n",
            " 27  EXT_SOURCE_3                246546 non-null  float64\n",
            " 28  AMT_REQ_CREDIT_BUREAU_HOUR  265992 non-null  float64\n",
            " 29  AMT_REQ_CREDIT_BUREAU_DAY   265992 non-null  float64\n",
            " 30  AMT_REQ_CREDIT_BUREAU_WEEK  265992 non-null  float64\n",
            " 31  AMT_REQ_CREDIT_BUREAU_MON   265992 non-null  float64\n",
            " 32  AMT_REQ_CREDIT_BUREAU_QRT   265992 non-null  float64\n",
            " 33  AMT_REQ_CREDIT_BUREAU_YEAR  265992 non-null  float64\n",
            "dtypes: float64(16), int64(7), object(11)\n",
            "memory usage: 79.8+ MB\n"
          ],
          "name": "stdout"
        }
      ]
    },
    {
      "cell_type": "code",
      "metadata": {
        "id": "zDsqad_zmq0G"
      },
      "source": [
        "# NAME_TYPE_SUITE is an unsupported type, convert series to object\n",
        "df['NAME_TYPE_SUITE'] = df['NAME_TYPE_SUITE'].astype(str)\n",
        "\n",
        "# REGION_RATING_CLIENT convert to string so as to encode variable as ordinal\n",
        "df['REGION_RATING_CLIENT'] = df['REGION_RATING_CLIENT'].astype(str)"
      ],
      "execution_count": 13,
      "outputs": []
    },
    {
      "cell_type": "code",
      "metadata": {
        "colab": {
          "base_uri": "https://localhost:8080/",
          "height": 314
        },
        "id": "MDrv6RQbFtVb",
        "outputId": "a905d06b-92c5-4432-c8e4-646f2dad879c"
      },
      "source": [
        "# Statistics for each column\n",
        "df.describe()"
      ],
      "execution_count": 14,
      "outputs": [
        {
          "output_type": "execute_result",
          "data": {
            "text/html": [
              "<div>\n",
              "<style scoped>\n",
              "    .dataframe tbody tr th:only-of-type {\n",
              "        vertical-align: middle;\n",
              "    }\n",
              "\n",
              "    .dataframe tbody tr th {\n",
              "        vertical-align: top;\n",
              "    }\n",
              "\n",
              "    .dataframe thead th {\n",
              "        text-align: right;\n",
              "    }\n",
              "</style>\n",
              "<table border=\"1\" class=\"dataframe\">\n",
              "  <thead>\n",
              "    <tr style=\"text-align: right;\">\n",
              "      <th></th>\n",
              "      <th>SK_ID_CURR</th>\n",
              "      <th>TARGET</th>\n",
              "      <th>CNT_CHILDREN</th>\n",
              "      <th>AMT_INCOME_TOTAL</th>\n",
              "      <th>AMT_CREDIT</th>\n",
              "      <th>AMT_ANNUITY</th>\n",
              "      <th>AMT_GOODS_PRICE</th>\n",
              "      <th>REGION_POPULATION_RELATIVE</th>\n",
              "      <th>OWN_CAR_AGE</th>\n",
              "      <th>FLAG_PHONE</th>\n",
              "      <th>FLAG_EMAIL</th>\n",
              "      <th>CNT_FAM_MEMBERS</th>\n",
              "      <th>HOUR_APPR_PROCESS_START</th>\n",
              "      <th>EXT_SOURCE_1</th>\n",
              "      <th>EXT_SOURCE_2</th>\n",
              "      <th>EXT_SOURCE_3</th>\n",
              "      <th>AMT_REQ_CREDIT_BUREAU_HOUR</th>\n",
              "      <th>AMT_REQ_CREDIT_BUREAU_DAY</th>\n",
              "      <th>AMT_REQ_CREDIT_BUREAU_WEEK</th>\n",
              "      <th>AMT_REQ_CREDIT_BUREAU_MON</th>\n",
              "      <th>AMT_REQ_CREDIT_BUREAU_QRT</th>\n",
              "      <th>AMT_REQ_CREDIT_BUREAU_YEAR</th>\n",
              "    </tr>\n",
              "  </thead>\n",
              "  <tbody>\n",
              "    <tr>\n",
              "      <th>count</th>\n",
              "      <td>307511.000</td>\n",
              "      <td>307511.000</td>\n",
              "      <td>307511.000</td>\n",
              "      <td>307511.000</td>\n",
              "      <td>307511.000</td>\n",
              "      <td>307499.000</td>\n",
              "      <td>307233.000</td>\n",
              "      <td>307511.000</td>\n",
              "      <td>104582.000</td>\n",
              "      <td>307511.000</td>\n",
              "      <td>307511.000</td>\n",
              "      <td>307509.000</td>\n",
              "      <td>307511.000</td>\n",
              "      <td>134133.000</td>\n",
              "      <td>306851.000</td>\n",
              "      <td>246546.000</td>\n",
              "      <td>265992.000</td>\n",
              "      <td>265992.000</td>\n",
              "      <td>265992.000</td>\n",
              "      <td>265992.000</td>\n",
              "      <td>265992.000</td>\n",
              "      <td>265992.000</td>\n",
              "    </tr>\n",
              "    <tr>\n",
              "      <th>mean</th>\n",
              "      <td>278180.519</td>\n",
              "      <td>0.081</td>\n",
              "      <td>0.417</td>\n",
              "      <td>168797.919</td>\n",
              "      <td>599026.000</td>\n",
              "      <td>27108.574</td>\n",
              "      <td>538396.207</td>\n",
              "      <td>0.021</td>\n",
              "      <td>12.061</td>\n",
              "      <td>0.281</td>\n",
              "      <td>0.057</td>\n",
              "      <td>2.153</td>\n",
              "      <td>12.063</td>\n",
              "      <td>0.502</td>\n",
              "      <td>0.514</td>\n",
              "      <td>0.511</td>\n",
              "      <td>0.006</td>\n",
              "      <td>0.007</td>\n",
              "      <td>0.034</td>\n",
              "      <td>0.267</td>\n",
              "      <td>0.265</td>\n",
              "      <td>1.900</td>\n",
              "    </tr>\n",
              "    <tr>\n",
              "      <th>std</th>\n",
              "      <td>102790.175</td>\n",
              "      <td>0.272</td>\n",
              "      <td>0.722</td>\n",
              "      <td>237123.146</td>\n",
              "      <td>402490.777</td>\n",
              "      <td>14493.737</td>\n",
              "      <td>369446.461</td>\n",
              "      <td>0.014</td>\n",
              "      <td>11.945</td>\n",
              "      <td>0.450</td>\n",
              "      <td>0.231</td>\n",
              "      <td>0.911</td>\n",
              "      <td>3.266</td>\n",
              "      <td>0.211</td>\n",
              "      <td>0.191</td>\n",
              "      <td>0.195</td>\n",
              "      <td>0.084</td>\n",
              "      <td>0.111</td>\n",
              "      <td>0.205</td>\n",
              "      <td>0.916</td>\n",
              "      <td>0.794</td>\n",
              "      <td>1.869</td>\n",
              "    </tr>\n",
              "    <tr>\n",
              "      <th>min</th>\n",
              "      <td>100002.000</td>\n",
              "      <td>0.000</td>\n",
              "      <td>0.000</td>\n",
              "      <td>25650.000</td>\n",
              "      <td>45000.000</td>\n",
              "      <td>1615.500</td>\n",
              "      <td>40500.000</td>\n",
              "      <td>0.000</td>\n",
              "      <td>0.000</td>\n",
              "      <td>0.000</td>\n",
              "      <td>0.000</td>\n",
              "      <td>1.000</td>\n",
              "      <td>0.000</td>\n",
              "      <td>0.015</td>\n",
              "      <td>0.000</td>\n",
              "      <td>0.001</td>\n",
              "      <td>0.000</td>\n",
              "      <td>0.000</td>\n",
              "      <td>0.000</td>\n",
              "      <td>0.000</td>\n",
              "      <td>0.000</td>\n",
              "      <td>0.000</td>\n",
              "    </tr>\n",
              "    <tr>\n",
              "      <th>25%</th>\n",
              "      <td>189145.500</td>\n",
              "      <td>0.000</td>\n",
              "      <td>0.000</td>\n",
              "      <td>112500.000</td>\n",
              "      <td>270000.000</td>\n",
              "      <td>16524.000</td>\n",
              "      <td>238500.000</td>\n",
              "      <td>0.010</td>\n",
              "      <td>5.000</td>\n",
              "      <td>0.000</td>\n",
              "      <td>0.000</td>\n",
              "      <td>2.000</td>\n",
              "      <td>10.000</td>\n",
              "      <td>0.334</td>\n",
              "      <td>0.392</td>\n",
              "      <td>0.371</td>\n",
              "      <td>0.000</td>\n",
              "      <td>0.000</td>\n",
              "      <td>0.000</td>\n",
              "      <td>0.000</td>\n",
              "      <td>0.000</td>\n",
              "      <td>0.000</td>\n",
              "    </tr>\n",
              "    <tr>\n",
              "      <th>50%</th>\n",
              "      <td>278202.000</td>\n",
              "      <td>0.000</td>\n",
              "      <td>0.000</td>\n",
              "      <td>147150.000</td>\n",
              "      <td>513531.000</td>\n",
              "      <td>24903.000</td>\n",
              "      <td>450000.000</td>\n",
              "      <td>0.019</td>\n",
              "      <td>9.000</td>\n",
              "      <td>0.000</td>\n",
              "      <td>0.000</td>\n",
              "      <td>2.000</td>\n",
              "      <td>12.000</td>\n",
              "      <td>0.506</td>\n",
              "      <td>0.566</td>\n",
              "      <td>0.535</td>\n",
              "      <td>0.000</td>\n",
              "      <td>0.000</td>\n",
              "      <td>0.000</td>\n",
              "      <td>0.000</td>\n",
              "      <td>0.000</td>\n",
              "      <td>1.000</td>\n",
              "    </tr>\n",
              "    <tr>\n",
              "      <th>75%</th>\n",
              "      <td>367142.500</td>\n",
              "      <td>0.000</td>\n",
              "      <td>1.000</td>\n",
              "      <td>202500.000</td>\n",
              "      <td>808650.000</td>\n",
              "      <td>34596.000</td>\n",
              "      <td>679500.000</td>\n",
              "      <td>0.029</td>\n",
              "      <td>15.000</td>\n",
              "      <td>1.000</td>\n",
              "      <td>0.000</td>\n",
              "      <td>3.000</td>\n",
              "      <td>14.000</td>\n",
              "      <td>0.675</td>\n",
              "      <td>0.664</td>\n",
              "      <td>0.669</td>\n",
              "      <td>0.000</td>\n",
              "      <td>0.000</td>\n",
              "      <td>0.000</td>\n",
              "      <td>0.000</td>\n",
              "      <td>0.000</td>\n",
              "      <td>3.000</td>\n",
              "    </tr>\n",
              "    <tr>\n",
              "      <th>max</th>\n",
              "      <td>456255.000</td>\n",
              "      <td>1.000</td>\n",
              "      <td>19.000</td>\n",
              "      <td>117000000.000</td>\n",
              "      <td>4050000.000</td>\n",
              "      <td>258025.500</td>\n",
              "      <td>4050000.000</td>\n",
              "      <td>0.073</td>\n",
              "      <td>91.000</td>\n",
              "      <td>1.000</td>\n",
              "      <td>1.000</td>\n",
              "      <td>20.000</td>\n",
              "      <td>23.000</td>\n",
              "      <td>0.963</td>\n",
              "      <td>0.855</td>\n",
              "      <td>0.896</td>\n",
              "      <td>4.000</td>\n",
              "      <td>9.000</td>\n",
              "      <td>8.000</td>\n",
              "      <td>27.000</td>\n",
              "      <td>261.000</td>\n",
              "      <td>25.000</td>\n",
              "    </tr>\n",
              "  </tbody>\n",
              "</table>\n",
              "</div>"
            ],
            "text/plain": [
              "       SK_ID_CURR     TARGET  CNT_CHILDREN  AMT_INCOME_TOTAL  AMT_CREDIT  \\\n",
              "count  307511.000 307511.000    307511.000        307511.000  307511.000   \n",
              "mean   278180.519      0.081         0.417        168797.919  599026.000   \n",
              "std    102790.175      0.272         0.722        237123.146  402490.777   \n",
              "min    100002.000      0.000         0.000         25650.000   45000.000   \n",
              "25%    189145.500      0.000         0.000        112500.000  270000.000   \n",
              "50%    278202.000      0.000         0.000        147150.000  513531.000   \n",
              "75%    367142.500      0.000         1.000        202500.000  808650.000   \n",
              "max    456255.000      1.000        19.000     117000000.000 4050000.000   \n",
              "\n",
              "       AMT_ANNUITY  AMT_GOODS_PRICE  REGION_POPULATION_RELATIVE  OWN_CAR_AGE  \\\n",
              "count   307499.000       307233.000                  307511.000   104582.000   \n",
              "mean     27108.574       538396.207                       0.021       12.061   \n",
              "std      14493.737       369446.461                       0.014       11.945   \n",
              "min       1615.500        40500.000                       0.000        0.000   \n",
              "25%      16524.000       238500.000                       0.010        5.000   \n",
              "50%      24903.000       450000.000                       0.019        9.000   \n",
              "75%      34596.000       679500.000                       0.029       15.000   \n",
              "max     258025.500      4050000.000                       0.073       91.000   \n",
              "\n",
              "       FLAG_PHONE  FLAG_EMAIL  CNT_FAM_MEMBERS  HOUR_APPR_PROCESS_START  \\\n",
              "count  307511.000  307511.000       307509.000               307511.000   \n",
              "mean        0.281       0.057            2.153                   12.063   \n",
              "std         0.450       0.231            0.911                    3.266   \n",
              "min         0.000       0.000            1.000                    0.000   \n",
              "25%         0.000       0.000            2.000                   10.000   \n",
              "50%         0.000       0.000            2.000                   12.000   \n",
              "75%         1.000       0.000            3.000                   14.000   \n",
              "max         1.000       1.000           20.000                   23.000   \n",
              "\n",
              "       EXT_SOURCE_1  EXT_SOURCE_2  EXT_SOURCE_3  AMT_REQ_CREDIT_BUREAU_HOUR  \\\n",
              "count    134133.000    306851.000    246546.000                  265992.000   \n",
              "mean          0.502         0.514         0.511                       0.006   \n",
              "std           0.211         0.191         0.195                       0.084   \n",
              "min           0.015         0.000         0.001                       0.000   \n",
              "25%           0.334         0.392         0.371                       0.000   \n",
              "50%           0.506         0.566         0.535                       0.000   \n",
              "75%           0.675         0.664         0.669                       0.000   \n",
              "max           0.963         0.855         0.896                       4.000   \n",
              "\n",
              "       AMT_REQ_CREDIT_BUREAU_DAY  AMT_REQ_CREDIT_BUREAU_WEEK  \\\n",
              "count                 265992.000                  265992.000   \n",
              "mean                       0.007                       0.034   \n",
              "std                        0.111                       0.205   \n",
              "min                        0.000                       0.000   \n",
              "25%                        0.000                       0.000   \n",
              "50%                        0.000                       0.000   \n",
              "75%                        0.000                       0.000   \n",
              "max                        9.000                       8.000   \n",
              "\n",
              "       AMT_REQ_CREDIT_BUREAU_MON  AMT_REQ_CREDIT_BUREAU_QRT  \\\n",
              "count                 265992.000                 265992.000   \n",
              "mean                       0.267                      0.265   \n",
              "std                        0.916                      0.794   \n",
              "min                        0.000                      0.000   \n",
              "25%                        0.000                      0.000   \n",
              "50%                        0.000                      0.000   \n",
              "75%                        0.000                      0.000   \n",
              "max                       27.000                    261.000   \n",
              "\n",
              "       AMT_REQ_CREDIT_BUREAU_YEAR  \n",
              "count                  265992.000  \n",
              "mean                        1.900  \n",
              "std                         1.869  \n",
              "min                         0.000  \n",
              "25%                         0.000  \n",
              "50%                         1.000  \n",
              "75%                         3.000  \n",
              "max                        25.000  "
            ]
          },
          "metadata": {
            "tags": []
          },
          "execution_count": 14
        }
      ]
    },
    {
      "cell_type": "code",
      "metadata": {
        "colab": {
          "base_uri": "https://localhost:8080/",
          "height": 820
        },
        "id": "SKBcpijt2bED",
        "outputId": "3f20fbc2-e6cc-470e-e840-5e5aeebeebbb"
      },
      "source": [
        "# Heatmap numeric variables\n",
        "plt.figure(figsize=(7, 7))\n",
        "sns.heatmap(df.corr())"
      ],
      "execution_count": 51,
      "outputs": [
        {
          "output_type": "execute_result",
          "data": {
            "text/plain": [
              "<matplotlib.axes._subplots.AxesSubplot at 0x7f728c072a58>"
            ]
          },
          "metadata": {
            "tags": []
          },
          "execution_count": 51
        },
        {
          "output_type": "display_data",
          "data": {
            "image/png": "[encoded data removed]",
            "text/plain": [
              "<Figure size 504x504 with 2 Axes>"
            ]
          },
          "metadata": {
            "tags": []
          }
        }
      ]
    },
    {
      "cell_type": "markdown",
      "metadata": {
        "id": "S8Hlk7KJGUDE"
      },
      "source": [
        "## Missing values"
      ]
    },
    {
      "cell_type": "code",
      "metadata": {
        "colab": {
          "base_uri": "https://localhost:8080/"
        },
        "id": "x1eo-91602Nn",
        "outputId": "fe3218f9-0f93-41c0-95e9-5bed8fd48615"
      },
      "source": [
        "df.nunique()"
      ],
      "execution_count": 16,
      "outputs": [
        {
          "output_type": "execute_result",
          "data": {
            "text/plain": [
              "SK_ID_CURR                    307511\n",
              "TARGET                             2\n",
              "NAME_CONTRACT_TYPE                 2\n",
              "CODE_GENDER                        3\n",
              "FLAG_OWN_CAR                       2\n",
              "FLAG_OWN_REALTY                    2\n",
              "CNT_CHILDREN                      15\n",
              "AMT_INCOME_TOTAL                2548\n",
              "AMT_CREDIT                      5603\n",
              "AMT_ANNUITY                    13672\n",
              "AMT_GOODS_PRICE                 1002\n",
              "NAME_TYPE_SUITE                    8\n",
              "NAME_INCOME_TYPE                   8\n",
              "NAME_EDUCATION_TYPE                5\n",
              "NAME_FAMILY_STATUS                 6\n",
              "NAME_HOUSING_TYPE                  6\n",
              "REGION_POPULATION_RELATIVE        81\n",
              "OWN_CAR_AGE                       62\n",
              "FLAG_PHONE                         2\n",
              "FLAG_EMAIL                         2\n",
              "OCCUPATION_TYPE                   18\n",
              "CNT_FAM_MEMBERS                   17\n",
              "REGION_RATING_CLIENT               3\n",
              "HOUR_APPR_PROCESS_START           24\n",
              "ORGANIZATION_TYPE                 58\n",
              "EXT_SOURCE_1                  114584\n",
              "EXT_SOURCE_2                  119828\n",
              "EXT_SOURCE_3                     814\n",
              "AMT_REQ_CREDIT_BUREAU_HOUR         5\n",
              "AMT_REQ_CREDIT_BUREAU_DAY          9\n",
              "AMT_REQ_CREDIT_BUREAU_WEEK         9\n",
              "AMT_REQ_CREDIT_BUREAU_MON         24\n",
              "AMT_REQ_CREDIT_BUREAU_QRT         11\n",
              "AMT_REQ_CREDIT_BUREAU_YEAR        25\n",
              "dtype: int64"
            ]
          },
          "metadata": {
            "tags": []
          },
          "execution_count": 16
        }
      ]
    },
    {
      "cell_type": "code",
      "metadata": {
        "colab": {
          "base_uri": "https://localhost:8080/"
        },
        "id": "Wx7uhulFGAkk",
        "outputId": "30ff55f8-63f1-4b58-9fe7-94b0f62d6b37"
      },
      "source": [
        "# Missing values\n",
        "df.isnull().any()"
      ],
      "execution_count": 17,
      "outputs": [
        {
          "output_type": "execute_result",
          "data": {
            "text/plain": [
              "SK_ID_CURR                    False\n",
              "TARGET                        False\n",
              "NAME_CONTRACT_TYPE            False\n",
              "CODE_GENDER                   False\n",
              "FLAG_OWN_CAR                  False\n",
              "FLAG_OWN_REALTY               False\n",
              "CNT_CHILDREN                  False\n",
              "AMT_INCOME_TOTAL              False\n",
              "AMT_CREDIT                    False\n",
              "AMT_ANNUITY                    True\n",
              "AMT_GOODS_PRICE                True\n",
              "NAME_TYPE_SUITE               False\n",
              "NAME_INCOME_TYPE              False\n",
              "NAME_EDUCATION_TYPE           False\n",
              "NAME_FAMILY_STATUS            False\n",
              "NAME_HOUSING_TYPE             False\n",
              "REGION_POPULATION_RELATIVE    False\n",
              "OWN_CAR_AGE                    True\n",
              "FLAG_PHONE                    False\n",
              "FLAG_EMAIL                    False\n",
              "OCCUPATION_TYPE                True\n",
              "CNT_FAM_MEMBERS                True\n",
              "REGION_RATING_CLIENT          False\n",
              "HOUR_APPR_PROCESS_START       False\n",
              "ORGANIZATION_TYPE             False\n",
              "EXT_SOURCE_1                   True\n",
              "EXT_SOURCE_2                   True\n",
              "EXT_SOURCE_3                   True\n",
              "AMT_REQ_CREDIT_BUREAU_HOUR     True\n",
              "AMT_REQ_CREDIT_BUREAU_DAY      True\n",
              "AMT_REQ_CREDIT_BUREAU_WEEK     True\n",
              "AMT_REQ_CREDIT_BUREAU_MON      True\n",
              "AMT_REQ_CREDIT_BUREAU_QRT      True\n",
              "AMT_REQ_CREDIT_BUREAU_YEAR     True\n",
              "dtype: bool"
            ]
          },
          "metadata": {
            "tags": []
          },
          "execution_count": 17
        }
      ]
    },
    {
      "cell_type": "code",
      "metadata": {
        "colab": {
          "base_uri": "https://localhost:8080/"
        },
        "id": "pQnm0H32Gl0L",
        "outputId": "f5389737-7b07-4eed-b361-51c643ce66d3"
      },
      "source": [
        "# Quantify number of missing values\n",
        "df.isnull().sum()"
      ],
      "execution_count": 18,
      "outputs": [
        {
          "output_type": "execute_result",
          "data": {
            "text/plain": [
              "SK_ID_CURR                         0\n",
              "TARGET                             0\n",
              "NAME_CONTRACT_TYPE                 0\n",
              "CODE_GENDER                        0\n",
              "FLAG_OWN_CAR                       0\n",
              "FLAG_OWN_REALTY                    0\n",
              "CNT_CHILDREN                       0\n",
              "AMT_INCOME_TOTAL                   0\n",
              "AMT_CREDIT                         0\n",
              "AMT_ANNUITY                       12\n",
              "AMT_GOODS_PRICE                  278\n",
              "NAME_TYPE_SUITE                    0\n",
              "NAME_INCOME_TYPE                   0\n",
              "NAME_EDUCATION_TYPE                0\n",
              "NAME_FAMILY_STATUS                 0\n",
              "NAME_HOUSING_TYPE                  0\n",
              "REGION_POPULATION_RELATIVE         0\n",
              "OWN_CAR_AGE                   202929\n",
              "FLAG_PHONE                         0\n",
              "FLAG_EMAIL                         0\n",
              "OCCUPATION_TYPE                96391\n",
              "CNT_FAM_MEMBERS                    2\n",
              "REGION_RATING_CLIENT               0\n",
              "HOUR_APPR_PROCESS_START            0\n",
              "ORGANIZATION_TYPE                  0\n",
              "EXT_SOURCE_1                  173378\n",
              "EXT_SOURCE_2                     660\n",
              "EXT_SOURCE_3                   60965\n",
              "AMT_REQ_CREDIT_BUREAU_HOUR     41519\n",
              "AMT_REQ_CREDIT_BUREAU_DAY      41519\n",
              "AMT_REQ_CREDIT_BUREAU_WEEK     41519\n",
              "AMT_REQ_CREDIT_BUREAU_MON      41519\n",
              "AMT_REQ_CREDIT_BUREAU_QRT      41519\n",
              "AMT_REQ_CREDIT_BUREAU_YEAR     41519\n",
              "dtype: int64"
            ]
          },
          "metadata": {
            "tags": []
          },
          "execution_count": 18
        }
      ]
    },
    {
      "cell_type": "code",
      "metadata": {
        "colab": {
          "base_uri": "https://localhost:8080/"
        },
        "id": "uisyXjAtg6CZ",
        "outputId": "8228279f-7f39-448c-f2e5-cebcd44aa683"
      },
      "source": [
        "# Percentage of missing values in each column\n",
        "mis_val = ((df.isna().sum()) / len(df.index)).sort_values(ascending=False)\n",
        "mis_val = mis_val[mis_val > 0]\n",
        "print(mis_val * 100)"
      ],
      "execution_count": 19,
      "outputs": [
        {
          "output_type": "stream",
          "text": [
            "OWN_CAR_AGE                  65.991\n",
            "EXT_SOURCE_1                 56.381\n",
            "OCCUPATION_TYPE              31.346\n",
            "EXT_SOURCE_3                 19.825\n",
            "AMT_REQ_CREDIT_BUREAU_YEAR   13.502\n",
            "AMT_REQ_CREDIT_BUREAU_MON    13.502\n",
            "AMT_REQ_CREDIT_BUREAU_WEEK   13.502\n",
            "AMT_REQ_CREDIT_BUREAU_DAY    13.502\n",
            "AMT_REQ_CREDIT_BUREAU_HOUR   13.502\n",
            "AMT_REQ_CREDIT_BUREAU_QRT    13.502\n",
            "EXT_SOURCE_2                  0.215\n",
            "AMT_GOODS_PRICE               0.090\n",
            "AMT_ANNUITY                   0.004\n",
            "CNT_FAM_MEMBERS               0.001\n",
            "dtype: float64\n"
          ],
          "name": "stdout"
        }
      ]
    },
    {
      "cell_type": "code",
      "metadata": {
        "id": "Tyfgo_91g59w"
      },
      "source": [
        "# Drop columns where missing values > 30%\n",
        "df.drop(mis_val[mis_val > 0.3].index, axis=1, inplace=True)"
      ],
      "execution_count": 20,
      "outputs": []
    },
    {
      "cell_type": "code",
      "metadata": {
        "id": "tlKSmU0Rg54n"
      },
      "source": [
        "# Drop rows where missing values > 30\n",
        "df.dropna(axis=0, thresh=8, inplace=True)"
      ],
      "execution_count": 21,
      "outputs": []
    },
    {
      "cell_type": "code",
      "metadata": {
        "colab": {
          "base_uri": "https://localhost:8080/"
        },
        "id": "I_cKXpMep1lC",
        "outputId": "e2eb9f3c-1cb8-43ef-c015-b956968444bf"
      },
      "source": [
        "df.shape"
      ],
      "execution_count": 22,
      "outputs": [
        {
          "output_type": "execute_result",
          "data": {
            "text/plain": [
              "(307511, 31)"
            ]
          },
          "metadata": {
            "tags": []
          },
          "execution_count": 22
        }
      ]
    },
    {
      "cell_type": "code",
      "metadata": {
        "colab": {
          "base_uri": "https://localhost:8080/"
        },
        "id": "NKhWa8bkp1hU",
        "outputId": "c00bda2a-4643-456a-9b56-38d100906023"
      },
      "source": [
        "# quantify number of missing values\n",
        "df.isnull().sum()"
      ],
      "execution_count": 23,
      "outputs": [
        {
          "output_type": "execute_result",
          "data": {
            "text/plain": [
              "SK_ID_CURR                        0\n",
              "TARGET                            0\n",
              "NAME_CONTRACT_TYPE                0\n",
              "CODE_GENDER                       0\n",
              "FLAG_OWN_CAR                      0\n",
              "FLAG_OWN_REALTY                   0\n",
              "CNT_CHILDREN                      0\n",
              "AMT_INCOME_TOTAL                  0\n",
              "AMT_CREDIT                        0\n",
              "AMT_ANNUITY                      12\n",
              "AMT_GOODS_PRICE                 278\n",
              "NAME_TYPE_SUITE                   0\n",
              "NAME_INCOME_TYPE                  0\n",
              "NAME_EDUCATION_TYPE               0\n",
              "NAME_FAMILY_STATUS                0\n",
              "NAME_HOUSING_TYPE                 0\n",
              "REGION_POPULATION_RELATIVE        0\n",
              "FLAG_PHONE                        0\n",
              "FLAG_EMAIL                        0\n",
              "CNT_FAM_MEMBERS                   2\n",
              "REGION_RATING_CLIENT              0\n",
              "HOUR_APPR_PROCESS_START           0\n",
              "ORGANIZATION_TYPE                 0\n",
              "EXT_SOURCE_2                    660\n",
              "EXT_SOURCE_3                  60965\n",
              "AMT_REQ_CREDIT_BUREAU_HOUR    41519\n",
              "AMT_REQ_CREDIT_BUREAU_DAY     41519\n",
              "AMT_REQ_CREDIT_BUREAU_WEEK    41519\n",
              "AMT_REQ_CREDIT_BUREAU_MON     41519\n",
              "AMT_REQ_CREDIT_BUREAU_QRT     41519\n",
              "AMT_REQ_CREDIT_BUREAU_YEAR    41519\n",
              "dtype: int64"
            ]
          },
          "metadata": {
            "tags": []
          },
          "execution_count": 23
        }
      ]
    },
    {
      "cell_type": "markdown",
      "metadata": {
        "id": "7EcFFHgWp82E"
      },
      "source": [
        "### Impute Missing Values"
      ]
    },
    {
      "cell_type": "code",
      "metadata": {
        "id": "w3f38Zeqp1a2"
      },
      "source": [
        "# numeric columns\n",
        "df.fillna(df.select_dtypes(include='number').mean().iloc[0], inplace=True)\n",
        "\n",
        "# categorical columns\n",
        "df.fillna(df.select_dtypes(include='object').mode().iloc[0], inplace=True)"
      ],
      "execution_count": 24,
      "outputs": []
    },
    {
      "cell_type": "code",
      "metadata": {
        "colab": {
          "base_uri": "https://localhost:8080/"
        },
        "id": "BLiFhUeDqDsi",
        "outputId": "d395c69f-6204-4837-e4b2-6fc80f03d59a"
      },
      "source": [
        "# unique values\n",
        "uni_val = df.apply(lambda x: len(pd.unique(x)), axis=0).sort_values(ascending=False)\n",
        "uni_val"
      ],
      "execution_count": 25,
      "outputs": [
        {
          "output_type": "execute_result",
          "data": {
            "text/plain": [
              "SK_ID_CURR                    307511\n",
              "EXT_SOURCE_2                  119829\n",
              "AMT_ANNUITY                    13673\n",
              "AMT_CREDIT                      5603\n",
              "AMT_INCOME_TOTAL                2548\n",
              "AMT_GOODS_PRICE                 1003\n",
              "EXT_SOURCE_3                     815\n",
              "REGION_POPULATION_RELATIVE        81\n",
              "ORGANIZATION_TYPE                 58\n",
              "AMT_REQ_CREDIT_BUREAU_YEAR        26\n",
              "AMT_REQ_CREDIT_BUREAU_MON         25\n",
              "HOUR_APPR_PROCESS_START           24\n",
              "CNT_FAM_MEMBERS                   18\n",
              "CNT_CHILDREN                      15\n",
              "AMT_REQ_CREDIT_BUREAU_QRT         12\n",
              "AMT_REQ_CREDIT_BUREAU_WEEK        10\n",
              "AMT_REQ_CREDIT_BUREAU_DAY         10\n",
              "NAME_INCOME_TYPE                   8\n",
              "NAME_TYPE_SUITE                    8\n",
              "AMT_REQ_CREDIT_BUREAU_HOUR         6\n",
              "NAME_HOUSING_TYPE                  6\n",
              "NAME_FAMILY_STATUS                 6\n",
              "NAME_EDUCATION_TYPE                5\n",
              "CODE_GENDER                        3\n",
              "REGION_RATING_CLIENT               3\n",
              "FLAG_PHONE                         2\n",
              "FLAG_EMAIL                         2\n",
              "FLAG_OWN_REALTY                    2\n",
              "FLAG_OWN_CAR                       2\n",
              "NAME_CONTRACT_TYPE                 2\n",
              "TARGET                             2\n",
              "dtype: int64"
            ]
          },
          "metadata": {
            "tags": []
          },
          "execution_count": 25
        }
      ]
    },
    {
      "cell_type": "markdown",
      "metadata": {
        "id": "Eq6GknXYqYpf"
      },
      "source": [
        "## Drop columns"
      ]
    },
    {
      "cell_type": "code",
      "metadata": {
        "colab": {
          "base_uri": "https://localhost:8080/"
        },
        "id": "9b_sVZ-vqDpP",
        "outputId": "18768b4d-81b1-4ba4-80c6-2aebce6732ae"
      },
      "source": [
        "# Lets sample the count for variables having unique values\n",
        "def column_analyse(x, df=df): \n",
        "    print(df[x].value_counts(), '\\n', df[x].value_counts()/len(df[x]))\n",
        "\n",
        "column_analyse('TARGET') \n",
        "column_analyse('NAME_CONTRACT_TYPE')\n",
        "column_analyse('FLAG_EMAIL')"
      ],
      "execution_count": 26,
      "outputs": [
        {
          "output_type": "stream",
          "text": [
            "0    282686\n",
            "1     24825\n",
            "Name: TARGET, dtype: int64 \n",
            " 0   0.919\n",
            "1   0.081\n",
            "Name: TARGET, dtype: float64\n",
            "Cash loans         278232\n",
            "Revolving loans     29279\n",
            "Name: NAME_CONTRACT_TYPE, dtype: int64 \n",
            " Cash loans        0.905\n",
            "Revolving loans   0.095\n",
            "Name: NAME_CONTRACT_TYPE, dtype: float64\n",
            "0    290069\n",
            "1     17442\n",
            "Name: FLAG_EMAIL, dtype: int64 \n",
            " 0   0.943\n",
            "1   0.057\n",
            "Name: FLAG_EMAIL, dtype: float64\n"
          ],
          "name": "stdout"
        }
      ]
    },
    {
      "cell_type": "markdown",
      "metadata": {
        "id": "xEfsoPvlqjPL"
      },
      "source": [
        "### Observation\n",
        "\n",
        "* We will remove SK_ID_CURR as it is 100% unique\n",
        "* TARGET, NAME_CONTRACT_TYPE and FLAG_EMAIL are highly imbalanced, more than 90%\n",
        "* AMT_GOODS_PRICE is highly correlated with AMT_CREDIT\n",
        "* ORGANIZATION_TYPE has a high cardinality: 58 distinct values\n",
        "* EXT_SOURCE_2, EXT_SOURCE_3 are too detailed for analysis\n",
        "* ML models should be trained to predict the customer behavior before the loan application is processed, thus AMT_REQ_CREDIT_BUREAU data are removed"
      ]
    },
    {
      "cell_type": "code",
      "metadata": {
        "id": "vOxpn9p5qDnR"
      },
      "source": [
        "delete_cols = ['SK_ID_CURR', 'NAME_CONTRACT_TYPE', 'FLAG_EMAIL', 'FLAG_PHONE',\n",
        "               'AMT_GOODS_PRICE', 'HOUR_APPR_PROCESS_START', 'EXT_SOURCE_2', \n",
        "               'EXT_SOURCE_3', 'AMT_REQ_CREDIT_BUREAU_HOUR', 'ORGANIZATION_TYPE',\n",
        "               'AMT_REQ_CREDIT_BUREAU_DAY', 'AMT_REQ_CREDIT_BUREAU_WEEK', \n",
        "               'AMT_REQ_CREDIT_BUREAU_MON', 'AMT_REQ_CREDIT_BUREAU_QRT', \n",
        "               'AMT_REQ_CREDIT_BUREAU_YEAR']\n",
        "\n",
        "df.drop(delete_cols, axis=1, inplace=True)"
      ],
      "execution_count": 27,
      "outputs": []
    },
    {
      "cell_type": "code",
      "metadata": {
        "colab": {
          "base_uri": "https://localhost:8080/"
        },
        "id": "BsyU2ea4qDjC",
        "outputId": "22ab883e-40bf-4dc9-f3fa-20919c235ac8"
      },
      "source": [
        "df.shape"
      ],
      "execution_count": 28,
      "outputs": [
        {
          "output_type": "execute_result",
          "data": {
            "text/plain": [
              "(307511, 16)"
            ]
          },
          "metadata": {
            "tags": []
          },
          "execution_count": 28
        }
      ]
    },
    {
      "cell_type": "code",
      "metadata": {
        "colab": {
          "base_uri": "https://localhost:8080/"
        },
        "id": "PFR6J0W5qDfj",
        "outputId": "f2a3da6e-40d6-4666-816e-274390104b84"
      },
      "source": [
        "df.info()"
      ],
      "execution_count": 29,
      "outputs": [
        {
          "output_type": "stream",
          "text": [
            "<class 'pandas.core.frame.DataFrame'>\n",
            "Int64Index: 307511 entries, 0 to 307510\n",
            "Data columns (total 16 columns):\n",
            " #   Column                      Non-Null Count   Dtype  \n",
            "---  ------                      --------------   -----  \n",
            " 0   TARGET                      307511 non-null  int64  \n",
            " 1   CODE_GENDER                 307511 non-null  object \n",
            " 2   FLAG_OWN_CAR                307511 non-null  object \n",
            " 3   FLAG_OWN_REALTY             307511 non-null  object \n",
            " 4   CNT_CHILDREN                307511 non-null  int64  \n",
            " 5   AMT_INCOME_TOTAL            307511 non-null  float64\n",
            " 6   AMT_CREDIT                  307511 non-null  float64\n",
            " 7   AMT_ANNUITY                 307511 non-null  float64\n",
            " 8   NAME_TYPE_SUITE             307511 non-null  object \n",
            " 9   NAME_INCOME_TYPE            307511 non-null  object \n",
            " 10  NAME_EDUCATION_TYPE         307511 non-null  object \n",
            " 11  NAME_FAMILY_STATUS          307511 non-null  object \n",
            " 12  NAME_HOUSING_TYPE           307511 non-null  object \n",
            " 13  REGION_POPULATION_RELATIVE  307511 non-null  float64\n",
            " 14  CNT_FAM_MEMBERS             307511 non-null  float64\n",
            " 15  REGION_RATING_CLIENT        307511 non-null  object \n",
            "dtypes: float64(5), int64(2), object(9)\n",
            "memory usage: 39.9+ MB\n"
          ],
          "name": "stdout"
        }
      ]
    },
    {
      "cell_type": "markdown",
      "metadata": {
        "id": "w67EL0vqZ9Qa"
      },
      "source": [
        "# Exploratory Data Analysis"
      ]
    },
    {
      "cell_type": "code",
      "metadata": {
        "id": "V1Zz-2qIWu3A"
      },
      "source": [
        "for i in df.select_dtypes(include=['object']).columns:\n",
        "    df.drop(labels=i, axis=1, inplace=True)"
      ],
      "execution_count": 30,
      "outputs": []
    },
    {
      "cell_type": "code",
      "metadata": {
        "colab": {
          "base_uri": "https://localhost:8080/",
          "height": 0
        },
        "id": "Cw5M4SHbaLvq",
        "outputId": "a21627eb-d370-4a18-ddf3-49878642db7f"
      },
      "source": [
        "# Single Variable Plots\n",
        "figsize=(8, 8)\n",
        "\n",
        "# Histogram of the loss\n",
        "plt.style.use('fivethirtyeight')\n",
        "plt.hist(df['TARGET'], bins = 100, edgecolor = 'k')\n",
        "plt.xlabel('Loss') \n",
        "plt.ylabel('Number of Clients');\n",
        "plt.title('Target Distribution')"
      ],
      "execution_count": 31,
      "outputs": [
        {
          "output_type": "execute_result",
          "data": {
            "text/plain": [
              "Text(0.5, 1.0, 'Target Distribution')"
            ]
          },
          "metadata": {
            "tags": []
          },
          "execution_count": 31
        },
        {
          "output_type": "display_data",
          "data": {
            "image/png": "[encoded data removed]",
            "text/plain": [
              "<Figure size 432x288 with 1 Axes>"
            ]
          },
          "metadata": {
            "tags": []
          }
        }
      ]
    },
    {
      "cell_type": "code",
      "metadata": {
        "colab": {
          "base_uri": "https://localhost:8080/"
        },
        "id": "Jokd5jSkbeyx",
        "outputId": "482fc5a6-a92c-43b5-f435-17313422f707"
      },
      "source": [
        "# # Correlations between Features and Target\n",
        "\n",
        "# Find all correlations and sort \n",
        "correlations_data = df.corr()['TARGET'].sort_values()\n",
        "\n",
        "# Print the most positive correlations\n",
        "print(correlations_data.tail(15), '\\n')\n",
        "\n",
        "# Print the most negative correlations\n",
        "print(correlations_data.head(15))"
      ],
      "execution_count": 32,
      "outputs": [
        {
          "output_type": "stream",
          "text": [
            "REGION_POPULATION_RELATIVE   -0.037\n",
            "AMT_CREDIT                   -0.030\n",
            "AMT_ANNUITY                  -0.013\n",
            "AMT_INCOME_TOTAL             -0.004\n",
            "CNT_FAM_MEMBERS              -0.001\n",
            "CNT_CHILDREN                  0.019\n",
            "TARGET                        1.000\n",
            "Name: TARGET, dtype: float64 \n",
            "\n",
            "REGION_POPULATION_RELATIVE   -0.037\n",
            "AMT_CREDIT                   -0.030\n",
            "AMT_ANNUITY                  -0.013\n",
            "AMT_INCOME_TOTAL             -0.004\n",
            "CNT_FAM_MEMBERS              -0.001\n",
            "CNT_CHILDREN                  0.019\n",
            "TARGET                        1.000\n",
            "Name: TARGET, dtype: float64\n"
          ],
          "name": "stdout"
        }
      ]
    },
    {
      "cell_type": "code",
      "metadata": {
        "id": "belT3ZOFc-B_"
      },
      "source": [
        "for i in df.columns:\n",
        "    if len(set(df[i]))==1:\n",
        "        df.drop(labels=[i], axis=1, inplace=True)"
      ],
      "execution_count": 33,
      "outputs": []
    },
    {
      "cell_type": "code",
      "metadata": {
        "colab": {
          "base_uri": "https://localhost:8080/"
        },
        "id": "QL4e4_4udeoy",
        "outputId": "641812c4-0f4f-47e4-d79d-afef7cb44660"
      },
      "source": [
        "# Find all correlations and sort \n",
        "correlations_data = df.corr()['TARGET'].sort_values()\n",
        "\n",
        "# Print the most positive correlations\n",
        "print(correlations_data.tail(15), '\\n')\n",
        "\n",
        "# Print the most negative correlations\n",
        "print(correlations_data.head(15))"
      ],
      "execution_count": 34,
      "outputs": [
        {
          "output_type": "stream",
          "text": [
            "REGION_POPULATION_RELATIVE   -0.037\n",
            "AMT_CREDIT                   -0.030\n",
            "AMT_ANNUITY                  -0.013\n",
            "AMT_INCOME_TOTAL             -0.004\n",
            "CNT_FAM_MEMBERS              -0.001\n",
            "CNT_CHILDREN                  0.019\n",
            "TARGET                        1.000\n",
            "Name: TARGET, dtype: float64 \n",
            "\n",
            "REGION_POPULATION_RELATIVE   -0.037\n",
            "AMT_CREDIT                   -0.030\n",
            "AMT_ANNUITY                  -0.013\n",
            "AMT_INCOME_TOTAL             -0.004\n",
            "CNT_FAM_MEMBERS              -0.001\n",
            "CNT_CHILDREN                  0.019\n",
            "TARGET                        1.000\n",
            "Name: TARGET, dtype: float64\n"
          ],
          "name": "stdout"
        }
      ]
    },
    {
      "cell_type": "code",
      "metadata": {
        "colab": {
          "base_uri": "https://localhost:8080/"
        },
        "id": "kH3ftfdJpsWP",
        "outputId": "fb0d97c7-fc4b-4ba1-a2dc-d18aa41687e0"
      },
      "source": [
        "df.shape"
      ],
      "execution_count": 35,
      "outputs": [
        {
          "output_type": "execute_result",
          "data": {
            "text/plain": [
              "(307511, 7)"
            ]
          },
          "metadata": {
            "tags": []
          },
          "execution_count": 35
        }
      ]
    },
    {
      "cell_type": "markdown",
      "metadata": {
        "id": "pfcz3P2_qQkR"
      },
      "source": [
        "### Feature Engineering and Selection"
      ]
    },
    {
      "cell_type": "code",
      "metadata": {
        "id": "lNJxIaNNp7_w"
      },
      "source": [
        "def remove_collinear_features(x, threshold):\n",
        "    '''\n",
        "    Objective:\n",
        "        Remove collinear features in a dataframe with a correlation coefficient\n",
        "        greater than the threshold. Removing collinear features can help a model\n",
        "        to generalize and improves the interpretability of the model.\n",
        "        \n",
        "    Inputs: \n",
        "        Threshold: any features with correlations greater than this value are removed\n",
        "    \n",
        "    Output: \n",
        "        Dataframe that contains only the non-highly-collinear features\n",
        "    '''\n",
        "    \n",
        "    # Dont want to remove correlations between TARGET\n",
        "    y = x['TARGET']\n",
        "    x = x.drop(columns = ['TARGET'])\n",
        "    \n",
        "    # Calculate the correlation matrix\n",
        "    corr_matrix = x.corr()\n",
        "    iters = range(len(corr_matrix.columns) - 1)\n",
        "    drop_cols = []\n",
        "\n",
        "    # Iterate through the correlation matrix and compare correlations\n",
        "    for i in iters:\n",
        "        for j in range(i):\n",
        "            item = corr_matrix.iloc[j:(j+1), (i+1):(i+2)]\n",
        "            col = item.columns\n",
        "            row = item.index\n",
        "            val = abs(item.values)\n",
        "            \n",
        "            # If correlation exceeds the threshold\n",
        "            if val >= threshold:\n",
        "                # Print the correlated features and the correlation value\n",
        "                # print(col.values[0], \"|\", row.values[0], \"|\", round(val[0][0], 2))\n",
        "                drop_cols.append(col.values[0])\n",
        "\n",
        "    # Drop one of each pair of correlated columns\n",
        "    drops = set(drop_cols)\n",
        "    x = x.drop(columns = drops)\n",
        "    \n",
        "    # Add the score back in to the data\n",
        "    x['TARGET'] = y\n",
        "               \n",
        "    return x"
      ],
      "execution_count": 36,
      "outputs": []
    },
    {
      "cell_type": "code",
      "metadata": {
        "id": "XUr2Xxswq7G4"
      },
      "source": [
        "# Remove the collinear features above a specified correlation coefficient\n",
        "data = remove_collinear_features(df, 0.8);"
      ],
      "execution_count": 37,
      "outputs": []
    },
    {
      "cell_type": "code",
      "metadata": {
        "colab": {
          "base_uri": "https://localhost:8080/"
        },
        "id": "_jJHU7wQrLC1",
        "outputId": "8a60d083-3f5a-43ee-c8fa-fb441a8cd078"
      },
      "source": [
        "df.shape"
      ],
      "execution_count": 38,
      "outputs": [
        {
          "output_type": "execute_result",
          "data": {
            "text/plain": [
              "(307511, 7)"
            ]
          },
          "metadata": {
            "tags": []
          },
          "execution_count": 38
        }
      ]
    },
    {
      "cell_type": "markdown",
      "metadata": {
        "id": "IChbS19BdNc5"
      },
      "source": [
        "# Split dataset into train and test subsets"
      ]
    },
    {
      "cell_type": "code",
      "metadata": {
        "colab": {
          "base_uri": "https://localhost:8080/"
        },
        "id": "7-Y6_OIarMGP",
        "outputId": "752733ff-2329-4a7d-d240-16eb34bb0476"
      },
      "source": [
        "# Prepare dataset for training and testing (Stratified)\n",
        "# As our dataset is skewed, stratification is used to allocate\n",
        "# the samples evenly based on sample classes, so that training set and\n",
        "# test set have similiar ratio of classes\n",
        "X = data.drop(columns='TARGET')\n",
        "y = pd.DataFrame(data['TARGET'])\n",
        "\n",
        "# Split into 80% training and 20% testing set\n",
        "X_train, X_test, y_train, y_test = train_test_split(X, y,\n",
        "                                                    stratify=y, \n",
        "                                                    test_size=0.2, \n",
        "                                                    random_state=42\n",
        "                                                    )\n",
        "\n",
        "print(X_train.shape)\n",
        "print(X_test.shape)\n",
        "print(y_train.shape)\n",
        "print(y_test.shape)"
      ],
      "execution_count": 39,
      "outputs": [
        {
          "output_type": "stream",
          "text": [
            "(246008, 6)\n",
            "(61503, 6)\n",
            "(246008, 1)\n",
            "(61503, 1)\n"
          ],
          "name": "stdout"
        }
      ]
    },
    {
      "cell_type": "code",
      "metadata": {
        "id": "LVyV7yYhrp7k"
      },
      "source": [
        "# SMOTE\n",
        "# We want to implement our model on LIVE data\n",
        "# Thus, we add synthetic data to the training set only after splitting our dataset\n",
        "from imblearn.over_sampling import SMOTE\n",
        "smt = SMOTE(random_state=42)"
      ],
      "execution_count": 40,
      "outputs": []
    },
    {
      "cell_type": "code",
      "metadata": {
        "id": "gLGl0-tpr5vS"
      },
      "source": [
        "# Feature Scaling\n",
        "# Scale numeric variables using Robust Scaler that is robust to outliers\n",
        "# Robust Scaler, scales the data in the IQR and ignore the effect of the outliers\n",
        "from sklearn.preprocessing import RobustScaler\n",
        "sc = RobustScaler()\n",
        "X_train = sc.fit_transform(X_train)\n",
        "X_test = sc.fit_transform(X_test)"
      ],
      "execution_count": 41,
      "outputs": []
    },
    {
      "cell_type": "code",
      "metadata": {
        "id": "tQDYCFCxsdbc"
      },
      "source": [
        "# Convert y to one-dimensional array (vector)\n",
        "y_train = np.array(y_train).reshape((-1, ))\n",
        "y_test = np.array(y_test).reshape((-1, ))"
      ],
      "execution_count": 42,
      "outputs": []
    },
    {
      "cell_type": "code",
      "metadata": {
        "colab": {
          "base_uri": "https://localhost:8080/"
        },
        "id": "rrn-BRmSsdXa",
        "outputId": "a0df6e99-4220-4f45-c4d2-e051fca795eb"
      },
      "source": [
        "X_train"
      ],
      "execution_count": 43,
      "outputs": [
        {
          "output_type": "execute_result",
          "data": {
            "text/plain": [
              "array([[ 2.        , -0.64      , -0.53329156, -0.64767355, -0.56922335,\n",
              "         2.        ],\n",
              "       [ 0.        , -0.64      , -0.65543024, -0.65289873, -0.84584874,\n",
              "         0.        ],\n",
              "       [ 0.        , -0.14      ,  0.39741855,  0.07763125,  0.09985528,\n",
              "        -1.        ],\n",
              "       ...,\n",
              "       [ 0.        , -0.64      , -0.4983208 , -0.02264245,  0.33842526,\n",
              "         0.        ],\n",
              "       [ 0.        , -0.39      ,  0.54807853,  0.11047524, -0.03435708,\n",
              "         0.        ],\n",
              "       [ 0.        , -0.24      ,  0.9959482 ,  0.1634735 ,  0.        ,\n",
              "         0.        ]])"
            ]
          },
          "metadata": {
            "tags": []
          },
          "execution_count": 43
        }
      ]
    },
    {
      "cell_type": "code",
      "metadata": {
        "colab": {
          "base_uri": "https://localhost:8080/"
        },
        "id": "sbNVP3M-sdUM",
        "outputId": "e1f43074-3a84-4686-c62a-c56fad85c353"
      },
      "source": [
        "X_test"
      ],
      "execution_count": 44,
      "outputs": [
        {
          "output_type": "execute_result",
          "data": {
            "text/plain": [
              "array([[ 1.        ,  0.125     ,  0.4793985 ,  0.31736154, -0.46647371,\n",
              "         1.        ],\n",
              "       [ 0.        , -0.625     , -0.27321637, -0.27728687, -0.61746261,\n",
              "         0.        ],\n",
              "       [ 0.        ,  0.025     , -0.42265664, -0.34822651, -0.23508603,\n",
              "         0.        ],\n",
              "       ...,\n",
              "       [ 1.        ,  2.375     , -0.50536341,  0.11723709, -0.45955941,\n",
              "         1.        ],\n",
              "       [ 0.        ,  2.125     ,  0.7202005 ,  1.16241444, -0.49418449,\n",
              "        -1.        ],\n",
              "       [ 1.        ,  0.875     , -0.46676692,  0.18021157, -0.63407836,\n",
              "         1.        ]])"
            ]
          },
          "metadata": {
            "tags": []
          },
          "execution_count": 44
        }
      ]
    },
    {
      "cell_type": "markdown",
      "metadata": {
        "id": "AfxMX9H0-q6a"
      },
      "source": [
        "# Modeling"
      ]
    },
    {
      "cell_type": "code",
      "metadata": {
        "id": "98A80zOasdQ9"
      },
      "source": [
        "# Models to Evaluate\n",
        "\n",
        "# We will compare five different ML Cassification models:\n",
        "\n",
        "# 1 - Naive Bayes\n",
        "# 2 - Logistic Regression\n",
        "# 2 - Random Forest Classification\n",
        "# 3 - Gradiente Boosting Classification\n",
        "\n",
        "# Function to calculate mean absolute error\n",
        "def cross_val(X_train, y_train, model):\n",
        "    # Applying k-Fold Cross Validation\n",
        "    from sklearn.model_selection import cross_val_score\n",
        "    accuracies = cross_val_score(estimator = model, X = X_train, y = y_train, cv = 5)\n",
        "    return accuracies.mean()\n",
        "\n",
        "\n",
        "# Takes in a model, trains the model, and evaluates the model on the test set\n",
        "def fit_and_evaluate(model):\n",
        "    \n",
        "    # Train the model\n",
        "    model.fit(X_train, y_train)\n",
        "    \n",
        "    # Make predictions and evalute\n",
        "    model_pred = model.predict(X_test)\n",
        "    model_cross = cross_val(X_train, y_train, model)\n",
        "     \n",
        "    # Return the performance metric\n",
        "    return model_cross"
      ],
      "execution_count": 45,
      "outputs": []
    },
    {
      "cell_type": "code",
      "metadata": {
        "colab": {
          "base_uri": "https://localhost:8080/"
        },
        "id": "anvEUrmku7Mr",
        "outputId": "de9c12c3-fdb3-4067-cbb4-905d52cf3e8a"
      },
      "source": [
        "# Naive Bayes\n",
        "from sklearn.naive_bayes import GaussianNB\n",
        "nb = GaussianNB()\n",
        "nb_cross = fit_and_evaluate(nb)\n",
        "\n",
        "print('Naive Bayes Performance on the test set: Cross Validation Score = %0.4f' % nb_cross)"
      ],
      "execution_count": 46,
      "outputs": [
        {
          "output_type": "stream",
          "text": [
            "Naive Bayes Performance on the test set: Cross Validation Score = 0.1273\n"
          ],
          "name": "stdout"
        }
      ]
    },
    {
      "cell_type": "markdown",
      "metadata": {
        "id": "VWJDPSkVmoxn"
      },
      "source": [
        "Cross_val_score takes the dataset and applies cross validation to split the data. Then, train a model using the specified estimator and measure the performance of the model (scoring parameter) i.e 13% for Naive Bayes"
      ]
    },
    {
      "cell_type": "code",
      "metadata": {
        "colab": {
          "base_uri": "https://localhost:8080/"
        },
        "id": "OU7HSuGdcDFD",
        "outputId": "9f66e57e-89ca-43ac-9b80-5f7c927470bd"
      },
      "source": [
        "# Logistic Regression\n",
        "from sklearn.linear_model import LogisticRegression\n",
        "lr = LogisticRegression(random_state=42, \n",
        "                        class_weight='balanced',\n",
        "                        n_jobs=-1)\n",
        "lr_cross = fit_and_evaluate(lr)\n",
        "print('Logistic Regression Performance on the test set: Cross Validation Score = %0.4f' % lr_cross)"
      ],
      "execution_count": 47,
      "outputs": [
        {
          "output_type": "stream",
          "text": [
            "Logistic Regression Performance on the test set: Cross Validation Score = 0.5071\n"
          ],
          "name": "stdout"
        }
      ]
    },
    {
      "cell_type": "markdown",
      "metadata": {
        "id": "uZyzM_4ZnL2Z"
      },
      "source": [
        "Cross_val_score takes the dataset and applies cross validation to split the data. Then, train a model using the specified estimator and measure the performance of the model (scoring parameter) i.e 51% for Logistic Regression"
      ]
    },
    {
      "cell_type": "code",
      "metadata": {
        "colab": {
          "base_uri": "https://localhost:8080/"
        },
        "id": "pNs9Y1Posp0v",
        "outputId": "fb48189d-06ec-4af4-e031-944dfd3fd94d"
      },
      "source": [
        "# Random Forest Classification\n",
        "from sklearn.ensemble import RandomForestClassifier\n",
        "rf = RandomForestClassifier(n_estimators=10,\n",
        "                            class_weight='balanced',\n",
        "                            random_state=42,\n",
        "                            n_jobs=-1, \n",
        "                            criterion='entropy')\n",
        "rf_cross = fit_and_evaluate(rf)\n",
        "\n",
        "print('Random Forest Performance on the test set: Cross Validation Score = %0.4f' % rf_cross)"
      ],
      "execution_count": 48,
      "outputs": [
        {
          "output_type": "stream",
          "text": [
            "Random Forest Performance on the test set: Cross Validation Score = 0.9086\n"
          ],
          "name": "stdout"
        }
      ]
    },
    {
      "cell_type": "markdown",
      "metadata": {
        "id": "QkT5-YpznStQ"
      },
      "source": [
        "Cross_val_score takes the dataset and applies cross validation to split the data. Then, train a model using the specified estimator and measure the performance of the model (scoring parameter) i.e 91% for Random Forest"
      ]
    },
    {
      "cell_type": "code",
      "metadata": {
        "colab": {
          "base_uri": "https://localhost:8080/"
        },
        "id": "RqkPXEabsptf",
        "outputId": "53928df0-7212-4585-965e-3c0c2287d71f"
      },
      "source": [
        "# Gradiente Boosting Classification\n",
        "from xgboost import XGBClassifier\n",
        "gbc = XGBClassifier(random_state=42,\n",
        "                   n_estimators=200)\n",
        "gbc_cross = fit_and_evaluate(gbc)\n",
        "\n",
        "print('Gradiente Boosting Classification Performance on the test set: Cross Validation Score = %0.4f' % gbc_cross)"
      ],
      "execution_count": 50,
      "outputs": [
        {
          "output_type": "stream",
          "text": [
            "Gradiente Boosting Classification Performance on the test set: Cross Validation Score = 0.9193\n"
          ],
          "name": "stdout"
        }
      ]
    },
    {
      "cell_type": "markdown",
      "metadata": {
        "id": "uSGXRkxknYek"
      },
      "source": [
        "Cross_val_score takes the dataset and applies cross validation to split the data. Then, train a model using the specified estimator and measure the performance of the model (scoring parameter) i.e 92% for Gradient Boosting"
      ]
    },
    {
      "cell_type": "code",
      "metadata": {
        "id": "YQ_N-BB9lqip"
      },
      "source": [
        ""
      ],
      "execution_count": 49,
      "outputs": []
    }
  ]
}