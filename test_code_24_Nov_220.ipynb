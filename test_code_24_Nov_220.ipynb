{
  "nbformat": 4,
  "nbformat_minor": 0,
  "metadata": {
    "colab": {
      "name": "test-code-24-Nov-220.ipynb",
      "provenance": [],
      "collapsed_sections": [
        "Eq6GknXYqYpf",
        "xEfsoPvlqjPL",
        "w67EL0vqZ9Qa"
      ],
      "authorship_tag": "ABX9TyOHYMknBT5edjOA0W2a5QNv"
    },
    "kernelspec": {
      "display_name": "Python 3",
      "name": "python3"
    }
  },
  "cells": [
    {
      "cell_type": "markdown",
      "metadata": {
        "id": "PlzRW3M1HLd-"
      },
      "source": [
        "# Get Data\n"
      ]
    },
    {
      "cell_type": "code",
      "metadata": {
        "id": "9ChgR37PiKp_"
      },
      "source": [
        "# Code to read csv file into Colaboratory:\n",
        "!pip install -U -q PyDrive\n",
        "from pydrive.auth import GoogleAuth\n",
        "from pydrive.drive import GoogleDrive\n",
        "from google.colab import auth\n",
        "from oauth2client.client import GoogleCredentials\n",
        "\n",
        "# Authenticate and create the PyDrive client.\n",
        "auth.authenticate_user()\n",
        "gauth = GoogleAuth()\n",
        "gauth.credentials = GoogleCredentials.get_application_default()\n",
        "drive = GoogleDrive(gauth)"
      ],
      "execution_count": 1,
      "outputs": []
    },
    {
      "cell_type": "code",
      "metadata": {
        "colab": {
          "base_uri": "https://localhost:8080/"
        },
        "id": "T2EU_M92ijNJ",
        "outputId": "dce20a30-ebbe-4e9c-db26-c2970eeac40e"
      },
      "source": [
        "# Import PyDrive and associated libraries.\n",
        "# This only needs to be done once per notebook.\n",
        "from pydrive.auth import GoogleAuth\n",
        "from pydrive.drive import GoogleDrive\n",
        "from google.colab import auth\n",
        "from oauth2client.client import GoogleCredentials\n",
        "\n",
        "# Authenticate and create the PyDrive client.\n",
        "# This only needs to be done once per notebook.\n",
        "auth.authenticate_user()\n",
        "gauth = GoogleAuth()\n",
        "gauth.credentials = GoogleCredentials.get_application_default()\n",
        "drive = GoogleDrive(gauth)\n",
        "\n",
        "# Download a file based on its file ID.\n",
        "# A file ID looks like: laggVyWshwcyP6kEI-y_W3P8D26sz\n",
        "\n",
        "file_id = '12nRGXBL6u38sCET_x1OmLW6Hlthob-e_' # app_data_final.csv\n",
        "downloaded = drive.CreateFile({'id': file_id})\n",
        "print('Downloaded content \"{}\"'.format(downloaded.GetContentString()))"
      ],
      "execution_count": 2,
      "outputs": [
        {
          "output_type": "stream",
          "text": [
            "IOPub data rate exceeded.\n",
            "The notebook server will temporarily stop sending output\n",
            "to the client in order to avoid crashing it.\n",
            "To change this limit, set the config variable\n",
            "`--NotebookApp.iopub_data_rate_limit`.\n",
            "\n",
            "Current values:\n",
            "NotebookApp.iopub_data_rate_limit=1000000.0 (bytes/sec)\n",
            "NotebookApp.rate_limit_window=3.0 (secs)\n",
            "\n"
          ],
          "name": "stderr"
        }
      ]
    },
    {
      "cell_type": "code",
      "metadata": {
        "id": "wgNNEyqYi2BK"
      },
      "source": [
        "# The shareable link\n",
        "link = 'https://drive.google.com/open?id=12nRGXBL6u38sCET_x1OmLW6Hlthob-e_'"
      ],
      "execution_count": 3,
      "outputs": []
    },
    {
      "cell_type": "code",
      "metadata": {
        "colab": {
          "base_uri": "https://localhost:8080/"
        },
        "id": "FJ1ul78QjZni",
        "outputId": "bd7570bb-1c92-43e4-8615-cfaf80486434"
      },
      "source": [
        "# Verify everything after '='\n",
        "fluff, id = link.split('=')\n",
        "print (id) "
      ],
      "execution_count": 4,
      "outputs": [
        {
          "output_type": "stream",
          "text": [
            "12nRGXBL6u38sCET_x1OmLW6Hlthob-e_\n"
          ],
          "name": "stdout"
        }
      ]
    },
    {
      "cell_type": "markdown",
      "metadata": {
        "id": "PGADbDTNEtWr"
      },
      "source": [
        "### Import libraries and prepare the data"
      ]
    },
    {
      "cell_type": "code",
      "metadata": {
        "id": "uo2Tzv3nj5uC"
      },
      "source": [
        "# Pandas and numpy for data manipulation\n",
        "import pandas as pd\n",
        "import numpy as np\n",
        "\n",
        "# Display up to 60 columns of a dataframe\n",
        "pd.set_option('display.max_columns', 60)\n",
        "\n",
        "# Matplotlib visualization\n",
        "import matplotlib.pyplot as plt\n",
        "%matplotlib inline\n",
        "\n",
        "# Set default font size\n",
        "plt.rcParams['font.size']=24\n",
        "\n",
        "# Internal ipython tool for setting figure size\n",
        "from IPython.core.pylabtools import figsize\n",
        "\n",
        "# Seaborn for visualization\n",
        "import seaborn as sns\n",
        "sns.set(font_scale=2)\n",
        "\n",
        "# To ignore deprecation warnings\n",
        "import warnings\n",
        "warnings.filterwarnings(\"ignore\")\n",
        "\n",
        "# No warnings about setting value on copy of slice\n",
        "pd.options.mode.chained_assignment=None\n",
        "\n",
        "# Splitting data into training and testing\n",
        "from sklearn.model_selection import train_test_split\n",
        "\n",
        "# Classification report\n",
        "from sklearn.metrics import classification_report"
      ],
      "execution_count": 5,
      "outputs": []
    },
    {
      "cell_type": "code",
      "metadata": {
        "colab": {
          "base_uri": "https://localhost:8080/",
          "height": 292
        },
        "id": "CLoIoYCdjbpp",
        "outputId": "d34210a6-1ad4-4cdb-c51b-3b90b07b9f86"
      },
      "source": [
        "# Stored dataset in a Pandas Dataframe\n",
        "downloaded = drive.CreateFile({'id':id}) \n",
        "downloaded.GetContentFile('app_data_final.csv') \n",
        "\n",
        "# Read in data into a dataframe\n",
        "df = pd.read_csv('app_data_final.csv')\n",
        "\n",
        "# Display top of dataframe\n",
        "df.head()"
      ],
      "execution_count": 6,
      "outputs": [
        {
          "output_type": "execute_result",
          "data": {
            "text/html": [
              "<div>\n",
              "<style scoped>\n",
              "    .dataframe tbody tr th:only-of-type {\n",
              "        vertical-align: middle;\n",
              "    }\n",
              "\n",
              "    .dataframe tbody tr th {\n",
              "        vertical-align: top;\n",
              "    }\n",
              "\n",
              "    .dataframe thead th {\n",
              "        text-align: right;\n",
              "    }\n",
              "</style>\n",
              "<table border=\"1\" class=\"dataframe\">\n",
              "  <thead>\n",
              "    <tr style=\"text-align: right;\">\n",
              "      <th></th>\n",
              "      <th>SK_ID_CURR</th>\n",
              "      <th>TARGET</th>\n",
              "      <th>NAME_CONTRACT_TYPE</th>\n",
              "      <th>CODE_GENDER</th>\n",
              "      <th>FLAG_OWN_CAR</th>\n",
              "      <th>FLAG_OWN_REALTY</th>\n",
              "      <th>CNT_CHILDREN</th>\n",
              "      <th>AMT_INCOME_TOTAL</th>\n",
              "      <th>AMT_CREDIT</th>\n",
              "      <th>AMT_ANNUITY</th>\n",
              "      <th>AMT_GOODS_PRICE</th>\n",
              "      <th>NAME_TYPE_SUITE</th>\n",
              "      <th>NAME_INCOME_TYPE</th>\n",
              "      <th>NAME_EDUCATION_TYPE</th>\n",
              "      <th>NAME_FAMILY_STATUS</th>\n",
              "      <th>NAME_HOUSING_TYPE</th>\n",
              "      <th>REGION_POPULATION_RELATIVE</th>\n",
              "      <th>OWN_CAR_AGE</th>\n",
              "      <th>FLAG_PHONE</th>\n",
              "      <th>FLAG_EMAIL</th>\n",
              "      <th>OCCUPATION_TYPE</th>\n",
              "      <th>CNT_FAM_MEMBERS</th>\n",
              "      <th>REGION_RATING_CLIENT</th>\n",
              "      <th>HOUR_APPR_PROCESS_START</th>\n",
              "      <th>ORGANIZATION_TYPE</th>\n",
              "      <th>EXT_SOURCE_1</th>\n",
              "      <th>EXT_SOURCE_2</th>\n",
              "      <th>EXT_SOURCE_3</th>\n",
              "      <th>AMT_REQ_CREDIT_BUREAU_HOUR</th>\n",
              "      <th>AMT_REQ_CREDIT_BUREAU_DAY</th>\n",
              "      <th>AMT_REQ_CREDIT_BUREAU_WEEK</th>\n",
              "      <th>AMT_REQ_CREDIT_BUREAU_MON</th>\n",
              "      <th>AMT_REQ_CREDIT_BUREAU_QRT</th>\n",
              "      <th>AMT_REQ_CREDIT_BUREAU_YEAR</th>\n",
              "    </tr>\n",
              "  </thead>\n",
              "  <tbody>\n",
              "    <tr>\n",
              "      <th>0</th>\n",
              "      <td>100002</td>\n",
              "      <td>1</td>\n",
              "      <td>Cash loans</td>\n",
              "      <td>M</td>\n",
              "      <td>N</td>\n",
              "      <td>Y</td>\n",
              "      <td>0</td>\n",
              "      <td>202500.0</td>\n",
              "      <td>406597.5</td>\n",
              "      <td>24700.5</td>\n",
              "      <td>351000.0</td>\n",
              "      <td>Unaccompanied</td>\n",
              "      <td>Working</td>\n",
              "      <td>Secondary / secondary special</td>\n",
              "      <td>Single / not married</td>\n",
              "      <td>House / apartment</td>\n",
              "      <td>0.018801</td>\n",
              "      <td>NaN</td>\n",
              "      <td>1</td>\n",
              "      <td>0</td>\n",
              "      <td>Laborers</td>\n",
              "      <td>1.0</td>\n",
              "      <td>2</td>\n",
              "      <td>10</td>\n",
              "      <td>Business Entity Type 3</td>\n",
              "      <td>0.083037</td>\n",
              "      <td>0.262949</td>\n",
              "      <td>0.139376</td>\n",
              "      <td>0.0</td>\n",
              "      <td>0.0</td>\n",
              "      <td>0.0</td>\n",
              "      <td>0.0</td>\n",
              "      <td>0.0</td>\n",
              "      <td>1.0</td>\n",
              "    </tr>\n",
              "    <tr>\n",
              "      <th>1</th>\n",
              "      <td>100003</td>\n",
              "      <td>0</td>\n",
              "      <td>Cash loans</td>\n",
              "      <td>F</td>\n",
              "      <td>N</td>\n",
              "      <td>N</td>\n",
              "      <td>0</td>\n",
              "      <td>270000.0</td>\n",
              "      <td>1293502.5</td>\n",
              "      <td>35698.5</td>\n",
              "      <td>1129500.0</td>\n",
              "      <td>Family</td>\n",
              "      <td>State servant</td>\n",
              "      <td>Higher education</td>\n",
              "      <td>Married</td>\n",
              "      <td>House / apartment</td>\n",
              "      <td>0.003541</td>\n",
              "      <td>NaN</td>\n",
              "      <td>1</td>\n",
              "      <td>0</td>\n",
              "      <td>Core staff</td>\n",
              "      <td>2.0</td>\n",
              "      <td>1</td>\n",
              "      <td>11</td>\n",
              "      <td>School</td>\n",
              "      <td>0.311267</td>\n",
              "      <td>0.622246</td>\n",
              "      <td>NaN</td>\n",
              "      <td>0.0</td>\n",
              "      <td>0.0</td>\n",
              "      <td>0.0</td>\n",
              "      <td>0.0</td>\n",
              "      <td>0.0</td>\n",
              "      <td>0.0</td>\n",
              "    </tr>\n",
              "    <tr>\n",
              "      <th>2</th>\n",
              "      <td>100004</td>\n",
              "      <td>0</td>\n",
              "      <td>Revolving loans</td>\n",
              "      <td>M</td>\n",
              "      <td>Y</td>\n",
              "      <td>Y</td>\n",
              "      <td>0</td>\n",
              "      <td>67500.0</td>\n",
              "      <td>135000.0</td>\n",
              "      <td>6750.0</td>\n",
              "      <td>135000.0</td>\n",
              "      <td>Unaccompanied</td>\n",
              "      <td>Working</td>\n",
              "      <td>Secondary / secondary special</td>\n",
              "      <td>Single / not married</td>\n",
              "      <td>House / apartment</td>\n",
              "      <td>0.010032</td>\n",
              "      <td>26.0</td>\n",
              "      <td>1</td>\n",
              "      <td>0</td>\n",
              "      <td>Laborers</td>\n",
              "      <td>1.0</td>\n",
              "      <td>2</td>\n",
              "      <td>9</td>\n",
              "      <td>Government</td>\n",
              "      <td>NaN</td>\n",
              "      <td>0.555912</td>\n",
              "      <td>0.729567</td>\n",
              "      <td>0.0</td>\n",
              "      <td>0.0</td>\n",
              "      <td>0.0</td>\n",
              "      <td>0.0</td>\n",
              "      <td>0.0</td>\n",
              "      <td>0.0</td>\n",
              "    </tr>\n",
              "    <tr>\n",
              "      <th>3</th>\n",
              "      <td>100006</td>\n",
              "      <td>0</td>\n",
              "      <td>Cash loans</td>\n",
              "      <td>F</td>\n",
              "      <td>N</td>\n",
              "      <td>Y</td>\n",
              "      <td>0</td>\n",
              "      <td>135000.0</td>\n",
              "      <td>312682.5</td>\n",
              "      <td>29686.5</td>\n",
              "      <td>297000.0</td>\n",
              "      <td>Unaccompanied</td>\n",
              "      <td>Working</td>\n",
              "      <td>Secondary / secondary special</td>\n",
              "      <td>Civil marriage</td>\n",
              "      <td>House / apartment</td>\n",
              "      <td>0.008019</td>\n",
              "      <td>NaN</td>\n",
              "      <td>0</td>\n",
              "      <td>0</td>\n",
              "      <td>Laborers</td>\n",
              "      <td>2.0</td>\n",
              "      <td>2</td>\n",
              "      <td>17</td>\n",
              "      <td>Business Entity Type 3</td>\n",
              "      <td>NaN</td>\n",
              "      <td>0.650442</td>\n",
              "      <td>NaN</td>\n",
              "      <td>NaN</td>\n",
              "      <td>NaN</td>\n",
              "      <td>NaN</td>\n",
              "      <td>NaN</td>\n",
              "      <td>NaN</td>\n",
              "      <td>NaN</td>\n",
              "    </tr>\n",
              "    <tr>\n",
              "      <th>4</th>\n",
              "      <td>100007</td>\n",
              "      <td>0</td>\n",
              "      <td>Cash loans</td>\n",
              "      <td>M</td>\n",
              "      <td>N</td>\n",
              "      <td>Y</td>\n",
              "      <td>0</td>\n",
              "      <td>121500.0</td>\n",
              "      <td>513000.0</td>\n",
              "      <td>21865.5</td>\n",
              "      <td>513000.0</td>\n",
              "      <td>Unaccompanied</td>\n",
              "      <td>Working</td>\n",
              "      <td>Secondary / secondary special</td>\n",
              "      <td>Single / not married</td>\n",
              "      <td>House / apartment</td>\n",
              "      <td>0.028663</td>\n",
              "      <td>NaN</td>\n",
              "      <td>0</td>\n",
              "      <td>0</td>\n",
              "      <td>Core staff</td>\n",
              "      <td>1.0</td>\n",
              "      <td>2</td>\n",
              "      <td>11</td>\n",
              "      <td>Religion</td>\n",
              "      <td>NaN</td>\n",
              "      <td>0.322738</td>\n",
              "      <td>NaN</td>\n",
              "      <td>0.0</td>\n",
              "      <td>0.0</td>\n",
              "      <td>0.0</td>\n",
              "      <td>0.0</td>\n",
              "      <td>0.0</td>\n",
              "      <td>0.0</td>\n",
              "    </tr>\n",
              "  </tbody>\n",
              "</table>\n",
              "</div>"
            ],
            "text/plain": [
              "   SK_ID_CURR  TARGET NAME_CONTRACT_TYPE CODE_GENDER FLAG_OWN_CAR  \\\n",
              "0      100002       1         Cash loans           M            N   \n",
              "1      100003       0         Cash loans           F            N   \n",
              "2      100004       0    Revolving loans           M            Y   \n",
              "3      100006       0         Cash loans           F            N   \n",
              "4      100007       0         Cash loans           M            N   \n",
              "\n",
              "  FLAG_OWN_REALTY  CNT_CHILDREN  AMT_INCOME_TOTAL  AMT_CREDIT  AMT_ANNUITY  \\\n",
              "0               Y             0          202500.0    406597.5      24700.5   \n",
              "1               N             0          270000.0   1293502.5      35698.5   \n",
              "2               Y             0           67500.0    135000.0       6750.0   \n",
              "3               Y             0          135000.0    312682.5      29686.5   \n",
              "4               Y             0          121500.0    513000.0      21865.5   \n",
              "\n",
              "   AMT_GOODS_PRICE NAME_TYPE_SUITE NAME_INCOME_TYPE  \\\n",
              "0         351000.0   Unaccompanied          Working   \n",
              "1        1129500.0          Family    State servant   \n",
              "2         135000.0   Unaccompanied          Working   \n",
              "3         297000.0   Unaccompanied          Working   \n",
              "4         513000.0   Unaccompanied          Working   \n",
              "\n",
              "             NAME_EDUCATION_TYPE    NAME_FAMILY_STATUS  NAME_HOUSING_TYPE  \\\n",
              "0  Secondary / secondary special  Single / not married  House / apartment   \n",
              "1               Higher education               Married  House / apartment   \n",
              "2  Secondary / secondary special  Single / not married  House / apartment   \n",
              "3  Secondary / secondary special        Civil marriage  House / apartment   \n",
              "4  Secondary / secondary special  Single / not married  House / apartment   \n",
              "\n",
              "   REGION_POPULATION_RELATIVE  OWN_CAR_AGE  FLAG_PHONE  FLAG_EMAIL  \\\n",
              "0                    0.018801          NaN           1           0   \n",
              "1                    0.003541          NaN           1           0   \n",
              "2                    0.010032         26.0           1           0   \n",
              "3                    0.008019          NaN           0           0   \n",
              "4                    0.028663          NaN           0           0   \n",
              "\n",
              "  OCCUPATION_TYPE  CNT_FAM_MEMBERS  REGION_RATING_CLIENT  \\\n",
              "0        Laborers              1.0                     2   \n",
              "1      Core staff              2.0                     1   \n",
              "2        Laborers              1.0                     2   \n",
              "3        Laborers              2.0                     2   \n",
              "4      Core staff              1.0                     2   \n",
              "\n",
              "   HOUR_APPR_PROCESS_START       ORGANIZATION_TYPE  EXT_SOURCE_1  \\\n",
              "0                       10  Business Entity Type 3      0.083037   \n",
              "1                       11                  School      0.311267   \n",
              "2                        9              Government           NaN   \n",
              "3                       17  Business Entity Type 3           NaN   \n",
              "4                       11                Religion           NaN   \n",
              "\n",
              "   EXT_SOURCE_2  EXT_SOURCE_3  AMT_REQ_CREDIT_BUREAU_HOUR  \\\n",
              "0      0.262949      0.139376                         0.0   \n",
              "1      0.622246           NaN                         0.0   \n",
              "2      0.555912      0.729567                         0.0   \n",
              "3      0.650442           NaN                         NaN   \n",
              "4      0.322738           NaN                         0.0   \n",
              "\n",
              "   AMT_REQ_CREDIT_BUREAU_DAY  AMT_REQ_CREDIT_BUREAU_WEEK  \\\n",
              "0                        0.0                         0.0   \n",
              "1                        0.0                         0.0   \n",
              "2                        0.0                         0.0   \n",
              "3                        NaN                         NaN   \n",
              "4                        0.0                         0.0   \n",
              "\n",
              "   AMT_REQ_CREDIT_BUREAU_MON  AMT_REQ_CREDIT_BUREAU_QRT  \\\n",
              "0                        0.0                        0.0   \n",
              "1                        0.0                        0.0   \n",
              "2                        0.0                        0.0   \n",
              "3                        NaN                        NaN   \n",
              "4                        0.0                        0.0   \n",
              "\n",
              "   AMT_REQ_CREDIT_BUREAU_YEAR  \n",
              "0                         1.0  \n",
              "1                         0.0  \n",
              "2                         0.0  \n",
              "3                         NaN  \n",
              "4                         0.0  "
            ]
          },
          "metadata": {
            "tags": []
          },
          "execution_count": 6
        }
      ]
    },
    {
      "cell_type": "code",
      "metadata": {
        "colab": {
          "base_uri": "https://localhost:8080/"
        },
        "id": "yyNVy08eo5Q2",
        "outputId": "e135c3e7-d724-48b2-df57-9aaa3377f7e2"
      },
      "source": [
        "df.shape"
      ],
      "execution_count": 7,
      "outputs": [
        {
          "output_type": "execute_result",
          "data": {
            "text/plain": [
              "(307511, 34)"
            ]
          },
          "metadata": {
            "tags": []
          },
          "execution_count": 7
        }
      ]
    },
    {
      "cell_type": "code",
      "metadata": {
        "id": "JetDgnilrf65"
      },
      "source": [
        "# Change behaviour globaly\n",
        "#pd.set_option('display.float_format', lambda x: '%.3f' % x)"
      ],
      "execution_count": 8,
      "outputs": []
    },
    {
      "cell_type": "code",
      "metadata": {
        "colab": {
          "base_uri": "https://localhost:8080/",
          "height": 292
        },
        "id": "Y-2n6Jhh_qoT",
        "outputId": "6ac89e8b-1778-40cb-b673-22d13bcd542c"
      },
      "source": [
        "df.select_dtypes(include=['object']).head()"
      ],
      "execution_count": 9,
      "outputs": [
        {
          "output_type": "execute_result",
          "data": {
            "text/html": [
              "<div>\n",
              "<style scoped>\n",
              "    .dataframe tbody tr th:only-of-type {\n",
              "        vertical-align: middle;\n",
              "    }\n",
              "\n",
              "    .dataframe tbody tr th {\n",
              "        vertical-align: top;\n",
              "    }\n",
              "\n",
              "    .dataframe thead th {\n",
              "        text-align: right;\n",
              "    }\n",
              "</style>\n",
              "<table border=\"1\" class=\"dataframe\">\n",
              "  <thead>\n",
              "    <tr style=\"text-align: right;\">\n",
              "      <th></th>\n",
              "      <th>NAME_CONTRACT_TYPE</th>\n",
              "      <th>CODE_GENDER</th>\n",
              "      <th>FLAG_OWN_CAR</th>\n",
              "      <th>FLAG_OWN_REALTY</th>\n",
              "      <th>NAME_TYPE_SUITE</th>\n",
              "      <th>NAME_INCOME_TYPE</th>\n",
              "      <th>NAME_EDUCATION_TYPE</th>\n",
              "      <th>NAME_FAMILY_STATUS</th>\n",
              "      <th>NAME_HOUSING_TYPE</th>\n",
              "      <th>OCCUPATION_TYPE</th>\n",
              "      <th>ORGANIZATION_TYPE</th>\n",
              "    </tr>\n",
              "  </thead>\n",
              "  <tbody>\n",
              "    <tr>\n",
              "      <th>0</th>\n",
              "      <td>Cash loans</td>\n",
              "      <td>M</td>\n",
              "      <td>N</td>\n",
              "      <td>Y</td>\n",
              "      <td>Unaccompanied</td>\n",
              "      <td>Working</td>\n",
              "      <td>Secondary / secondary special</td>\n",
              "      <td>Single / not married</td>\n",
              "      <td>House / apartment</td>\n",
              "      <td>Laborers</td>\n",
              "      <td>Business Entity Type 3</td>\n",
              "    </tr>\n",
              "    <tr>\n",
              "      <th>1</th>\n",
              "      <td>Cash loans</td>\n",
              "      <td>F</td>\n",
              "      <td>N</td>\n",
              "      <td>N</td>\n",
              "      <td>Family</td>\n",
              "      <td>State servant</td>\n",
              "      <td>Higher education</td>\n",
              "      <td>Married</td>\n",
              "      <td>House / apartment</td>\n",
              "      <td>Core staff</td>\n",
              "      <td>School</td>\n",
              "    </tr>\n",
              "    <tr>\n",
              "      <th>2</th>\n",
              "      <td>Revolving loans</td>\n",
              "      <td>M</td>\n",
              "      <td>Y</td>\n",
              "      <td>Y</td>\n",
              "      <td>Unaccompanied</td>\n",
              "      <td>Working</td>\n",
              "      <td>Secondary / secondary special</td>\n",
              "      <td>Single / not married</td>\n",
              "      <td>House / apartment</td>\n",
              "      <td>Laborers</td>\n",
              "      <td>Government</td>\n",
              "    </tr>\n",
              "    <tr>\n",
              "      <th>3</th>\n",
              "      <td>Cash loans</td>\n",
              "      <td>F</td>\n",
              "      <td>N</td>\n",
              "      <td>Y</td>\n",
              "      <td>Unaccompanied</td>\n",
              "      <td>Working</td>\n",
              "      <td>Secondary / secondary special</td>\n",
              "      <td>Civil marriage</td>\n",
              "      <td>House / apartment</td>\n",
              "      <td>Laborers</td>\n",
              "      <td>Business Entity Type 3</td>\n",
              "    </tr>\n",
              "    <tr>\n",
              "      <th>4</th>\n",
              "      <td>Cash loans</td>\n",
              "      <td>M</td>\n",
              "      <td>N</td>\n",
              "      <td>Y</td>\n",
              "      <td>Unaccompanied</td>\n",
              "      <td>Working</td>\n",
              "      <td>Secondary / secondary special</td>\n",
              "      <td>Single / not married</td>\n",
              "      <td>House / apartment</td>\n",
              "      <td>Core staff</td>\n",
              "      <td>Religion</td>\n",
              "    </tr>\n",
              "  </tbody>\n",
              "</table>\n",
              "</div>"
            ],
            "text/plain": [
              "  NAME_CONTRACT_TYPE CODE_GENDER FLAG_OWN_CAR FLAG_OWN_REALTY NAME_TYPE_SUITE  \\\n",
              "0         Cash loans           M            N               Y   Unaccompanied   \n",
              "1         Cash loans           F            N               N          Family   \n",
              "2    Revolving loans           M            Y               Y   Unaccompanied   \n",
              "3         Cash loans           F            N               Y   Unaccompanied   \n",
              "4         Cash loans           M            N               Y   Unaccompanied   \n",
              "\n",
              "  NAME_INCOME_TYPE            NAME_EDUCATION_TYPE    NAME_FAMILY_STATUS  \\\n",
              "0          Working  Secondary / secondary special  Single / not married   \n",
              "1    State servant               Higher education               Married   \n",
              "2          Working  Secondary / secondary special  Single / not married   \n",
              "3          Working  Secondary / secondary special        Civil marriage   \n",
              "4          Working  Secondary / secondary special  Single / not married   \n",
              "\n",
              "   NAME_HOUSING_TYPE OCCUPATION_TYPE       ORGANIZATION_TYPE  \n",
              "0  House / apartment        Laborers  Business Entity Type 3  \n",
              "1  House / apartment      Core staff                  School  \n",
              "2  House / apartment        Laborers              Government  \n",
              "3  House / apartment        Laborers  Business Entity Type 3  \n",
              "4  House / apartment      Core staff                Religion  "
            ]
          },
          "metadata": {
            "tags": []
          },
          "execution_count": 9
        }
      ]
    },
    {
      "cell_type": "code",
      "metadata": {
        "colab": {
          "base_uri": "https://localhost:8080/",
          "height": 314
        },
        "id": "QnWQe8R__wUg",
        "outputId": "79f0e719-bd50-4a8a-d243-55f17e2429b9"
      },
      "source": [
        "# Statistics for each column\n",
        "df.describe()"
      ],
      "execution_count": 10,
      "outputs": [
        {
          "output_type": "execute_result",
          "data": {
            "text/html": [
              "<div>\n",
              "<style scoped>\n",
              "    .dataframe tbody tr th:only-of-type {\n",
              "        vertical-align: middle;\n",
              "    }\n",
              "\n",
              "    .dataframe tbody tr th {\n",
              "        vertical-align: top;\n",
              "    }\n",
              "\n",
              "    .dataframe thead th {\n",
              "        text-align: right;\n",
              "    }\n",
              "</style>\n",
              "<table border=\"1\" class=\"dataframe\">\n",
              "  <thead>\n",
              "    <tr style=\"text-align: right;\">\n",
              "      <th></th>\n",
              "      <th>SK_ID_CURR</th>\n",
              "      <th>TARGET</th>\n",
              "      <th>CNT_CHILDREN</th>\n",
              "      <th>AMT_INCOME_TOTAL</th>\n",
              "      <th>AMT_CREDIT</th>\n",
              "      <th>AMT_ANNUITY</th>\n",
              "      <th>AMT_GOODS_PRICE</th>\n",
              "      <th>REGION_POPULATION_RELATIVE</th>\n",
              "      <th>OWN_CAR_AGE</th>\n",
              "      <th>FLAG_PHONE</th>\n",
              "      <th>FLAG_EMAIL</th>\n",
              "      <th>CNT_FAM_MEMBERS</th>\n",
              "      <th>REGION_RATING_CLIENT</th>\n",
              "      <th>HOUR_APPR_PROCESS_START</th>\n",
              "      <th>EXT_SOURCE_1</th>\n",
              "      <th>EXT_SOURCE_2</th>\n",
              "      <th>EXT_SOURCE_3</th>\n",
              "      <th>AMT_REQ_CREDIT_BUREAU_HOUR</th>\n",
              "      <th>AMT_REQ_CREDIT_BUREAU_DAY</th>\n",
              "      <th>AMT_REQ_CREDIT_BUREAU_WEEK</th>\n",
              "      <th>AMT_REQ_CREDIT_BUREAU_MON</th>\n",
              "      <th>AMT_REQ_CREDIT_BUREAU_QRT</th>\n",
              "      <th>AMT_REQ_CREDIT_BUREAU_YEAR</th>\n",
              "    </tr>\n",
              "  </thead>\n",
              "  <tbody>\n",
              "    <tr>\n",
              "      <th>count</th>\n",
              "      <td>307511.000000</td>\n",
              "      <td>307511.000000</td>\n",
              "      <td>307511.000000</td>\n",
              "      <td>3.075110e+05</td>\n",
              "      <td>3.075110e+05</td>\n",
              "      <td>307499.000000</td>\n",
              "      <td>3.072330e+05</td>\n",
              "      <td>307511.000000</td>\n",
              "      <td>104582.000000</td>\n",
              "      <td>307511.000000</td>\n",
              "      <td>307511.000000</td>\n",
              "      <td>307509.000000</td>\n",
              "      <td>307511.000000</td>\n",
              "      <td>307511.000000</td>\n",
              "      <td>134133.000000</td>\n",
              "      <td>3.068510e+05</td>\n",
              "      <td>246546.000000</td>\n",
              "      <td>265992.000000</td>\n",
              "      <td>265992.000000</td>\n",
              "      <td>265992.000000</td>\n",
              "      <td>265992.000000</td>\n",
              "      <td>265992.000000</td>\n",
              "      <td>265992.000000</td>\n",
              "    </tr>\n",
              "    <tr>\n",
              "      <th>mean</th>\n",
              "      <td>278180.518577</td>\n",
              "      <td>0.080729</td>\n",
              "      <td>0.417052</td>\n",
              "      <td>1.687979e+05</td>\n",
              "      <td>5.990260e+05</td>\n",
              "      <td>27108.573909</td>\n",
              "      <td>5.383962e+05</td>\n",
              "      <td>0.020868</td>\n",
              "      <td>12.061091</td>\n",
              "      <td>0.281066</td>\n",
              "      <td>0.056720</td>\n",
              "      <td>2.152665</td>\n",
              "      <td>2.052463</td>\n",
              "      <td>12.063419</td>\n",
              "      <td>0.502130</td>\n",
              "      <td>5.143927e-01</td>\n",
              "      <td>0.510853</td>\n",
              "      <td>0.006402</td>\n",
              "      <td>0.007000</td>\n",
              "      <td>0.034362</td>\n",
              "      <td>0.267395</td>\n",
              "      <td>0.265474</td>\n",
              "      <td>1.899974</td>\n",
              "    </tr>\n",
              "    <tr>\n",
              "      <th>std</th>\n",
              "      <td>102790.175348</td>\n",
              "      <td>0.272419</td>\n",
              "      <td>0.722121</td>\n",
              "      <td>2.371231e+05</td>\n",
              "      <td>4.024908e+05</td>\n",
              "      <td>14493.737315</td>\n",
              "      <td>3.694465e+05</td>\n",
              "      <td>0.013831</td>\n",
              "      <td>11.944812</td>\n",
              "      <td>0.449521</td>\n",
              "      <td>0.231307</td>\n",
              "      <td>0.910682</td>\n",
              "      <td>0.509034</td>\n",
              "      <td>3.265832</td>\n",
              "      <td>0.211062</td>\n",
              "      <td>1.910602e-01</td>\n",
              "      <td>0.194844</td>\n",
              "      <td>0.083849</td>\n",
              "      <td>0.110757</td>\n",
              "      <td>0.204685</td>\n",
              "      <td>0.916002</td>\n",
              "      <td>0.794056</td>\n",
              "      <td>1.869295</td>\n",
              "    </tr>\n",
              "    <tr>\n",
              "      <th>min</th>\n",
              "      <td>100002.000000</td>\n",
              "      <td>0.000000</td>\n",
              "      <td>0.000000</td>\n",
              "      <td>2.565000e+04</td>\n",
              "      <td>4.500000e+04</td>\n",
              "      <td>1615.500000</td>\n",
              "      <td>4.050000e+04</td>\n",
              "      <td>0.000290</td>\n",
              "      <td>0.000000</td>\n",
              "      <td>0.000000</td>\n",
              "      <td>0.000000</td>\n",
              "      <td>1.000000</td>\n",
              "      <td>1.000000</td>\n",
              "      <td>0.000000</td>\n",
              "      <td>0.014568</td>\n",
              "      <td>8.170000e-08</td>\n",
              "      <td>0.000527</td>\n",
              "      <td>0.000000</td>\n",
              "      <td>0.000000</td>\n",
              "      <td>0.000000</td>\n",
              "      <td>0.000000</td>\n",
              "      <td>0.000000</td>\n",
              "      <td>0.000000</td>\n",
              "    </tr>\n",
              "    <tr>\n",
              "      <th>25%</th>\n",
              "      <td>189145.500000</td>\n",
              "      <td>0.000000</td>\n",
              "      <td>0.000000</td>\n",
              "      <td>1.125000e+05</td>\n",
              "      <td>2.700000e+05</td>\n",
              "      <td>16524.000000</td>\n",
              "      <td>2.385000e+05</td>\n",
              "      <td>0.010006</td>\n",
              "      <td>5.000000</td>\n",
              "      <td>0.000000</td>\n",
              "      <td>0.000000</td>\n",
              "      <td>2.000000</td>\n",
              "      <td>2.000000</td>\n",
              "      <td>10.000000</td>\n",
              "      <td>0.334007</td>\n",
              "      <td>3.924574e-01</td>\n",
              "      <td>0.370650</td>\n",
              "      <td>0.000000</td>\n",
              "      <td>0.000000</td>\n",
              "      <td>0.000000</td>\n",
              "      <td>0.000000</td>\n",
              "      <td>0.000000</td>\n",
              "      <td>0.000000</td>\n",
              "    </tr>\n",
              "    <tr>\n",
              "      <th>50%</th>\n",
              "      <td>278202.000000</td>\n",
              "      <td>0.000000</td>\n",
              "      <td>0.000000</td>\n",
              "      <td>1.471500e+05</td>\n",
              "      <td>5.135310e+05</td>\n",
              "      <td>24903.000000</td>\n",
              "      <td>4.500000e+05</td>\n",
              "      <td>0.018850</td>\n",
              "      <td>9.000000</td>\n",
              "      <td>0.000000</td>\n",
              "      <td>0.000000</td>\n",
              "      <td>2.000000</td>\n",
              "      <td>2.000000</td>\n",
              "      <td>12.000000</td>\n",
              "      <td>0.505998</td>\n",
              "      <td>5.659614e-01</td>\n",
              "      <td>0.535276</td>\n",
              "      <td>0.000000</td>\n",
              "      <td>0.000000</td>\n",
              "      <td>0.000000</td>\n",
              "      <td>0.000000</td>\n",
              "      <td>0.000000</td>\n",
              "      <td>1.000000</td>\n",
              "    </tr>\n",
              "    <tr>\n",
              "      <th>75%</th>\n",
              "      <td>367142.500000</td>\n",
              "      <td>0.000000</td>\n",
              "      <td>1.000000</td>\n",
              "      <td>2.025000e+05</td>\n",
              "      <td>8.086500e+05</td>\n",
              "      <td>34596.000000</td>\n",
              "      <td>6.795000e+05</td>\n",
              "      <td>0.028663</td>\n",
              "      <td>15.000000</td>\n",
              "      <td>1.000000</td>\n",
              "      <td>0.000000</td>\n",
              "      <td>3.000000</td>\n",
              "      <td>2.000000</td>\n",
              "      <td>14.000000</td>\n",
              "      <td>0.675053</td>\n",
              "      <td>6.636171e-01</td>\n",
              "      <td>0.669057</td>\n",
              "      <td>0.000000</td>\n",
              "      <td>0.000000</td>\n",
              "      <td>0.000000</td>\n",
              "      <td>0.000000</td>\n",
              "      <td>0.000000</td>\n",
              "      <td>3.000000</td>\n",
              "    </tr>\n",
              "    <tr>\n",
              "      <th>max</th>\n",
              "      <td>456255.000000</td>\n",
              "      <td>1.000000</td>\n",
              "      <td>19.000000</td>\n",
              "      <td>1.170000e+08</td>\n",
              "      <td>4.050000e+06</td>\n",
              "      <td>258025.500000</td>\n",
              "      <td>4.050000e+06</td>\n",
              "      <td>0.072508</td>\n",
              "      <td>91.000000</td>\n",
              "      <td>1.000000</td>\n",
              "      <td>1.000000</td>\n",
              "      <td>20.000000</td>\n",
              "      <td>3.000000</td>\n",
              "      <td>23.000000</td>\n",
              "      <td>0.962693</td>\n",
              "      <td>8.549997e-01</td>\n",
              "      <td>0.896010</td>\n",
              "      <td>4.000000</td>\n",
              "      <td>9.000000</td>\n",
              "      <td>8.000000</td>\n",
              "      <td>27.000000</td>\n",
              "      <td>261.000000</td>\n",
              "      <td>25.000000</td>\n",
              "    </tr>\n",
              "  </tbody>\n",
              "</table>\n",
              "</div>"
            ],
            "text/plain": [
              "          SK_ID_CURR         TARGET   CNT_CHILDREN  AMT_INCOME_TOTAL  \\\n",
              "count  307511.000000  307511.000000  307511.000000      3.075110e+05   \n",
              "mean   278180.518577       0.080729       0.417052      1.687979e+05   \n",
              "std    102790.175348       0.272419       0.722121      2.371231e+05   \n",
              "min    100002.000000       0.000000       0.000000      2.565000e+04   \n",
              "25%    189145.500000       0.000000       0.000000      1.125000e+05   \n",
              "50%    278202.000000       0.000000       0.000000      1.471500e+05   \n",
              "75%    367142.500000       0.000000       1.000000      2.025000e+05   \n",
              "max    456255.000000       1.000000      19.000000      1.170000e+08   \n",
              "\n",
              "         AMT_CREDIT    AMT_ANNUITY  AMT_GOODS_PRICE  \\\n",
              "count  3.075110e+05  307499.000000     3.072330e+05   \n",
              "mean   5.990260e+05   27108.573909     5.383962e+05   \n",
              "std    4.024908e+05   14493.737315     3.694465e+05   \n",
              "min    4.500000e+04    1615.500000     4.050000e+04   \n",
              "25%    2.700000e+05   16524.000000     2.385000e+05   \n",
              "50%    5.135310e+05   24903.000000     4.500000e+05   \n",
              "75%    8.086500e+05   34596.000000     6.795000e+05   \n",
              "max    4.050000e+06  258025.500000     4.050000e+06   \n",
              "\n",
              "       REGION_POPULATION_RELATIVE    OWN_CAR_AGE     FLAG_PHONE  \\\n",
              "count               307511.000000  104582.000000  307511.000000   \n",
              "mean                     0.020868      12.061091       0.281066   \n",
              "std                      0.013831      11.944812       0.449521   \n",
              "min                      0.000290       0.000000       0.000000   \n",
              "25%                      0.010006       5.000000       0.000000   \n",
              "50%                      0.018850       9.000000       0.000000   \n",
              "75%                      0.028663      15.000000       1.000000   \n",
              "max                      0.072508      91.000000       1.000000   \n",
              "\n",
              "          FLAG_EMAIL  CNT_FAM_MEMBERS  REGION_RATING_CLIENT  \\\n",
              "count  307511.000000    307509.000000         307511.000000   \n",
              "mean        0.056720         2.152665              2.052463   \n",
              "std         0.231307         0.910682              0.509034   \n",
              "min         0.000000         1.000000              1.000000   \n",
              "25%         0.000000         2.000000              2.000000   \n",
              "50%         0.000000         2.000000              2.000000   \n",
              "75%         0.000000         3.000000              2.000000   \n",
              "max         1.000000        20.000000              3.000000   \n",
              "\n",
              "       HOUR_APPR_PROCESS_START   EXT_SOURCE_1  EXT_SOURCE_2   EXT_SOURCE_3  \\\n",
              "count            307511.000000  134133.000000  3.068510e+05  246546.000000   \n",
              "mean                 12.063419       0.502130  5.143927e-01       0.510853   \n",
              "std                   3.265832       0.211062  1.910602e-01       0.194844   \n",
              "min                   0.000000       0.014568  8.170000e-08       0.000527   \n",
              "25%                  10.000000       0.334007  3.924574e-01       0.370650   \n",
              "50%                  12.000000       0.505998  5.659614e-01       0.535276   \n",
              "75%                  14.000000       0.675053  6.636171e-01       0.669057   \n",
              "max                  23.000000       0.962693  8.549997e-01       0.896010   \n",
              "\n",
              "       AMT_REQ_CREDIT_BUREAU_HOUR  AMT_REQ_CREDIT_BUREAU_DAY  \\\n",
              "count               265992.000000              265992.000000   \n",
              "mean                     0.006402                   0.007000   \n",
              "std                      0.083849                   0.110757   \n",
              "min                      0.000000                   0.000000   \n",
              "25%                      0.000000                   0.000000   \n",
              "50%                      0.000000                   0.000000   \n",
              "75%                      0.000000                   0.000000   \n",
              "max                      4.000000                   9.000000   \n",
              "\n",
              "       AMT_REQ_CREDIT_BUREAU_WEEK  AMT_REQ_CREDIT_BUREAU_MON  \\\n",
              "count               265992.000000              265992.000000   \n",
              "mean                     0.034362                   0.267395   \n",
              "std                      0.204685                   0.916002   \n",
              "min                      0.000000                   0.000000   \n",
              "25%                      0.000000                   0.000000   \n",
              "50%                      0.000000                   0.000000   \n",
              "75%                      0.000000                   0.000000   \n",
              "max                      8.000000                  27.000000   \n",
              "\n",
              "       AMT_REQ_CREDIT_BUREAU_QRT  AMT_REQ_CREDIT_BUREAU_YEAR  \n",
              "count              265992.000000               265992.000000  \n",
              "mean                    0.265474                    1.899974  \n",
              "std                     0.794056                    1.869295  \n",
              "min                     0.000000                    0.000000  \n",
              "25%                     0.000000                    0.000000  \n",
              "50%                     0.000000                    1.000000  \n",
              "75%                     0.000000                    3.000000  \n",
              "max                   261.000000                   25.000000  "
            ]
          },
          "metadata": {
            "tags": []
          },
          "execution_count": 10
        }
      ]
    },
    {
      "cell_type": "code",
      "metadata": {
        "id": "-ghuQddeZni8"
      },
      "source": [
        "# Change behaviour globaly\n",
        "pd.set_option('display.float_format', lambda x: '%.3f' % x)"
      ],
      "execution_count": 11,
      "outputs": []
    },
    {
      "cell_type": "code",
      "metadata": {
        "colab": {
          "base_uri": "https://localhost:8080/"
        },
        "id": "8q2uLplUmg_5",
        "outputId": "63e79a5e-c311-44f7-ccb3-7cb32cd7ed06"
      },
      "source": [
        "# Data types and missing values\n",
        "df.info()"
      ],
      "execution_count": 12,
      "outputs": [
        {
          "output_type": "stream",
          "text": [
            "<class 'pandas.core.frame.DataFrame'>\n",
            "RangeIndex: 307511 entries, 0 to 307510\n",
            "Data columns (total 34 columns):\n",
            " #   Column                      Non-Null Count   Dtype  \n",
            "---  ------                      --------------   -----  \n",
            " 0   SK_ID_CURR                  307511 non-null  int64  \n",
            " 1   TARGET                      307511 non-null  int64  \n",
            " 2   NAME_CONTRACT_TYPE          307511 non-null  object \n",
            " 3   CODE_GENDER                 307511 non-null  object \n",
            " 4   FLAG_OWN_CAR                307511 non-null  object \n",
            " 5   FLAG_OWN_REALTY             307511 non-null  object \n",
            " 6   CNT_CHILDREN                307511 non-null  int64  \n",
            " 7   AMT_INCOME_TOTAL            307511 non-null  float64\n",
            " 8   AMT_CREDIT                  307511 non-null  float64\n",
            " 9   AMT_ANNUITY                 307499 non-null  float64\n",
            " 10  AMT_GOODS_PRICE             307233 non-null  float64\n",
            " 11  NAME_TYPE_SUITE             306219 non-null  object \n",
            " 12  NAME_INCOME_TYPE            307511 non-null  object \n",
            " 13  NAME_EDUCATION_TYPE         307511 non-null  object \n",
            " 14  NAME_FAMILY_STATUS          307511 non-null  object \n",
            " 15  NAME_HOUSING_TYPE           307511 non-null  object \n",
            " 16  REGION_POPULATION_RELATIVE  307511 non-null  float64\n",
            " 17  OWN_CAR_AGE                 104582 non-null  float64\n",
            " 18  FLAG_PHONE                  307511 non-null  int64  \n",
            " 19  FLAG_EMAIL                  307511 non-null  int64  \n",
            " 20  OCCUPATION_TYPE             211120 non-null  object \n",
            " 21  CNT_FAM_MEMBERS             307509 non-null  float64\n",
            " 22  REGION_RATING_CLIENT        307511 non-null  int64  \n",
            " 23  HOUR_APPR_PROCESS_START     307511 non-null  int64  \n",
            " 24  ORGANIZATION_TYPE           307511 non-null  object \n",
            " 25  EXT_SOURCE_1                134133 non-null  float64\n",
            " 26  EXT_SOURCE_2                306851 non-null  float64\n",
            " 27  EXT_SOURCE_3                246546 non-null  float64\n",
            " 28  AMT_REQ_CREDIT_BUREAU_HOUR  265992 non-null  float64\n",
            " 29  AMT_REQ_CREDIT_BUREAU_DAY   265992 non-null  float64\n",
            " 30  AMT_REQ_CREDIT_BUREAU_WEEK  265992 non-null  float64\n",
            " 31  AMT_REQ_CREDIT_BUREAU_MON   265992 non-null  float64\n",
            " 32  AMT_REQ_CREDIT_BUREAU_QRT   265992 non-null  float64\n",
            " 33  AMT_REQ_CREDIT_BUREAU_YEAR  265992 non-null  float64\n",
            "dtypes: float64(16), int64(7), object(11)\n",
            "memory usage: 79.8+ MB\n"
          ],
          "name": "stdout"
        }
      ]
    },
    {
      "cell_type": "code",
      "metadata": {
        "id": "zDsqad_zmq0G"
      },
      "source": [
        "# NAME_TYPE_SUITE is an unsupported type, convert series to object\n",
        "df['NAME_TYPE_SUITE'] = df['NAME_TYPE_SUITE'].astype(str)\n",
        "\n",
        "# REGION_RATING_CLIENT convert to string so as to encode variable as ordinal\n",
        "df['REGION_RATING_CLIENT'] = df['REGION_RATING_CLIENT'].astype(str)"
      ],
      "execution_count": 13,
      "outputs": []
    },
    {
      "cell_type": "code",
      "metadata": {
        "colab": {
          "base_uri": "https://localhost:8080/",
          "height": 314
        },
        "id": "MDrv6RQbFtVb",
        "outputId": "3d285cae-6b98-4be7-a37e-08005f9921c1"
      },
      "source": [
        "# Statistics for each column\n",
        "df.describe()"
      ],
      "execution_count": 14,
      "outputs": [
        {
          "output_type": "execute_result",
          "data": {
            "text/html": [
              "<div>\n",
              "<style scoped>\n",
              "    .dataframe tbody tr th:only-of-type {\n",
              "        vertical-align: middle;\n",
              "    }\n",
              "\n",
              "    .dataframe tbody tr th {\n",
              "        vertical-align: top;\n",
              "    }\n",
              "\n",
              "    .dataframe thead th {\n",
              "        text-align: right;\n",
              "    }\n",
              "</style>\n",
              "<table border=\"1\" class=\"dataframe\">\n",
              "  <thead>\n",
              "    <tr style=\"text-align: right;\">\n",
              "      <th></th>\n",
              "      <th>SK_ID_CURR</th>\n",
              "      <th>TARGET</th>\n",
              "      <th>CNT_CHILDREN</th>\n",
              "      <th>AMT_INCOME_TOTAL</th>\n",
              "      <th>AMT_CREDIT</th>\n",
              "      <th>AMT_ANNUITY</th>\n",
              "      <th>AMT_GOODS_PRICE</th>\n",
              "      <th>REGION_POPULATION_RELATIVE</th>\n",
              "      <th>OWN_CAR_AGE</th>\n",
              "      <th>FLAG_PHONE</th>\n",
              "      <th>FLAG_EMAIL</th>\n",
              "      <th>CNT_FAM_MEMBERS</th>\n",
              "      <th>HOUR_APPR_PROCESS_START</th>\n",
              "      <th>EXT_SOURCE_1</th>\n",
              "      <th>EXT_SOURCE_2</th>\n",
              "      <th>EXT_SOURCE_3</th>\n",
              "      <th>AMT_REQ_CREDIT_BUREAU_HOUR</th>\n",
              "      <th>AMT_REQ_CREDIT_BUREAU_DAY</th>\n",
              "      <th>AMT_REQ_CREDIT_BUREAU_WEEK</th>\n",
              "      <th>AMT_REQ_CREDIT_BUREAU_MON</th>\n",
              "      <th>AMT_REQ_CREDIT_BUREAU_QRT</th>\n",
              "      <th>AMT_REQ_CREDIT_BUREAU_YEAR</th>\n",
              "    </tr>\n",
              "  </thead>\n",
              "  <tbody>\n",
              "    <tr>\n",
              "      <th>count</th>\n",
              "      <td>307511.000</td>\n",
              "      <td>307511.000</td>\n",
              "      <td>307511.000</td>\n",
              "      <td>307511.000</td>\n",
              "      <td>307511.000</td>\n",
              "      <td>307499.000</td>\n",
              "      <td>307233.000</td>\n",
              "      <td>307511.000</td>\n",
              "      <td>104582.000</td>\n",
              "      <td>307511.000</td>\n",
              "      <td>307511.000</td>\n",
              "      <td>307509.000</td>\n",
              "      <td>307511.000</td>\n",
              "      <td>134133.000</td>\n",
              "      <td>306851.000</td>\n",
              "      <td>246546.000</td>\n",
              "      <td>265992.000</td>\n",
              "      <td>265992.000</td>\n",
              "      <td>265992.000</td>\n",
              "      <td>265992.000</td>\n",
              "      <td>265992.000</td>\n",
              "      <td>265992.000</td>\n",
              "    </tr>\n",
              "    <tr>\n",
              "      <th>mean</th>\n",
              "      <td>278180.519</td>\n",
              "      <td>0.081</td>\n",
              "      <td>0.417</td>\n",
              "      <td>168797.919</td>\n",
              "      <td>599026.000</td>\n",
              "      <td>27108.574</td>\n",
              "      <td>538396.207</td>\n",
              "      <td>0.021</td>\n",
              "      <td>12.061</td>\n",
              "      <td>0.281</td>\n",
              "      <td>0.057</td>\n",
              "      <td>2.153</td>\n",
              "      <td>12.063</td>\n",
              "      <td>0.502</td>\n",
              "      <td>0.514</td>\n",
              "      <td>0.511</td>\n",
              "      <td>0.006</td>\n",
              "      <td>0.007</td>\n",
              "      <td>0.034</td>\n",
              "      <td>0.267</td>\n",
              "      <td>0.265</td>\n",
              "      <td>1.900</td>\n",
              "    </tr>\n",
              "    <tr>\n",
              "      <th>std</th>\n",
              "      <td>102790.175</td>\n",
              "      <td>0.272</td>\n",
              "      <td>0.722</td>\n",
              "      <td>237123.146</td>\n",
              "      <td>402490.777</td>\n",
              "      <td>14493.737</td>\n",
              "      <td>369446.461</td>\n",
              "      <td>0.014</td>\n",
              "      <td>11.945</td>\n",
              "      <td>0.450</td>\n",
              "      <td>0.231</td>\n",
              "      <td>0.911</td>\n",
              "      <td>3.266</td>\n",
              "      <td>0.211</td>\n",
              "      <td>0.191</td>\n",
              "      <td>0.195</td>\n",
              "      <td>0.084</td>\n",
              "      <td>0.111</td>\n",
              "      <td>0.205</td>\n",
              "      <td>0.916</td>\n",
              "      <td>0.794</td>\n",
              "      <td>1.869</td>\n",
              "    </tr>\n",
              "    <tr>\n",
              "      <th>min</th>\n",
              "      <td>100002.000</td>\n",
              "      <td>0.000</td>\n",
              "      <td>0.000</td>\n",
              "      <td>25650.000</td>\n",
              "      <td>45000.000</td>\n",
              "      <td>1615.500</td>\n",
              "      <td>40500.000</td>\n",
              "      <td>0.000</td>\n",
              "      <td>0.000</td>\n",
              "      <td>0.000</td>\n",
              "      <td>0.000</td>\n",
              "      <td>1.000</td>\n",
              "      <td>0.000</td>\n",
              "      <td>0.015</td>\n",
              "      <td>0.000</td>\n",
              "      <td>0.001</td>\n",
              "      <td>0.000</td>\n",
              "      <td>0.000</td>\n",
              "      <td>0.000</td>\n",
              "      <td>0.000</td>\n",
              "      <td>0.000</td>\n",
              "      <td>0.000</td>\n",
              "    </tr>\n",
              "    <tr>\n",
              "      <th>25%</th>\n",
              "      <td>189145.500</td>\n",
              "      <td>0.000</td>\n",
              "      <td>0.000</td>\n",
              "      <td>112500.000</td>\n",
              "      <td>270000.000</td>\n",
              "      <td>16524.000</td>\n",
              "      <td>238500.000</td>\n",
              "      <td>0.010</td>\n",
              "      <td>5.000</td>\n",
              "      <td>0.000</td>\n",
              "      <td>0.000</td>\n",
              "      <td>2.000</td>\n",
              "      <td>10.000</td>\n",
              "      <td>0.334</td>\n",
              "      <td>0.392</td>\n",
              "      <td>0.371</td>\n",
              "      <td>0.000</td>\n",
              "      <td>0.000</td>\n",
              "      <td>0.000</td>\n",
              "      <td>0.000</td>\n",
              "      <td>0.000</td>\n",
              "      <td>0.000</td>\n",
              "    </tr>\n",
              "    <tr>\n",
              "      <th>50%</th>\n",
              "      <td>278202.000</td>\n",
              "      <td>0.000</td>\n",
              "      <td>0.000</td>\n",
              "      <td>147150.000</td>\n",
              "      <td>513531.000</td>\n",
              "      <td>24903.000</td>\n",
              "      <td>450000.000</td>\n",
              "      <td>0.019</td>\n",
              "      <td>9.000</td>\n",
              "      <td>0.000</td>\n",
              "      <td>0.000</td>\n",
              "      <td>2.000</td>\n",
              "      <td>12.000</td>\n",
              "      <td>0.506</td>\n",
              "      <td>0.566</td>\n",
              "      <td>0.535</td>\n",
              "      <td>0.000</td>\n",
              "      <td>0.000</td>\n",
              "      <td>0.000</td>\n",
              "      <td>0.000</td>\n",
              "      <td>0.000</td>\n",
              "      <td>1.000</td>\n",
              "    </tr>\n",
              "    <tr>\n",
              "      <th>75%</th>\n",
              "      <td>367142.500</td>\n",
              "      <td>0.000</td>\n",
              "      <td>1.000</td>\n",
              "      <td>202500.000</td>\n",
              "      <td>808650.000</td>\n",
              "      <td>34596.000</td>\n",
              "      <td>679500.000</td>\n",
              "      <td>0.029</td>\n",
              "      <td>15.000</td>\n",
              "      <td>1.000</td>\n",
              "      <td>0.000</td>\n",
              "      <td>3.000</td>\n",
              "      <td>14.000</td>\n",
              "      <td>0.675</td>\n",
              "      <td>0.664</td>\n",
              "      <td>0.669</td>\n",
              "      <td>0.000</td>\n",
              "      <td>0.000</td>\n",
              "      <td>0.000</td>\n",
              "      <td>0.000</td>\n",
              "      <td>0.000</td>\n",
              "      <td>3.000</td>\n",
              "    </tr>\n",
              "    <tr>\n",
              "      <th>max</th>\n",
              "      <td>456255.000</td>\n",
              "      <td>1.000</td>\n",
              "      <td>19.000</td>\n",
              "      <td>117000000.000</td>\n",
              "      <td>4050000.000</td>\n",
              "      <td>258025.500</td>\n",
              "      <td>4050000.000</td>\n",
              "      <td>0.073</td>\n",
              "      <td>91.000</td>\n",
              "      <td>1.000</td>\n",
              "      <td>1.000</td>\n",
              "      <td>20.000</td>\n",
              "      <td>23.000</td>\n",
              "      <td>0.963</td>\n",
              "      <td>0.855</td>\n",
              "      <td>0.896</td>\n",
              "      <td>4.000</td>\n",
              "      <td>9.000</td>\n",
              "      <td>8.000</td>\n",
              "      <td>27.000</td>\n",
              "      <td>261.000</td>\n",
              "      <td>25.000</td>\n",
              "    </tr>\n",
              "  </tbody>\n",
              "</table>\n",
              "</div>"
            ],
            "text/plain": [
              "       SK_ID_CURR     TARGET  CNT_CHILDREN  AMT_INCOME_TOTAL  AMT_CREDIT  \\\n",
              "count  307511.000 307511.000    307511.000        307511.000  307511.000   \n",
              "mean   278180.519      0.081         0.417        168797.919  599026.000   \n",
              "std    102790.175      0.272         0.722        237123.146  402490.777   \n",
              "min    100002.000      0.000         0.000         25650.000   45000.000   \n",
              "25%    189145.500      0.000         0.000        112500.000  270000.000   \n",
              "50%    278202.000      0.000         0.000        147150.000  513531.000   \n",
              "75%    367142.500      0.000         1.000        202500.000  808650.000   \n",
              "max    456255.000      1.000        19.000     117000000.000 4050000.000   \n",
              "\n",
              "       AMT_ANNUITY  AMT_GOODS_PRICE  REGION_POPULATION_RELATIVE  OWN_CAR_AGE  \\\n",
              "count   307499.000       307233.000                  307511.000   104582.000   \n",
              "mean     27108.574       538396.207                       0.021       12.061   \n",
              "std      14493.737       369446.461                       0.014       11.945   \n",
              "min       1615.500        40500.000                       0.000        0.000   \n",
              "25%      16524.000       238500.000                       0.010        5.000   \n",
              "50%      24903.000       450000.000                       0.019        9.000   \n",
              "75%      34596.000       679500.000                       0.029       15.000   \n",
              "max     258025.500      4050000.000                       0.073       91.000   \n",
              "\n",
              "       FLAG_PHONE  FLAG_EMAIL  CNT_FAM_MEMBERS  HOUR_APPR_PROCESS_START  \\\n",
              "count  307511.000  307511.000       307509.000               307511.000   \n",
              "mean        0.281       0.057            2.153                   12.063   \n",
              "std         0.450       0.231            0.911                    3.266   \n",
              "min         0.000       0.000            1.000                    0.000   \n",
              "25%         0.000       0.000            2.000                   10.000   \n",
              "50%         0.000       0.000            2.000                   12.000   \n",
              "75%         1.000       0.000            3.000                   14.000   \n",
              "max         1.000       1.000           20.000                   23.000   \n",
              "\n",
              "       EXT_SOURCE_1  EXT_SOURCE_2  EXT_SOURCE_3  AMT_REQ_CREDIT_BUREAU_HOUR  \\\n",
              "count    134133.000    306851.000    246546.000                  265992.000   \n",
              "mean          0.502         0.514         0.511                       0.006   \n",
              "std           0.211         0.191         0.195                       0.084   \n",
              "min           0.015         0.000         0.001                       0.000   \n",
              "25%           0.334         0.392         0.371                       0.000   \n",
              "50%           0.506         0.566         0.535                       0.000   \n",
              "75%           0.675         0.664         0.669                       0.000   \n",
              "max           0.963         0.855         0.896                       4.000   \n",
              "\n",
              "       AMT_REQ_CREDIT_BUREAU_DAY  AMT_REQ_CREDIT_BUREAU_WEEK  \\\n",
              "count                 265992.000                  265992.000   \n",
              "mean                       0.007                       0.034   \n",
              "std                        0.111                       0.205   \n",
              "min                        0.000                       0.000   \n",
              "25%                        0.000                       0.000   \n",
              "50%                        0.000                       0.000   \n",
              "75%                        0.000                       0.000   \n",
              "max                        9.000                       8.000   \n",
              "\n",
              "       AMT_REQ_CREDIT_BUREAU_MON  AMT_REQ_CREDIT_BUREAU_QRT  \\\n",
              "count                 265992.000                 265992.000   \n",
              "mean                       0.267                      0.265   \n",
              "std                        0.916                      0.794   \n",
              "min                        0.000                      0.000   \n",
              "25%                        0.000                      0.000   \n",
              "50%                        0.000                      0.000   \n",
              "75%                        0.000                      0.000   \n",
              "max                       27.000                    261.000   \n",
              "\n",
              "       AMT_REQ_CREDIT_BUREAU_YEAR  \n",
              "count                  265992.000  \n",
              "mean                        1.900  \n",
              "std                         1.869  \n",
              "min                         0.000  \n",
              "25%                         0.000  \n",
              "50%                         1.000  \n",
              "75%                         3.000  \n",
              "max                        25.000  "
            ]
          },
          "metadata": {
            "tags": []
          },
          "execution_count": 14
        }
      ]
    },
    {
      "cell_type": "code",
      "metadata": {
        "colab": {
          "base_uri": "https://localhost:8080/",
          "height": 754
        },
        "id": "SKBcpijt2bED",
        "outputId": "29d857c6-0e01-4e3c-b59e-7539efe07780"
      },
      "source": [
        "# # \n",
        "plt.figure(figsize=(8, 8))\n",
        "sns.heatmap(df.corr())"
      ],
      "execution_count": 15,
      "outputs": [
        {
          "output_type": "execute_result",
          "data": {
            "text/plain": [
              "<matplotlib.axes._subplots.AxesSubplot at 0x7f5ac6b2ce10>"
            ]
          },
          "metadata": {
            "tags": []
          },
          "execution_count": 15
        },
        {
          "output_type": "display_data",
          "data": {
            "image/png": "[encoded data removed]",
            "text/plain": [
              "<Figure size 576x576 with 2 Axes>"
            ]
          },
          "metadata": {
            "tags": []
          }
        }
      ]
    },
    {
      "cell_type": "markdown",
      "metadata": {
        "id": "S8Hlk7KJGUDE"
      },
      "source": [
        "## Missing values"
      ]
    },
    {
      "cell_type": "code",
      "metadata": {
        "colab": {
          "base_uri": "https://localhost:8080/"
        },
        "id": "x1eo-91602Nn",
        "outputId": "e1465ccd-812e-43e3-e333-413a0881d04c"
      },
      "source": [
        "# # \n",
        "df.nunique()"
      ],
      "execution_count": 16,
      "outputs": [
        {
          "output_type": "execute_result",
          "data": {
            "text/plain": [
              "SK_ID_CURR                    307511\n",
              "TARGET                             2\n",
              "NAME_CONTRACT_TYPE                 2\n",
              "CODE_GENDER                        3\n",
              "FLAG_OWN_CAR                       2\n",
              "FLAG_OWN_REALTY                    2\n",
              "CNT_CHILDREN                      15\n",
              "AMT_INCOME_TOTAL                2548\n",
              "AMT_CREDIT                      5603\n",
              "AMT_ANNUITY                    13672\n",
              "AMT_GOODS_PRICE                 1002\n",
              "NAME_TYPE_SUITE                    8\n",
              "NAME_INCOME_TYPE                   8\n",
              "NAME_EDUCATION_TYPE                5\n",
              "NAME_FAMILY_STATUS                 6\n",
              "NAME_HOUSING_TYPE                  6\n",
              "REGION_POPULATION_RELATIVE        81\n",
              "OWN_CAR_AGE                       62\n",
              "FLAG_PHONE                         2\n",
              "FLAG_EMAIL                         2\n",
              "OCCUPATION_TYPE                   18\n",
              "CNT_FAM_MEMBERS                   17\n",
              "REGION_RATING_CLIENT               3\n",
              "HOUR_APPR_PROCESS_START           24\n",
              "ORGANIZATION_TYPE                 58\n",
              "EXT_SOURCE_1                  114584\n",
              "EXT_SOURCE_2                  119828\n",
              "EXT_SOURCE_3                     814\n",
              "AMT_REQ_CREDIT_BUREAU_HOUR         5\n",
              "AMT_REQ_CREDIT_BUREAU_DAY          9\n",
              "AMT_REQ_CREDIT_BUREAU_WEEK         9\n",
              "AMT_REQ_CREDIT_BUREAU_MON         24\n",
              "AMT_REQ_CREDIT_BUREAU_QRT         11\n",
              "AMT_REQ_CREDIT_BUREAU_YEAR        25\n",
              "dtype: int64"
            ]
          },
          "metadata": {
            "tags": []
          },
          "execution_count": 16
        }
      ]
    },
    {
      "cell_type": "code",
      "metadata": {
        "colab": {
          "base_uri": "https://localhost:8080/"
        },
        "id": "Wx7uhulFGAkk",
        "outputId": "c71d0b18-a2aa-4416-dd89-8b37f94e03a0"
      },
      "source": [
        "# Missing values\n",
        "df.isnull().any()"
      ],
      "execution_count": 17,
      "outputs": [
        {
          "output_type": "execute_result",
          "data": {
            "text/plain": [
              "SK_ID_CURR                    False\n",
              "TARGET                        False\n",
              "NAME_CONTRACT_TYPE            False\n",
              "CODE_GENDER                   False\n",
              "FLAG_OWN_CAR                  False\n",
              "FLAG_OWN_REALTY               False\n",
              "CNT_CHILDREN                  False\n",
              "AMT_INCOME_TOTAL              False\n",
              "AMT_CREDIT                    False\n",
              "AMT_ANNUITY                    True\n",
              "AMT_GOODS_PRICE                True\n",
              "NAME_TYPE_SUITE               False\n",
              "NAME_INCOME_TYPE              False\n",
              "NAME_EDUCATION_TYPE           False\n",
              "NAME_FAMILY_STATUS            False\n",
              "NAME_HOUSING_TYPE             False\n",
              "REGION_POPULATION_RELATIVE    False\n",
              "OWN_CAR_AGE                    True\n",
              "FLAG_PHONE                    False\n",
              "FLAG_EMAIL                    False\n",
              "OCCUPATION_TYPE                True\n",
              "CNT_FAM_MEMBERS                True\n",
              "REGION_RATING_CLIENT          False\n",
              "HOUR_APPR_PROCESS_START       False\n",
              "ORGANIZATION_TYPE             False\n",
              "EXT_SOURCE_1                   True\n",
              "EXT_SOURCE_2                   True\n",
              "EXT_SOURCE_3                   True\n",
              "AMT_REQ_CREDIT_BUREAU_HOUR     True\n",
              "AMT_REQ_CREDIT_BUREAU_DAY      True\n",
              "AMT_REQ_CREDIT_BUREAU_WEEK     True\n",
              "AMT_REQ_CREDIT_BUREAU_MON      True\n",
              "AMT_REQ_CREDIT_BUREAU_QRT      True\n",
              "AMT_REQ_CREDIT_BUREAU_YEAR     True\n",
              "dtype: bool"
            ]
          },
          "metadata": {
            "tags": []
          },
          "execution_count": 17
        }
      ]
    },
    {
      "cell_type": "code",
      "metadata": {
        "colab": {
          "base_uri": "https://localhost:8080/"
        },
        "id": "pQnm0H32Gl0L",
        "outputId": "278990f0-8444-4f46-821c-db09635923d9"
      },
      "source": [
        "# Quantify number of missing values\n",
        "df.isnull().sum()"
      ],
      "execution_count": 18,
      "outputs": [
        {
          "output_type": "execute_result",
          "data": {
            "text/plain": [
              "SK_ID_CURR                         0\n",
              "TARGET                             0\n",
              "NAME_CONTRACT_TYPE                 0\n",
              "CODE_GENDER                        0\n",
              "FLAG_OWN_CAR                       0\n",
              "FLAG_OWN_REALTY                    0\n",
              "CNT_CHILDREN                       0\n",
              "AMT_INCOME_TOTAL                   0\n",
              "AMT_CREDIT                         0\n",
              "AMT_ANNUITY                       12\n",
              "AMT_GOODS_PRICE                  278\n",
              "NAME_TYPE_SUITE                    0\n",
              "NAME_INCOME_TYPE                   0\n",
              "NAME_EDUCATION_TYPE                0\n",
              "NAME_FAMILY_STATUS                 0\n",
              "NAME_HOUSING_TYPE                  0\n",
              "REGION_POPULATION_RELATIVE         0\n",
              "OWN_CAR_AGE                   202929\n",
              "FLAG_PHONE                         0\n",
              "FLAG_EMAIL                         0\n",
              "OCCUPATION_TYPE                96391\n",
              "CNT_FAM_MEMBERS                    2\n",
              "REGION_RATING_CLIENT               0\n",
              "HOUR_APPR_PROCESS_START            0\n",
              "ORGANIZATION_TYPE                  0\n",
              "EXT_SOURCE_1                  173378\n",
              "EXT_SOURCE_2                     660\n",
              "EXT_SOURCE_3                   60965\n",
              "AMT_REQ_CREDIT_BUREAU_HOUR     41519\n",
              "AMT_REQ_CREDIT_BUREAU_DAY      41519\n",
              "AMT_REQ_CREDIT_BUREAU_WEEK     41519\n",
              "AMT_REQ_CREDIT_BUREAU_MON      41519\n",
              "AMT_REQ_CREDIT_BUREAU_QRT      41519\n",
              "AMT_REQ_CREDIT_BUREAU_YEAR     41519\n",
              "dtype: int64"
            ]
          },
          "metadata": {
            "tags": []
          },
          "execution_count": 18
        }
      ]
    },
    {
      "cell_type": "code",
      "metadata": {
        "colab": {
          "base_uri": "https://localhost:8080/"
        },
        "id": "uisyXjAtg6CZ",
        "outputId": "f4c882d1-7fcf-4973-85fd-cd9f0d152546"
      },
      "source": [
        "# Percentage of missing values in each column\n",
        "mis_val = ((df.isna().sum()) / len(df.index)).sort_values(ascending=False)\n",
        "mis_val = mis_val[mis_val > 0]\n",
        "print(mis_val * 100)"
      ],
      "execution_count": 19,
      "outputs": [
        {
          "output_type": "stream",
          "text": [
            "OWN_CAR_AGE                  65.991\n",
            "EXT_SOURCE_1                 56.381\n",
            "OCCUPATION_TYPE              31.346\n",
            "EXT_SOURCE_3                 19.825\n",
            "AMT_REQ_CREDIT_BUREAU_YEAR   13.502\n",
            "AMT_REQ_CREDIT_BUREAU_MON    13.502\n",
            "AMT_REQ_CREDIT_BUREAU_WEEK   13.502\n",
            "AMT_REQ_CREDIT_BUREAU_DAY    13.502\n",
            "AMT_REQ_CREDIT_BUREAU_HOUR   13.502\n",
            "AMT_REQ_CREDIT_BUREAU_QRT    13.502\n",
            "EXT_SOURCE_2                  0.215\n",
            "AMT_GOODS_PRICE               0.090\n",
            "AMT_ANNUITY                   0.004\n",
            "CNT_FAM_MEMBERS               0.001\n",
            "dtype: float64\n"
          ],
          "name": "stdout"
        }
      ]
    },
    {
      "cell_type": "code",
      "metadata": {
        "id": "Tyfgo_91g59w"
      },
      "source": [
        "# Drop columns where missing values > 30%\n",
        "df.drop(mis_val[mis_val > 0.3].index, axis=1, inplace=True)"
      ],
      "execution_count": 20,
      "outputs": []
    },
    {
      "cell_type": "code",
      "metadata": {
        "id": "tlKSmU0Rg54n"
      },
      "source": [
        "# Drop rows where missing values > 30\n",
        "df.dropna(axis=0, thresh=8, inplace=True)"
      ],
      "execution_count": 21,
      "outputs": []
    },
    {
      "cell_type": "code",
      "metadata": {
        "colab": {
          "base_uri": "https://localhost:8080/"
        },
        "id": "I_cKXpMep1lC",
        "outputId": "3924cf3d-5728-4f59-b590-9ca280bad22f"
      },
      "source": [
        "df.shape"
      ],
      "execution_count": 22,
      "outputs": [
        {
          "output_type": "execute_result",
          "data": {
            "text/plain": [
              "(307511, 31)"
            ]
          },
          "metadata": {
            "tags": []
          },
          "execution_count": 22
        }
      ]
    },
    {
      "cell_type": "code",
      "metadata": {
        "colab": {
          "base_uri": "https://localhost:8080/"
        },
        "id": "NKhWa8bkp1hU",
        "outputId": "2f9b497b-5c16-495f-cbcf-833fba23f5e0"
      },
      "source": [
        "# quantify number of missing values\n",
        "df.isnull().sum()"
      ],
      "execution_count": 23,
      "outputs": [
        {
          "output_type": "execute_result",
          "data": {
            "text/plain": [
              "SK_ID_CURR                        0\n",
              "TARGET                            0\n",
              "NAME_CONTRACT_TYPE                0\n",
              "CODE_GENDER                       0\n",
              "FLAG_OWN_CAR                      0\n",
              "FLAG_OWN_REALTY                   0\n",
              "CNT_CHILDREN                      0\n",
              "AMT_INCOME_TOTAL                  0\n",
              "AMT_CREDIT                        0\n",
              "AMT_ANNUITY                      12\n",
              "AMT_GOODS_PRICE                 278\n",
              "NAME_TYPE_SUITE                   0\n",
              "NAME_INCOME_TYPE                  0\n",
              "NAME_EDUCATION_TYPE               0\n",
              "NAME_FAMILY_STATUS                0\n",
              "NAME_HOUSING_TYPE                 0\n",
              "REGION_POPULATION_RELATIVE        0\n",
              "FLAG_PHONE                        0\n",
              "FLAG_EMAIL                        0\n",
              "CNT_FAM_MEMBERS                   2\n",
              "REGION_RATING_CLIENT              0\n",
              "HOUR_APPR_PROCESS_START           0\n",
              "ORGANIZATION_TYPE                 0\n",
              "EXT_SOURCE_2                    660\n",
              "EXT_SOURCE_3                  60965\n",
              "AMT_REQ_CREDIT_BUREAU_HOUR    41519\n",
              "AMT_REQ_CREDIT_BUREAU_DAY     41519\n",
              "AMT_REQ_CREDIT_BUREAU_WEEK    41519\n",
              "AMT_REQ_CREDIT_BUREAU_MON     41519\n",
              "AMT_REQ_CREDIT_BUREAU_QRT     41519\n",
              "AMT_REQ_CREDIT_BUREAU_YEAR    41519\n",
              "dtype: int64"
            ]
          },
          "metadata": {
            "tags": []
          },
          "execution_count": 23
        }
      ]
    },
    {
      "cell_type": "markdown",
      "metadata": {
        "id": "7EcFFHgWp82E"
      },
      "source": [
        "### Impute Missing Values"
      ]
    },
    {
      "cell_type": "code",
      "metadata": {
        "id": "w3f38Zeqp1a2"
      },
      "source": [
        "# numeric columns\n",
        "df.fillna(df.select_dtypes(include='number').mean().iloc[0], inplace=True)\n",
        "\n",
        "# categorical columns\n",
        "df.fillna(df.select_dtypes(include='object').mode().iloc[0], inplace=True)"
      ],
      "execution_count": 24,
      "outputs": []
    },
    {
      "cell_type": "code",
      "metadata": {
        "colab": {
          "base_uri": "https://localhost:8080/"
        },
        "id": "BLiFhUeDqDsi",
        "outputId": "667a84bf-f0be-4649-beab-c38f27e514e9"
      },
      "source": [
        "# unique values\n",
        "uni_val = df.apply(lambda x: len(pd.unique(x)), axis=0).sort_values(ascending=False)\n",
        "uni_val"
      ],
      "execution_count": 25,
      "outputs": [
        {
          "output_type": "execute_result",
          "data": {
            "text/plain": [
              "SK_ID_CURR                    307511\n",
              "EXT_SOURCE_2                  119829\n",
              "AMT_ANNUITY                    13673\n",
              "AMT_CREDIT                      5603\n",
              "AMT_INCOME_TOTAL                2548\n",
              "AMT_GOODS_PRICE                 1003\n",
              "EXT_SOURCE_3                     815\n",
              "REGION_POPULATION_RELATIVE        81\n",
              "ORGANIZATION_TYPE                 58\n",
              "AMT_REQ_CREDIT_BUREAU_YEAR        26\n",
              "AMT_REQ_CREDIT_BUREAU_MON         25\n",
              "HOUR_APPR_PROCESS_START           24\n",
              "CNT_FAM_MEMBERS                   18\n",
              "CNT_CHILDREN                      15\n",
              "AMT_REQ_CREDIT_BUREAU_QRT         12\n",
              "AMT_REQ_CREDIT_BUREAU_WEEK        10\n",
              "AMT_REQ_CREDIT_BUREAU_DAY         10\n",
              "NAME_INCOME_TYPE                   8\n",
              "NAME_TYPE_SUITE                    8\n",
              "AMT_REQ_CREDIT_BUREAU_HOUR         6\n",
              "NAME_HOUSING_TYPE                  6\n",
              "NAME_FAMILY_STATUS                 6\n",
              "NAME_EDUCATION_TYPE                5\n",
              "CODE_GENDER                        3\n",
              "REGION_RATING_CLIENT               3\n",
              "FLAG_PHONE                         2\n",
              "FLAG_EMAIL                         2\n",
              "FLAG_OWN_REALTY                    2\n",
              "FLAG_OWN_CAR                       2\n",
              "NAME_CONTRACT_TYPE                 2\n",
              "TARGET                             2\n",
              "dtype: int64"
            ]
          },
          "metadata": {
            "tags": []
          },
          "execution_count": 25
        }
      ]
    },
    {
      "cell_type": "markdown",
      "metadata": {
        "id": "Eq6GknXYqYpf"
      },
      "source": [
        "## Drop columns"
      ]
    },
    {
      "cell_type": "code",
      "metadata": {
        "colab": {
          "base_uri": "https://localhost:8080/"
        },
        "id": "9b_sVZ-vqDpP",
        "outputId": "d0ce0c1a-f24b-4d3a-cac1-6f5311efd253"
      },
      "source": [
        "# Lets sample the count for variables having unique values\n",
        "def column_analyse(x, df=df): \n",
        "    print(df[x].value_counts(), '\\n', df[x].value_counts()/len(df[x]))\n",
        "\n",
        "column_analyse('TARGET') \n",
        "column_analyse('NAME_CONTRACT_TYPE')\n",
        "column_analyse('FLAG_EMAIL')"
      ],
      "execution_count": 26,
      "outputs": [
        {
          "output_type": "stream",
          "text": [
            "0    282686\n",
            "1     24825\n",
            "Name: TARGET, dtype: int64 \n",
            " 0   0.919\n",
            "1   0.081\n",
            "Name: TARGET, dtype: float64\n",
            "Cash loans         278232\n",
            "Revolving loans     29279\n",
            "Name: NAME_CONTRACT_TYPE, dtype: int64 \n",
            " Cash loans        0.905\n",
            "Revolving loans   0.095\n",
            "Name: NAME_CONTRACT_TYPE, dtype: float64\n",
            "0    290069\n",
            "1     17442\n",
            "Name: FLAG_EMAIL, dtype: int64 \n",
            " 0   0.943\n",
            "1   0.057\n",
            "Name: FLAG_EMAIL, dtype: float64\n"
          ],
          "name": "stdout"
        }
      ]
    },
    {
      "cell_type": "markdown",
      "metadata": {
        "id": "xEfsoPvlqjPL"
      },
      "source": [
        "### Observation\n",
        "\n",
        "* We will remove SK_ID_CURR as it is 100% unique\n",
        "* TARGET, NAME_CONTRACT_TYPE and FLAG_EMAIL are highly imbalanced, more than 90%\n",
        "* AMT_GOODS_PRICE is highly correlated with AMT_CREDIT\n",
        "* ORGANIZATION_TYPE has a high cardinality: 58 distinct values\n",
        "* EXT_SOURCE_2, EXT_SOURCE_3 are too detailed for analysis\n",
        "* ML models should be trained to predict the customer behavior before the loan application is processed, thus AMT_REQ_CREDIT_BUREAU data are removed"
      ]
    },
    {
      "cell_type": "code",
      "metadata": {
        "id": "vOxpn9p5qDnR"
      },
      "source": [
        "delete_cols = ['SK_ID_CURR', 'NAME_CONTRACT_TYPE', 'FLAG_EMAIL', 'FLAG_PHONE',\n",
        "               'AMT_GOODS_PRICE', 'HOUR_APPR_PROCESS_START', 'EXT_SOURCE_2', \n",
        "               'EXT_SOURCE_3', 'AMT_REQ_CREDIT_BUREAU_HOUR', 'ORGANIZATION_TYPE',\n",
        "               'AMT_REQ_CREDIT_BUREAU_DAY', 'AMT_REQ_CREDIT_BUREAU_WEEK', \n",
        "               'AMT_REQ_CREDIT_BUREAU_MON', 'AMT_REQ_CREDIT_BUREAU_QRT', \n",
        "               'AMT_REQ_CREDIT_BUREAU_YEAR']\n",
        "\n",
        "df.drop(delete_cols, axis=1, inplace=True)"
      ],
      "execution_count": 27,
      "outputs": []
    },
    {
      "cell_type": "code",
      "metadata": {
        "colab": {
          "base_uri": "https://localhost:8080/"
        },
        "id": "BsyU2ea4qDjC",
        "outputId": "c5f96a59-8ab5-408f-91a0-14ab13673697"
      },
      "source": [
        "df.shape"
      ],
      "execution_count": 28,
      "outputs": [
        {
          "output_type": "execute_result",
          "data": {
            "text/plain": [
              "(307511, 16)"
            ]
          },
          "metadata": {
            "tags": []
          },
          "execution_count": 28
        }
      ]
    },
    {
      "cell_type": "code",
      "metadata": {
        "colab": {
          "base_uri": "https://localhost:8080/"
        },
        "id": "PFR6J0W5qDfj",
        "outputId": "cfe42c39-af75-4f5b-d1d5-cb92a524c8bd"
      },
      "source": [
        "df.info()"
      ],
      "execution_count": 29,
      "outputs": [
        {
          "output_type": "stream",
          "text": [
            "<class 'pandas.core.frame.DataFrame'>\n",
            "Int64Index: 307511 entries, 0 to 307510\n",
            "Data columns (total 16 columns):\n",
            " #   Column                      Non-Null Count   Dtype  \n",
            "---  ------                      --------------   -----  \n",
            " 0   TARGET                      307511 non-null  int64  \n",
            " 1   CODE_GENDER                 307511 non-null  object \n",
            " 2   FLAG_OWN_CAR                307511 non-null  object \n",
            " 3   FLAG_OWN_REALTY             307511 non-null  object \n",
            " 4   CNT_CHILDREN                307511 non-null  int64  \n",
            " 5   AMT_INCOME_TOTAL            307511 non-null  float64\n",
            " 6   AMT_CREDIT                  307511 non-null  float64\n",
            " 7   AMT_ANNUITY                 307511 non-null  float64\n",
            " 8   NAME_TYPE_SUITE             307511 non-null  object \n",
            " 9   NAME_INCOME_TYPE            307511 non-null  object \n",
            " 10  NAME_EDUCATION_TYPE         307511 non-null  object \n",
            " 11  NAME_FAMILY_STATUS          307511 non-null  object \n",
            " 12  NAME_HOUSING_TYPE           307511 non-null  object \n",
            " 13  REGION_POPULATION_RELATIVE  307511 non-null  float64\n",
            " 14  CNT_FAM_MEMBERS             307511 non-null  float64\n",
            " 15  REGION_RATING_CLIENT        307511 non-null  object \n",
            "dtypes: float64(5), int64(2), object(9)\n",
            "memory usage: 39.9+ MB\n"
          ],
          "name": "stdout"
        }
      ]
    },
    {
      "cell_type": "markdown",
      "metadata": {
        "id": "w67EL0vqZ9Qa"
      },
      "source": [
        "# Exploratory Data Analysis"
      ]
    },
    {
      "cell_type": "code",
      "metadata": {
        "id": "V1Zz-2qIWu3A"
      },
      "source": [
        "for i in df.select_dtypes(include=['object']).columns:\n",
        "    df.drop(labels=i, axis=1, inplace=True)"
      ],
      "execution_count": 30,
      "outputs": []
    },
    {
      "cell_type": "code",
      "metadata": {
        "colab": {
          "base_uri": "https://localhost:8080/",
          "height": 0
        },
        "id": "Cw5M4SHbaLvq",
        "outputId": "d1cf1eba-1290-4f92-9b52-efd543d06e49"
      },
      "source": [
        "# Single Variable Plots\n",
        "figsize=(8, 8)\n",
        "\n",
        "# Histogram of the loss\n",
        "plt.style.use('fivethirtyeight')\n",
        "plt.hist(df['TARGET'], bins = 100, edgecolor = 'k')\n",
        "plt.xlabel('Loss') \n",
        "plt.ylabel('Number of Clients');\n",
        "plt.title('Target Distribution')"
      ],
      "execution_count": 31,
      "outputs": [
        {
          "output_type": "execute_result",
          "data": {
            "text/plain": [
              "Text(0.5, 1.0, 'Target Distribution')"
            ]
          },
          "metadata": {
            "tags": []
          },
          "execution_count": 31
        },
        {
          "output_type": "display_data",
          "data": {
            "image/png": "[encoded data removed]",
            "text/plain": [
              "<Figure size 432x288 with 1 Axes>"
            ]
          },
          "metadata": {
            "tags": []
          }
        }
      ]
    },
    {
      "cell_type": "code",
      "metadata": {
        "colab": {
          "base_uri": "https://localhost:8080/"
        },
        "id": "Jokd5jSkbeyx",
        "outputId": "54d52144-779b-4f53-a28e-a8bafb05efa2"
      },
      "source": [
        "# # Correlations between Features and Target\n",
        "\n",
        "# Find all correlations and sort \n",
        "correlations_data = df.corr()['TARGET'].sort_values()\n",
        "\n",
        "# Print the most positive correlations\n",
        "print(correlations_data.tail(15), '\\n')\n",
        "\n",
        "# Print the most negative correlations\n",
        "print(correlations_data.head(15))"
      ],
      "execution_count": 32,
      "outputs": [
        {
          "output_type": "stream",
          "text": [
            "REGION_POPULATION_RELATIVE   -0.037\n",
            "AMT_CREDIT                   -0.030\n",
            "AMT_ANNUITY                  -0.013\n",
            "AMT_INCOME_TOTAL             -0.004\n",
            "CNT_FAM_MEMBERS              -0.001\n",
            "CNT_CHILDREN                  0.019\n",
            "TARGET                        1.000\n",
            "Name: TARGET, dtype: float64 \n",
            "\n",
            "REGION_POPULATION_RELATIVE   -0.037\n",
            "AMT_CREDIT                   -0.030\n",
            "AMT_ANNUITY                  -0.013\n",
            "AMT_INCOME_TOTAL             -0.004\n",
            "CNT_FAM_MEMBERS              -0.001\n",
            "CNT_CHILDREN                  0.019\n",
            "TARGET                        1.000\n",
            "Name: TARGET, dtype: float64\n"
          ],
          "name": "stdout"
        }
      ]
    },
    {
      "cell_type": "code",
      "metadata": {
        "id": "belT3ZOFc-B_"
      },
      "source": [
        "for i in df.columns:\n",
        "    if len(set(df[i]))==1:\n",
        "        df.drop(labels=[i], axis=1, inplace=True)"
      ],
      "execution_count": 33,
      "outputs": []
    },
    {
      "cell_type": "code",
      "metadata": {
        "colab": {
          "base_uri": "https://localhost:8080/"
        },
        "id": "QL4e4_4udeoy",
        "outputId": "cade8b9e-03c7-4fab-d203-350b26a12aaa"
      },
      "source": [
        "# Find all correlations and sort \n",
        "correlations_data = df.corr()['TARGET'].sort_values()\n",
        "\n",
        "# Print the most positive correlations\n",
        "print(correlations_data.tail(15), '\\n')\n",
        "\n",
        "# Print the most negative correlations\n",
        "print(correlations_data.head(15))"
      ],
      "execution_count": 34,
      "outputs": [
        {
          "output_type": "stream",
          "text": [
            "REGION_POPULATION_RELATIVE   -0.037\n",
            "AMT_CREDIT                   -0.030\n",
            "AMT_ANNUITY                  -0.013\n",
            "AMT_INCOME_TOTAL             -0.004\n",
            "CNT_FAM_MEMBERS              -0.001\n",
            "CNT_CHILDREN                  0.019\n",
            "TARGET                        1.000\n",
            "Name: TARGET, dtype: float64 \n",
            "\n",
            "REGION_POPULATION_RELATIVE   -0.037\n",
            "AMT_CREDIT                   -0.030\n",
            "AMT_ANNUITY                  -0.013\n",
            "AMT_INCOME_TOTAL             -0.004\n",
            "CNT_FAM_MEMBERS              -0.001\n",
            "CNT_CHILDREN                  0.019\n",
            "TARGET                        1.000\n",
            "Name: TARGET, dtype: float64\n"
          ],
          "name": "stdout"
        }
      ]
    },
    {
      "cell_type": "code",
      "metadata": {
        "colab": {
          "base_uri": "https://localhost:8080/"
        },
        "id": "kH3ftfdJpsWP",
        "outputId": "ba49c1b3-56f2-48e8-db2c-c2a9d13cac4f"
      },
      "source": [
        "df.shape"
      ],
      "execution_count": 35,
      "outputs": [
        {
          "output_type": "execute_result",
          "data": {
            "text/plain": [
              "(307511, 7)"
            ]
          },
          "metadata": {
            "tags": []
          },
          "execution_count": 35
        }
      ]
    },
    {
      "cell_type": "markdown",
      "metadata": {
        "id": "pfcz3P2_qQkR"
      },
      "source": [
        "### Feature Engineering and Selection"
      ]
    },
    {
      "cell_type": "code",
      "metadata": {
        "id": "lNJxIaNNp7_w"
      },
      "source": [
        "def remove_collinear_features(x, threshold):\n",
        "    '''\n",
        "    Objective:\n",
        "        Remove collinear features in a dataframe with a correlation coefficient\n",
        "        greater than the threshold. Removing collinear features can help a model\n",
        "        to generalize and improves the interpretability of the model.\n",
        "        \n",
        "    Inputs: \n",
        "        Threshold: any features with correlations greater than this value are removed\n",
        "    \n",
        "    Output: \n",
        "        Dataframe that contains only the non-highly-collinear features\n",
        "    '''\n",
        "    \n",
        "    # Dont want to remove correlations between TARGET\n",
        "    y = x['TARGET']\n",
        "    x = x.drop(columns = ['TARGET'])\n",
        "    \n",
        "    # Calculate the correlation matrix\n",
        "    corr_matrix = x.corr()\n",
        "    iters = range(len(corr_matrix.columns) - 1)\n",
        "    drop_cols = []\n",
        "\n",
        "    # Iterate through the correlation matrix and compare correlations\n",
        "    for i in iters:\n",
        "        for j in range(i):\n",
        "            item = corr_matrix.iloc[j:(j+1), (i+1):(i+2)]\n",
        "            col = item.columns\n",
        "            row = item.index\n",
        "            val = abs(item.values)\n",
        "            \n",
        "            # If correlation exceeds the threshold\n",
        "            if val >= threshold:\n",
        "                # Print the correlated features and the correlation value\n",
        "                # print(col.values[0], \"|\", row.values[0], \"|\", round(val[0][0], 2))\n",
        "                drop_cols.append(col.values[0])\n",
        "\n",
        "    # Drop one of each pair of correlated columns\n",
        "    drops = set(drop_cols)\n",
        "    x = x.drop(columns = drops)\n",
        "    \n",
        "    # Add the score back in to the data\n",
        "    x['TARGET'] = y\n",
        "               \n",
        "    return x"
      ],
      "execution_count": 36,
      "outputs": []
    },
    {
      "cell_type": "code",
      "metadata": {
        "id": "XUr2Xxswq7G4"
      },
      "source": [
        "# Remove the collinear features above a specified correlation coefficient\n",
        "data = remove_collinear_features(df, 0.8);"
      ],
      "execution_count": 37,
      "outputs": []
    },
    {
      "cell_type": "code",
      "metadata": {
        "colab": {
          "base_uri": "https://localhost:8080/"
        },
        "id": "_jJHU7wQrLC1",
        "outputId": "6855f5b0-8546-40ca-cc3d-176cd2983db2"
      },
      "source": [
        "df.shape"
      ],
      "execution_count": 38,
      "outputs": [
        {
          "output_type": "execute_result",
          "data": {
            "text/plain": [
              "(307511, 7)"
            ]
          },
          "metadata": {
            "tags": []
          },
          "execution_count": 38
        }
      ]
    },
    {
      "cell_type": "markdown",
      "metadata": {
        "id": "IChbS19BdNc5"
      },
      "source": [
        "# Split dataset into train and test subsets"
      ]
    },
    {
      "cell_type": "code",
      "metadata": {
        "colab": {
          "base_uri": "https://localhost:8080/"
        },
        "id": "7-Y6_OIarMGP",
        "outputId": "6a44533a-489f-4180-9d98-10b69941f140"
      },
      "source": [
        "# Prepare dataset for training and testing (Stratified)\n",
        "# As our dataset is skewed, stratification is used to allocate\n",
        "# the samples evenly based on sample classes, so that training set and\n",
        "# test set have similiar ratio of classes\n",
        "X = data.drop(columns='TARGET')\n",
        "y = pd.DataFrame(data['TARGET'])\n",
        "\n",
        "# Split into 80% training and 20% testing set\n",
        "X_train, X_test, y_train, y_test = train_test_split(X, y,\n",
        "                                                    stratify=y, \n",
        "                                                    test_size=0.2, \n",
        "                                                    random_state=42\n",
        "                                                    )\n",
        "\n",
        "print(X_train.shape)\n",
        "print(X_test.shape)\n",
        "print(y_train.shape)\n",
        "print(y_test.shape)"
      ],
      "execution_count": 39,
      "outputs": [
        {
          "output_type": "stream",
          "text": [
            "(246008, 6)\n",
            "(61503, 6)\n",
            "(246008, 1)\n",
            "(61503, 1)\n"
          ],
          "name": "stdout"
        }
      ]
    },
    {
      "cell_type": "code",
      "metadata": {
        "id": "LVyV7yYhrp7k"
      },
      "source": [
        "# SMOTE\n",
        "# We want to implement our model on LIVE data\n",
        "# Thus, we add synthetic data to the training set only after splitting our dataset\n",
        "from imblearn.over_sampling import SMOTE\n",
        "smt = SMOTE(random_state=42)"
      ],
      "execution_count": 40,
      "outputs": []
    },
    {
      "cell_type": "code",
      "metadata": {
        "id": "gLGl0-tpr5vS"
      },
      "source": [
        "# Feature Scaling\n",
        "# Scale numeric variables using Robust Scaler that is robust to outliers\n",
        "# Robust Scaler, scales the data in the IQR and ignore the effect of the outliers\n",
        "from sklearn.preprocessing import RobustScaler\n",
        "sc = RobustScaler()\n",
        "X_train = sc.fit_transform(X_train)\n",
        "X_test = sc.fit_transform(X_test)"
      ],
      "execution_count": 41,
      "outputs": []
    },
    {
      "cell_type": "code",
      "metadata": {
        "id": "tQDYCFCxsdbc"
      },
      "source": [
        "# Convert y to one-dimensional array (vector)\n",
        "y_train = np.array(y_train).reshape((-1, ))\n",
        "y_test = np.array(y_test).reshape((-1, ))"
      ],
      "execution_count": 42,
      "outputs": []
    },
    {
      "cell_type": "code",
      "metadata": {
        "colab": {
          "base_uri": "https://localhost:8080/"
        },
        "id": "rrn-BRmSsdXa",
        "outputId": "0160bed5-adbd-4ccf-c216-812094db47cb"
      },
      "source": [
        "X_train"
      ],
      "execution_count": 43,
      "outputs": [
        {
          "output_type": "execute_result",
          "data": {
            "text/plain": [
              "array([[ 2.        , -0.64      , -0.53329156, -0.64767355, -0.56922335,\n",
              "         2.        ],\n",
              "       [ 0.        , -0.64      , -0.65543024, -0.65289873, -0.84584874,\n",
              "         0.        ],\n",
              "       [ 0.        , -0.14      ,  0.39741855,  0.07763125,  0.09985528,\n",
              "        -1.        ],\n",
              "       ...,\n",
              "       [ 0.        , -0.64      , -0.4983208 , -0.02264245,  0.33842526,\n",
              "         0.        ],\n",
              "       [ 0.        , -0.39      ,  0.54807853,  0.11047524, -0.03435708,\n",
              "         0.        ],\n",
              "       [ 0.        , -0.24      ,  0.9959482 ,  0.1634735 ,  0.        ,\n",
              "         0.        ]])"
            ]
          },
          "metadata": {
            "tags": []
          },
          "execution_count": 43
        }
      ]
    },
    {
      "cell_type": "code",
      "metadata": {
        "colab": {
          "base_uri": "https://localhost:8080/"
        },
        "id": "sbNVP3M-sdUM",
        "outputId": "58f25cc3-2dd2-4944-f4e5-3db348916227"
      },
      "source": [
        "X_test"
      ],
      "execution_count": 44,
      "outputs": [
        {
          "output_type": "execute_result",
          "data": {
            "text/plain": [
              "array([[ 1.        ,  0.125     ,  0.4793985 ,  0.31736154, -0.46647371,\n",
              "         1.        ],\n",
              "       [ 0.        , -0.625     , -0.27321637, -0.27728687, -0.61746261,\n",
              "         0.        ],\n",
              "       [ 0.        ,  0.025     , -0.42265664, -0.34822651, -0.23508603,\n",
              "         0.        ],\n",
              "       ...,\n",
              "       [ 1.        ,  2.375     , -0.50536341,  0.11723709, -0.45955941,\n",
              "         1.        ],\n",
              "       [ 0.        ,  2.125     ,  0.7202005 ,  1.16241444, -0.49418449,\n",
              "        -1.        ],\n",
              "       [ 1.        ,  0.875     , -0.46676692,  0.18021157, -0.63407836,\n",
              "         1.        ]])"
            ]
          },
          "metadata": {
            "tags": []
          },
          "execution_count": 44
        }
      ]
    },
    {
      "cell_type": "markdown",
      "metadata": {
        "id": "AfxMX9H0-q6a"
      },
      "source": [
        "# Modeling"
      ]
    },
    {
      "cell_type": "code",
      "metadata": {
        "id": "98A80zOasdQ9"
      },
      "source": [
        "# Models to Evaluate\n",
        "\n",
        "# We will compare five different ML Cassification models:\n",
        "\n",
        "# 1 - Naive Bayes\n",
        "# 2 - Logistic Regression\n",
        "# 2 - Random Forest Classification\n",
        "# 3 - Gradiente Boosting Classification\n",
        "\n",
        "# Function to calculate mean absolute error\n",
        "def cross_val(X_train, y_train, model):\n",
        "    # Applying k-Fold Cross Validation\n",
        "    from sklearn.model_selection import cross_val_score\n",
        "    accuracies = cross_val_score(estimator = model, X = X_train, y = y_train, cv = 5)\n",
        "    return accuracies.mean()\n",
        "\n",
        "\n",
        "# Takes in a model, trains the model, and evaluates the model on the test set\n",
        "def fit_and_evaluate(model):\n",
        "    \n",
        "    # Train the model\n",
        "    model.fit(X_train, y_train)\n",
        "    \n",
        "    # Make predictions and evalute\n",
        "    model_pred = model.predict(X_test)\n",
        "    model_cross = cross_val(X_train, y_train, model)\n",
        "     \n",
        "    # Return the performance metric\n",
        "    return model_cross"
      ],
      "execution_count": 45,
      "outputs": []
    },
    {
      "cell_type": "code",
      "metadata": {
        "colab": {
          "base_uri": "https://localhost:8080/"
        },
        "id": "anvEUrmku7Mr",
        "outputId": "884325df-0a1b-4bcd-9fcc-95ed179e414d"
      },
      "source": [
        "# Naive Bayes\n",
        "from sklearn.naive_bayes import GaussianNB\n",
        "nb = GaussianNB()\n",
        "nb_cross = fit_and_evaluate(nb)\n",
        "\n",
        "print('Naive Bayes Performance on the test set: Cross Validation Score = %0.4f' % nb_cross)"
      ],
      "execution_count": 46,
      "outputs": [
        {
          "output_type": "stream",
          "text": [
            "Naive Bayes Performance on the test set: Cross Validation Score = 0.1273\n"
          ],
          "name": "stdout"
        }
      ]
    },
    {
      "cell_type": "markdown",
      "metadata": {
        "id": "VWJDPSkVmoxn"
      },
      "source": [
        "Cross_val_score takes the dataset and applies cross validation to split the data. Then, train a model using the specified estimator and measure the performance of the model (scoring parameter) i.e 13% for Naive Bayes"
      ]
    },
    {
      "cell_type": "code",
      "metadata": {
        "colab": {
          "base_uri": "https://localhost:8080/"
        },
        "id": "OU7HSuGdcDFD",
        "outputId": "63ff3d0c-82fe-4500-e368-dcf4d08e9ad1"
      },
      "source": [
        "# Logistic Regression\n",
        "from sklearn.linear_model import LogisticRegression\n",
        "lr = LogisticRegression(random_state=42, \n",
        "                        class_weight='balanced',\n",
        "                        n_jobs=-1)\n",
        "lr_cross = fit_and_evaluate(lr)\n",
        "print('Logistic Regression Performance on the test set: Cross Validation Score = %0.4f' % lr_cross)"
      ],
      "execution_count": 47,
      "outputs": [
        {
          "output_type": "stream",
          "text": [
            "Logistic Regression Performance on the test set: Cross Validation Score = 0.5071\n"
          ],
          "name": "stdout"
        }
      ]
    },
    {
      "cell_type": "markdown",
      "metadata": {
        "id": "uZyzM_4ZnL2Z"
      },
      "source": [
        "Cross_val_score takes the dataset and applies cross validation to split the data. Then, train a model using the specified estimator and measure the performance of the model (scoring parameter) i.e 51% for Logistic Regression"
      ]
    },
    {
      "cell_type": "code",
      "metadata": {
        "colab": {
          "base_uri": "https://localhost:8080/"
        },
        "id": "pNs9Y1Posp0v",
        "outputId": "6448caef-75f5-45bd-8231-739fda5ccaee"
      },
      "source": [
        "# Random Forest Classification\n",
        "from sklearn.ensemble import RandomForestClassifier\n",
        "rf = RandomForestClassifier(n_estimators=10,\n",
        "                            class_weight='balanced',\n",
        "                            random_state=42,\n",
        "                            n_jobs=-1, \n",
        "                            criterion='entropy')\n",
        "rf_cross = fit_and_evaluate(rf)\n",
        "\n",
        "print('Random Forest Performance on the test set: Cross Validation Score = %0.4f' % rf_cross)"
      ],
      "execution_count": 48,
      "outputs": [
        {
          "output_type": "stream",
          "text": [
            "Random Forest Performance on the test set: Cross Validation Score = 0.9086\n"
          ],
          "name": "stdout"
        }
      ]
    },
    {
      "cell_type": "markdown",
      "metadata": {
        "id": "QkT5-YpznStQ"
      },
      "source": [
        "Cross_val_score takes the dataset and applies cross validation to split the data. Then, train a model using the specified estimator and measure the performance of the model (scoring parameter) i.e 91% for Random Forest"
      ]
    },
    {
      "cell_type": "code",
      "metadata": {
        "colab": {
          "base_uri": "https://localhost:8080/"
        },
        "id": "RqkPXEabsptf",
        "outputId": "215adf39-30e7-4951-e647-e7c9edabce78"
      },
      "source": [
        "# Gradiente Boosting Classification\n",
        "from xgboost import XGBClassifier\n",
        "gb = XGBClassifier(random_state=42,\n",
        "                   n_estimators=200)\n",
        "gb_cross = fit_and_evaluate(gb)\n",
        "\n",
        "print('Gradiente Boosting Classification Performance on the test set: Cross Validation Score = %0.4f' % gb_cross)"
      ],
      "execution_count": 49,
      "outputs": [
        {
          "output_type": "stream",
          "text": [
            "Gradiente Boosting Classification Performance on the test set: Cross Validation Score = 0.9193\n"
          ],
          "name": "stdout"
        }
      ]
    },
    {
      "cell_type": "markdown",
      "metadata": {
        "id": "uSGXRkxknYek"
      },
      "source": [
        "Cross_val_score takes the dataset and applies cross validation to split the data. Then, train a model using the specified estimator and measure the performance of the model (scoring parameter) i.e 92% for Gradient Boosting"
      ]
    },
    {
      "cell_type": "code",
      "metadata": {
        "id": "YQ_N-BB9lqip"
      },
      "source": [
        ""
      ],
      "execution_count": 49,
      "outputs": []
    }
  ]
}